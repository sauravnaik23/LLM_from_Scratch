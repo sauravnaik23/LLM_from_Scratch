{
 "cells": [
  {
   "cell_type": "code",
   "execution_count": 11,
   "metadata": {},
   "outputs": [],
   "source": [
    "from dataset import get_dataloader, GPTTokenizer\n",
    "from model import GPTModel, model_inference, train_model, generate, stream_response\n",
    "from config import CUSTOM_GPT_CONFIG, GPT2_CONFIG\n",
    "from torchinfo import summary\n",
    "from torch.nn import functional as F\n",
    "from torch import optim\n",
    "from tqdm import tqdm\n",
    "from rich import print as pprint\n",
    "from torch import tensor\n",
    "import torch"
   ]
  },
  {
   "cell_type": "code",
   "execution_count": 2,
   "metadata": {},
   "outputs": [
    {
     "data": {
      "text/plain": [
       "486582"
      ]
     },
     "execution_count": 2,
     "metadata": {},
     "output_type": "execute_result"
    }
   ],
   "source": [
    "## reading the text\n",
    "with open('data.txt','r') as f:\n",
    "    training_text = f.read()\n",
    "len(training_text)\n",
    "\n",
    "# validation_text = training_text[-20000:]\n",
    "# training_text = training_text[:-20000]"
   ]
  },
  {
   "cell_type": "code",
   "execution_count": 3,
   "metadata": {},
   "outputs": [],
   "source": [
    "train_loader = get_dataloader(training_text,\n",
    "                              batch_size=8,\n",
    "                              context_size=256,\n",
    "                              stride=256,\n",
    "                              shuffle = True)\n"
   ]
  },
  {
   "cell_type": "code",
   "execution_count": 4,
   "metadata": {},
   "outputs": [],
   "source": [
    "model = GPTModel(CUSTOM_GPT_CONFIG)"
   ]
  },
  {
   "cell_type": "code",
   "execution_count": 13,
   "metadata": {},
   "outputs": [
    {
     "data": {
      "text/plain": [
       "<All keys matched successfully>"
      ]
     },
     "execution_count": 13,
     "metadata": {},
     "output_type": "execute_result"
    }
   ],
   "source": [
    "model.load_state_dict(torch.load(\"saved_models/GPT_V1\"))"
   ]
  },
  {
   "cell_type": "code",
   "execution_count": 14,
   "metadata": {},
   "outputs": [],
   "source": [
    "prompts = [\"Marry had a little lamb\"]*3"
   ]
  },
  {
   "cell_type": "code",
   "execution_count": 15,
   "metadata": {},
   "outputs": [],
   "source": [
    "res = generate(prompts=prompts,\n",
    "         model = model,\n",
    "         max_new_tokens=20,\n",
    "         temp = 0.1,\n",
    "         DEVICE='mps')"
   ]
  },
  {
   "cell_type": "code",
   "execution_count": 16,
   "metadata": {},
   "outputs": [
    {
     "data": {
      "text/html": [
       "<pre style=\"white-space:pre;overflow-x:auto;line-height:normal;font-family:Menlo,'DejaVu Sans Mono',consolas,'Courier New',monospace\"><span style=\"font-weight: bold\">{</span>\n",
       "    <span style=\"color: #008000; text-decoration-color: #008000\">'resp_1'</span>: <span style=\"color: #008000; text-decoration-color: #008000\">'Marry had a little lamb which,\\nsome others likely of more difficulty. Do!\\n seldom whollys work. We</span>\n",
       "<span style=\"color: #008000; text-decoration-color: #008000\">includes'</span>,\n",
       "    <span style=\"color: #008000; text-decoration-color: #008000\">'resp_2'</span>: <span style=\"color: #008000; text-decoration-color: #008000\">'Marry had a little lamb and son special and home if all—History, reports float for all Miss on </span>\n",
       "<span style=\"color: #008000; text-decoration-color: #008000\">tverseabsolutely g'</span>,\n",
       "    <span style=\"color: #008000; text-decoration-color: #008000\">'resp_3'</span>: <span style=\"color: #008000; text-decoration-color: #008000\">'Marry had a little lamb; sure whether Was heroicfully either, soony earth, Mr— coun heroine—to bow </span>\n",
       "<span style=\"color: #008000; text-decoration-color: #008000\">or'</span>\n",
       "<span style=\"font-weight: bold\">}</span>\n",
       "</pre>\n"
      ],
      "text/plain": [
       "\u001b[1m{\u001b[0m\n",
       "    \u001b[32m'resp_1'\u001b[0m: \u001b[32m'Marry had a little lamb which,\\nsome others likely of more difficulty. Do!\\n seldom whollys work. We\u001b[0m\n",
       "\u001b[32mincludes'\u001b[0m,\n",
       "    \u001b[32m'resp_2'\u001b[0m: \u001b[32m'Marry had a little lamb and son special and home if all—History, reports float for all Miss on \u001b[0m\n",
       "\u001b[32mtverseabsolutely g'\u001b[0m,\n",
       "    \u001b[32m'resp_3'\u001b[0m: \u001b[32m'Marry had a little lamb; sure whether Was heroicfully either, soony earth, Mr— coun heroine—to bow \u001b[0m\n",
       "\u001b[32mor'\u001b[0m\n",
       "\u001b[1m}\u001b[0m\n"
      ]
     },
     "metadata": {},
     "output_type": "display_data"
    }
   ],
   "source": [
    "pprint(res)"
   ]
  },
  {
   "cell_type": "code",
   "execution_count": 18,
   "metadata": {},
   "outputs": [
    {
     "name": "stderr",
     "output_type": "stream",
     "text": [
      "                                                          \r"
     ]
    },
    {
     "name": "stdout",
     "output_type": "stream",
     "text": [
      "EPOCH : 1 | Epoch Loss : 6.640303058900695\n"
     ]
    },
    {
     "ename": "ValueError",
     "evalue": "too many values to unpack (expected 2)",
     "output_type": "error",
     "traceback": [
      "\u001b[0;31m---------------------------------------------------------------------------\u001b[0m",
      "\u001b[0;31mValueError\u001b[0m                                Traceback (most recent call last)",
      "Cell \u001b[0;32mIn[18], line 1\u001b[0m\n\u001b[0;32m----> 1\u001b[0m model, optimizer \u001b[39m=\u001b[39m  train_model(model \u001b[39m=\u001b[39m model,\n\u001b[1;32m      2\u001b[0m                     optimizer\u001b[39m=\u001b[39m optim\u001b[39m.\u001b[39mAdamW(model\u001b[39m.\u001b[39mparameters(), lr \u001b[39m=\u001b[39m \u001b[39m0.1\u001b[39m),\n\u001b[1;32m      3\u001b[0m                     train_loader\u001b[39m=\u001b[39mtrain_loader,\n\u001b[1;32m      4\u001b[0m                     epochs \u001b[39m=\u001b[39m \u001b[39m1\u001b[39m,\n\u001b[1;32m      5\u001b[0m                     DEVICE\u001b[39m=\u001b[39m\u001b[39m'\u001b[39m\u001b[39mmps\u001b[39m\u001b[39m'\u001b[39m)\n",
      "\u001b[0;31mValueError\u001b[0m: too many values to unpack (expected 2)"
     ]
    }
   ],
   "source": [
    "model, optimizer =  train_model(model = model,\n",
    "                    optimizer= optim.AdamW(model.parameters(), lr = 0.1),\n",
    "                    train_loader=train_loader,\n",
    "                    epochs = 1,\n",
    "                    DEVICE='mps')"
   ]
  },
  {
   "cell_type": "code",
   "execution_count": null,
   "metadata": {},
   "outputs": [],
   "source": []
  }
 ],
 "metadata": {
  "kernelspec": {
   "display_name": "base",
   "language": "python",
   "name": "python3"
  },
  "language_info": {
   "codemirror_mode": {
    "name": "ipython",
    "version": 3
   },
   "file_extension": ".py",
   "mimetype": "text/x-python",
   "name": "python",
   "nbconvert_exporter": "python",
   "pygments_lexer": "ipython3",
   "version": "3.10.10"
  },
  "orig_nbformat": 4
 },
 "nbformat": 4,
 "nbformat_minor": 2
}
