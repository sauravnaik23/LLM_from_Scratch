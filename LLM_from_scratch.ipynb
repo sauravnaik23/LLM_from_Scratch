{
 "cells": [
  {
   "cell_type": "code",
   "execution_count": 3,
   "metadata": {},
   "outputs": [],
   "source": [
    "with open('data.txt','r') as f:\n",
    "    raw_text = f.read()"
   ]
  },
  {
   "cell_type": "code",
   "execution_count": 4,
   "metadata": {},
   "outputs": [
    {
     "name": "stdout",
     "output_type": "stream",
     "text": [
      "in the United States and\n",
      "most other parts of the world at no cost and with almost no restrictions\n",
      "wh\n"
     ]
    }
   ],
   "source": [
    "print(raw_text[100:200])"
   ]
  },
  {
   "cell_type": "code",
   "execution_count": 5,
   "metadata": {},
   "outputs": [
    {
     "name": "stdout",
     "output_type": "stream",
     "text": [
      "Total Number of characters: 92874\n"
     ]
    }
   ],
   "source": [
    "print(f\"Total Number of characters: {len(raw_text)}\")"
   ]
  },
  {
   "attachments": {},
   "cell_type": "markdown",
   "metadata": {},
   "source": [
    "## Word Tokenization"
   ]
  },
  {
   "cell_type": "code",
   "execution_count": 6,
   "metadata": {},
   "outputs": [
    {
     "data": {
      "text/plain": [
       "['The',\n",
       " 'suppose',\n",
       " 'kid',\n",
       " 'PGLAF',\n",
       " 'Rock',\n",
       " '“‘The',\n",
       " 'words--',\n",
       " 'antagonizers',\n",
       " 'New',\n",
       " 'willing',\n",
       " 'stay',\n",
       " 'some',\n",
       " 'Oil',\n",
       " 'staggers',\n",
       " 'arms',\n",
       " 'about',\n",
       " 'Them',\n",
       " 'layout',\n",
       " '“Full',\n",
       " 'organization']"
      ]
     },
     "execution_count": 6,
     "metadata": {},
     "output_type": "execute_result"
    }
   ],
   "source": [
    "import re\n",
    "vocab = list(set([item.strip() for item in re.split(r'([,.”?/()\\'’]|\\s)',raw_text) if item.strip()]))\n",
    "vocab[:20]"
   ]
  },
  {
   "cell_type": "code",
   "execution_count": 7,
   "metadata": {},
   "outputs": [
    {
     "name": "stdout",
     "output_type": "stream",
     "text": [
      "Number of tokens::3361\n"
     ]
    }
   ],
   "source": [
    "## Creating token IDs\n",
    "idx2str = {idx:token for idx,token in enumerate(vocab)}\n",
    "idx2str[len(idx2str)] = \"<UNK>\"\n",
    "idx2str[len(idx2str)] = \"<|eot|>\"\n",
    "str2idx = {token:idx for idx,token in idx2str.items()}\n",
    "\n",
    "print(f\"Number of tokens::{len(idx2str)}\")"
   ]
  },
  {
   "cell_type": "code",
   "execution_count": 8,
   "metadata": {},
   "outputs": [],
   "source": [
    "## Creating a custom tokenizer class\n",
    "\n",
    "class CustomTokenizerV1():\n",
    "    def __init__(self, vocab, special_tokens = [\"<|eot|>\",\"<|cls|>\",\"<|sep|>\"]):\n",
    "        self.idx2str = {idx:token for idx,token in enumerate(vocab)}\n",
    "        ## adding special tokens\n",
    "        self.idx2str[len(self.idx2str)] = \"<|unk|>\"\n",
    "        for tok in special_tokens:\n",
    "            self.idx2str[len(self.idx2str)] = tok\n",
    "        self.str2idx = {token:idx for idx,token in self.idx2str.items()}\n",
    "        assert len(self.idx2str) == len(self.str2idx)\n",
    "        print(f\"Total Number of tokens::{len(self.idx2str)}\", end = \"\\n\\n\")\n",
    "        print(f\"-\"*10 + \" \"+ \"Special Tokens\" + \"-\"*10, end = '\\n\\n')\n",
    "        for tok in special_tokens:\n",
    "            print(f\"Token ID for {tok}::{self.str2idx[tok]}\")\n",
    "\n",
    "    def encode(self,seq):\n",
    "        preprocessed = [item.strip() for item in re.split(r'([,.”?/()\\'’]|\\s)',seq) if item.strip()]\n",
    "        tokenized = [self.str2idx.get(tok,self.str2idx.get(\"<|unk|>\")) for tok in preprocessed]\n",
    "        return tokenized\n",
    "\n",
    "    def decode(self, tok_seq):\n",
    "        text = ' '.join([self.idx2str.get(item) for item in tok_seq])\n",
    "        text = re.sub(r'([,.”?/()\\'’]|\\s)',r'\\1',text)\n",
    "        return text\n"
   ]
  },
  {
   "cell_type": "code",
   "execution_count": 9,
   "metadata": {},
   "outputs": [
    {
     "name": "stdout",
     "output_type": "stream",
     "text": [
      "Total Number of tokens::3363\n",
      "\n",
      "---------- Special Tokens----------\n",
      "\n",
      "Token ID for <|eot|>::3360\n",
      "Token ID for <|cls|>::3361\n",
      "Token ID for <|sep|>::3362\n"
     ]
    },
    {
     "data": {
      "text/plain": [
       "'How are you doing <|unk|> ?'"
      ]
     },
     "execution_count": 9,
     "metadata": {},
     "output_type": "execute_result"
    }
   ],
   "source": [
    "tokenizer = CustomTokenizerV1(vocab)\n",
    "seq = \"How are you doing charles?\"\n",
    "ids = tokenizer.encode(seq)\n",
    "tokenizer.decode(ids)\n",
    "\n"
   ]
  },
  {
   "cell_type": "code",
   "execution_count": 10,
   "metadata": {},
   "outputs": [
    {
     "name": "stdout",
     "output_type": "stream",
     "text": [
      "How\n",
      " are\n",
      " you\n",
      " doing\n",
      " char\n",
      "les\n",
      "?\n",
      "<|endoftext|>\n"
     ]
    }
   ],
   "source": [
    "## using sub-word tokenization from tiktoken (Byte Pair Encoding)\n",
    "import tiktoken\n",
    "tokenizer_subword = tiktoken.get_encoding(\"gpt2\")\n",
    "seq = \"How are you doing charles?<|endoftext|>\"\n",
    "ids = tokenizer_subword.encode(seq, allowed_special={\"<|endoftext|>\"})\n",
    "for id_ in ids:\n",
    "    print(tokenizer_subword.decode([id_]))\n"
   ]
  },
  {
   "attachments": {},
   "cell_type": "markdown",
   "metadata": {},
   "source": [
    "## BPE Encoding (Sub-Word Tokenization)"
   ]
  },
  {
   "cell_type": "code",
   "execution_count": 11,
   "metadata": {},
   "outputs": [
    {
     "name": "stdout",
     "output_type": "stream",
     "text": [
      "Total number of tokens post encoding::29698\n"
     ]
    }
   ],
   "source": [
    "\n",
    "with open('data.txt','r') as f:\n",
    "    raw_text = f.read()\n",
    "\n",
    "encoded = tokenizer_subword.encode(raw_text)\n",
    "print(f\"Total number of tokens post encoding::{len(encoded)}\")"
   ]
  },
  {
   "cell_type": "code",
   "execution_count": 12,
   "metadata": {},
   "outputs": [
    {
     "name": "stdout",
     "output_type": "stream",
     "text": [
      "train samples::[464, 4935, 20336, 46566, 286]\n",
      "test samples::[4935, 20336, 46566, 286, 1649]\n"
     ]
    }
   ],
   "source": [
    "context_size = 5\n",
    "X = encoded[:context_size]\n",
    "y = encoded[1:context_size+1]\n",
    "print(f\"train samples::{X}\")\n",
    "print(f\"test samples::{y}\")"
   ]
  },
  {
   "attachments": {},
   "cell_type": "markdown",
   "metadata": {},
   "source": [
    "## Creating DataLoader with Sub-Word tokenization"
   ]
  },
  {
   "cell_type": "code",
   "execution_count": 13,
   "metadata": {},
   "outputs": [],
   "source": [
    "from typing import Any\n",
    "from torch.utils.data import Dataset, DataLoader\n",
    "from torch import tensor, arange\n",
    "\n",
    "class GPTDatasetV1(Dataset):\n",
    "\n",
    "    def __init__(self, txt, context_size, stride, tokenizer):\n",
    "        self.input_ids = []\n",
    "        self.output_ids = []\n",
    "        ## tokenizing the entire text\n",
    "        token_ids = tokenizer.encode(txt, allowed_special={\"<|endoftext|>\"})\n",
    "        ## looping over the sequences\n",
    "        for i in range(0, len(token_ids) - context_size, stride):\n",
    "            input_chunk = token_ids[i:i+context_size]\n",
    "            target_chunk = token_ids[i+1:i+context_size+1]\n",
    "            self.input_ids.append(tensor(input_chunk))\n",
    "            self.output_ids.append(tensor(target_chunk))\n",
    "\n",
    "    def __len__(self):\n",
    "        return len(self.input_ids)\n",
    "\n",
    "    def __getitem__(self, idx):\n",
    "        return {\"x\":self.input_ids[idx],\n",
    "                \"y\":self.output_ids[idx]}\n",
    "\n",
    "\n",
    "def get_dataloader(txt, batch_size = 4, context_size = 1024, stride = 512,\n",
    "                   shuffle = True, drop_last = True, num_workers = 0):\n",
    "    '''Creates a dataloader object'''\n",
    "    ## loading the sub-word tokenizer\n",
    "    tokenizer = tiktoken.get_encoding(\"gpt2\")\n",
    "    ## creating dataset oject\n",
    "    dataset = GPTDatasetV1(txt, tokenizer=tokenizer,\n",
    "                           context_size=context_size, stride=stride)\n",
    "    ## creating the dataloader object\n",
    "    dataloader = DataLoader(dataset,batch_size=batch_size,\n",
    "                            drop_last=drop_last,\n",
    "                            num_workers=num_workers,\n",
    "                            shuffle = shuffle)\n",
    "    return dataloader"
   ]
  },
  {
   "cell_type": "code",
   "execution_count": 14,
   "metadata": {},
   "outputs": [],
   "source": [
    "loader = get_dataloader(raw_text, batch_size=8, \n",
    "                        context_size=1024, stride=512)\n"
   ]
  },
  {
   "cell_type": "code",
   "execution_count": 15,
   "metadata": {},
   "outputs": [
    {
     "name": "stdout",
     "output_type": "stream",
     "text": [
      "Input Tensor\n",
      "tensor([[  314, 43851,    13,  ...,   402,  1647,   263],\n",
      "        [  220,   220,   220,  ...,    11,   198,  4360],\n",
      "        [  735,    13, 20494,  ...,   314,  7893,    13],\n",
      "        ...,\n",
      "        [  220,   220,   220,  ...,   775,  4539,   656],\n",
      "        [   13,   198,   198,  ...,  5102,   880,   340],\n",
      "        [ 4565,  2499,    11,  ...,   649,   304, 30650]])\n",
      "Input Tensor Shape::torch.Size([8, 1024])\n",
      "--------------------\n",
      "Output Tensor\n",
      "tensor([[43851,    13,   314,  ...,  1647,   263, 13663],\n",
      "        [  220,   220,   220,  ...,   198,  4360,   314],\n",
      "        [   13, 20494,   481,  ...,  7893,    13,   198],\n",
      "        ...,\n",
      "        [  220,   220,   220,  ...,  4539,   656,  1446],\n",
      "        [  198,   198,   447,  ...,   880,   340, 18959],\n",
      "        [ 2499,    11, 23585,  ...,   304, 30650,    13]])\n",
      "Output Tensor Shape::torch.Size([8, 1024])\n"
     ]
    }
   ],
   "source": [
    "for batch in loader:\n",
    "    print(\"Input Tensor\",batch[\"x\"],f\"Input Tensor Shape::{batch['x'].shape}\",sep = \"\\n\")\n",
    "    print(\"--\"*10)\n",
    "    print(\"Output Tensor\",batch[\"y\"],f\"Output Tensor Shape::{batch['y'].shape}\",sep = \"\\n\")\n",
    "    break"
   ]
  },
  {
   "attachments": {},
   "cell_type": "markdown",
   "metadata": {},
   "source": [
    "## Token Embedding"
   ]
  },
  {
   "cell_type": "code",
   "execution_count": 16,
   "metadata": {},
   "outputs": [
    {
     "data": {
      "text/plain": [
       "torch.Size([50257, 768])"
      ]
     },
     "execution_count": 16,
     "metadata": {},
     "output_type": "execute_result"
    }
   ],
   "source": [
    "\n",
    "from torch.nn import Embedding, LSTM, RNN\n",
    "from torch.optim import Adam, RMSprop, SGD\n",
    "vocab_size = tokenizer_subword.n_vocab\n",
    "embedding_dim = 768\n",
    "\n",
    "embedding_layer = Embedding(vocab_size, embedding_dim)\n",
    "embedding_layer.weight.shape"
   ]
  },
  {
   "cell_type": "code",
   "execution_count": 17,
   "metadata": {},
   "outputs": [
    {
     "data": {
      "text/plain": [
       "torch.Size([1, 6, 768])"
      ]
     },
     "execution_count": 17,
     "metadata": {},
     "output_type": "execute_result"
    }
   ],
   "source": [
    "embedding_layer(tensor([[1,2,3, 9 ,8 ,22]])).shape"
   ]
  },
  {
   "cell_type": "code",
   "execution_count": 18,
   "metadata": {},
   "outputs": [
    {
     "data": {
      "text/plain": [
       "torch.Size([8, 1024, 768])"
      ]
     },
     "execution_count": 18,
     "metadata": {},
     "output_type": "execute_result"
    }
   ],
   "source": [
    "embedding_layer(batch['x']).shape"
   ]
  },
  {
   "attachments": {},
   "cell_type": "markdown",
   "metadata": {},
   "source": [
    "## Positional Embedding/Encoding"
   ]
  },
  {
   "cell_type": "code",
   "execution_count": 19,
   "metadata": {},
   "outputs": [],
   "source": [
    "## Positional Embeddings (Absolute Positional Encoding)\n",
    "context_size = 1024\n",
    "embedding_dim = 768\n",
    "pos_embedding_layer = Embedding(context_size, embedding_dim)"
   ]
  },
  {
   "cell_type": "code",
   "execution_count": 20,
   "metadata": {},
   "outputs": [
    {
     "data": {
      "text/plain": [
       "torch.Size([1024, 768])"
      ]
     },
     "execution_count": 20,
     "metadata": {},
     "output_type": "execute_result"
    }
   ],
   "source": [
    "pos_embedding_layer(arange(context_size)).shape"
   ]
  },
  {
   "cell_type": "code",
   "execution_count": 21,
   "metadata": {},
   "outputs": [
    {
     "name": "stdout",
     "output_type": "stream",
     "text": [
      "Embedding Shape::torch.Size([8, 1024, 768])\n",
      "Positional Embedding::torch.Size([1024, 768])\n",
      "Embeddings + Positional Embedding::torch.Size([8, 1024, 768])\n"
     ]
    }
   ],
   "source": [
    "embeddings = embedding_layer(batch['x'])\n",
    "print(f\"Embedding Shape::{embeddings.shape}\")\n",
    "pos_embeddings = pos_embedding_layer(arange(context_size))\n",
    "print(f\"Positional Embedding::{pos_embeddings.shape}\")\n",
    "final_input_embedding = embeddings + pos_embeddings\n",
    "print(f\"Embeddings + Positional Embedding::{final_input_embedding.shape}\") # this will be the input to the self attention layer"
   ]
  },
  {
   "attachments": {},
   "cell_type": "markdown",
   "metadata": {},
   "source": [
    "## Attention Mechanisms"
   ]
  },
  {
   "attachments": {},
   "cell_type": "markdown",
   "metadata": {},
   "source": [
    "### 1. Simplified Attention Mechanism **(No Trainable Weights)**\n",
    "- Converting **Embedding Vectors** to **Context Vectors**"
   ]
  },
  {
   "cell_type": "code",
   "execution_count": 22,
   "metadata": {},
   "outputs": [],
   "source": [
    "text = \"I see skies of green, red roses too\"\n",
    "token_ids = tokenizer_subword.encode(text)"
   ]
  },
  {
   "cell_type": "code",
   "execution_count": 23,
   "metadata": {},
   "outputs": [
    {
     "name": "stdout",
     "output_type": "stream",
     "text": [
      "Token IDs::[40, 766, 24091, 286, 4077, 11, 2266, 42152, 1165]\n",
      "Decoded Token IDs::I see skies of green, red roses too\n"
     ]
    }
   ],
   "source": [
    "print(f\"Token IDs::{token_ids}\")\n",
    "print(f\"Decoded Token IDs::{tokenizer_subword.decode(token_ids)}\")"
   ]
  },
  {
   "cell_type": "code",
   "execution_count": 24,
   "metadata": {},
   "outputs": [],
   "source": [
    "## Creating an embedding layer\n",
    "VOCAB_SIZE = tokenizer_subword.n_vocab # Vocab Size of the sub-word tokenizer\n",
    "EMBEDDING_SIZE = 3 # For Simplicity embedding each token into a 3-Dimensional Space\n",
    "embedding_layer = Embedding(VOCAB_SIZE, EMBEDDING_SIZE)"
   ]
  },
  {
   "cell_type": "code",
   "execution_count": 25,
   "metadata": {},
   "outputs": [
    {
     "data": {
      "text/plain": [
       "torch.Size([9, 3])"
      ]
     },
     "execution_count": 25,
     "metadata": {},
     "output_type": "execute_result"
    }
   ],
   "source": [
    "## Creating Embedding of our tokens\n",
    "embeddings = embedding_layer(tensor(token_ids))\n",
    "embeddings.shape"
   ]
  },
  {
   "cell_type": "code",
   "execution_count": 26,
   "metadata": {},
   "outputs": [
    {
     "name": "stdout",
     "output_type": "stream",
     "text": [
      "I --> [-0.0192215  1.8384664 -0.8756974]\n",
      "see --> [-0.28350946  0.33698788 -1.6581899 ]\n",
      "skies --> [ 0.45868814  0.06109072 -0.3899582 ]\n",
      "of --> [ 1.0373682  -1.5015938  -0.13098498]\n",
      "green --> [ 1.4859557  -0.09925665 -1.7570134 ]\n",
      ", --> [-1.1492958   0.47446415 -0.41375703]\n",
      "red --> [0.25665745 0.26500484 0.6563606 ]\n",
      "roses --> [-0.9418719   0.55742776  0.95664483]\n",
      "too --> [0.97905517 0.10777056 1.7842482 ]\n"
     ]
    }
   ],
   "source": [
    "embeddings = embeddings.detach().numpy().reshape(-1,3)\n",
    "for emb, tok in zip(embeddings,token_ids):\n",
    "    print(f\"{tokenizer_subword.decode([tok]).strip()} --> {emb}\")\n",
    "\n"
   ]
  },
  {
   "cell_type": "code",
   "execution_count": 27,
   "metadata": {},
   "outputs": [
    {
     "name": "stderr",
     "output_type": "stream",
     "text": [
      "/Users/sauravnaik/miniconda3/lib/python3.10/site-packages/pandas/core/arrays/masked.py:60: UserWarning: Pandas requires version '1.3.6' or newer of 'bottleneck' (version '1.3.5' currently installed).\n",
      "  from pandas.core import (\n"
     ]
    },
    {
     "data": {
      "image/png": "[encoded data removed]",
      "text/plain": [
       "<Figure size 640x480 with 2 Axes>"
      ]
     },
     "metadata": {},
     "output_type": "display_data"
    },
    {
     "data": {
      "image/png": "[encoded data removed]",
      "text/plain": [
       "<Figure size 640x480 with 2 Axes>"
      ]
     },
     "metadata": {},
     "output_type": "display_data"
    }
   ],
   "source": [
    "import seaborn as sns\n",
    "import numpy as np\n",
    "from matplotlib import pyplot as plt\n",
    "\n",
    "def softmax(mat):\n",
    "    '''Softmax as implemented in pytorch'''\n",
    "    num_ =  np.exp(mat-np.max(mat, axis=1, keepdims=True))\n",
    "    denom_ = np.sum(num_, axis=1, keepdims=True)\n",
    "    return num_/denom_\n",
    "\n",
    "\n",
    "labels = [tokenizer_subword.decode([i]) for i in token_ids]\n",
    "attention_scores = embeddings @ embeddings.T\n",
    "# Normalizing the attention scores by dividing by sum of the corresponding rows\n",
    "normalized_attention_scores = attention_scores/np.sum(attention_scores, axis=1, keepdims=True)\n",
    "## Plotting the HeatMap for the Normalized Attention Scores\n",
    "sns.heatmap(normalized_attention_scores, annot=True, cmap='gray',\n",
    "            xticklabels=labels,\n",
    "            yticklabels=labels)\n",
    "plt.title(\"Normalized Attention Scores (Divison by Row Sum)\")\n",
    "plt.show();\n",
    "\n",
    "softmaxed_attention_scores = softmax(attention_scores)\n",
    "sns.heatmap(softmaxed_attention_scores, annot=True, cmap='gray',\n",
    "            xticklabels=labels,\n",
    "            yticklabels=labels)\n",
    "plt.title(\"Softmaxed Attention Scores\")\n",
    "plt.show();"
   ]
  },
  {
   "cell_type": "code",
   "execution_count": 28,
   "metadata": {},
   "outputs": [
    {
     "name": "stdout",
     "output_type": "stream",
     "text": [
      "I --> [-0.02182045  1.4685686  -0.9098969 ]\n",
      "see --> [ 0.20763461  0.46775886 -1.3481883 ]\n",
      "skies --> [ 0.5600337   0.13395487 -0.74485564]\n",
      "of --> [ 1.0371732  -1.0496182  -0.33135396]\n",
      "green --> [ 1.3322821  -0.08220269 -1.6553109 ]\n",
      ", --> [-0.5003851   0.68457705 -0.50020987]\n",
      "red --> [0.34647992 0.23579754 0.63949126]\n",
      "roses --> [-0.45276245  0.5098931   0.5984289 ]\n",
      "too --> [0.864704   0.09626692 1.5962224 ]\n"
     ]
    }
   ],
   "source": [
    "context_embeddings = softmaxed_attention_scores @ embeddings\n",
    "for emb, tok in zip(context_embeddings,token_ids):\n",
    "    print(f\"{tokenizer_subword.decode([tok]).strip()} --> {emb}\")"
   ]
  },
  {
   "attachments": {},
   "cell_type": "markdown",
   "metadata": {},
   "source": [
    "#### Same stuff but using pytorch"
   ]
  },
  {
   "cell_type": "code",
   "execution_count": 29,
   "metadata": {},
   "outputs": [
    {
     "name": "stdout",
     "output_type": "stream",
     "text": [
      "I --> [-0.02182045  1.4685684  -0.90989685]\n",
      "see --> [ 0.20763461  0.46775886 -1.3481883 ]\n",
      "skies --> [ 0.5600337   0.13395488 -0.74485564]\n",
      "of --> [ 1.0371732 -1.0496182 -0.331354 ]\n",
      "green --> [ 1.3322821  -0.08220269 -1.6553109 ]\n",
      ", --> [-0.50038517  0.68457717 -0.5002098 ]\n",
      "red --> [0.3464799  0.2357975  0.63949126]\n",
      "roses --> [-0.45276245  0.5098931   0.5984289 ]\n",
      "too --> [0.8647039  0.09626691 1.5962222 ]\n"
     ]
    }
   ],
   "source": [
    "import torch\n",
    "attn_scores = embeddings @ embeddings.T\n",
    "attn_weights = torch.softmax(tensor(attn_scores), dim = -1)\n",
    "context_embeddings = attn_weights @ embeddings\n",
    "for emb, tok in zip(context_embeddings,token_ids):\n",
    "    print(f\"{tokenizer_subword.decode([tok]).strip()} --> {emb.detach().numpy()}\")"
   ]
  },
  {
   "attachments": {},
   "cell_type": "markdown",
   "metadata": {},
   "source": [
    "#### We observe our calculations give us similar results"
   ]
  },
  {
   "attachments": {},
   "cell_type": "markdown",
   "metadata": {},
   "source": [
    "#### Why the need for Trainable Weights?"
   ]
  },
  {
   "attachments": {},
   "cell_type": "markdown",
   "metadata": {},
   "source": [
    "### 2. Self Attention Mechanism **(With Trainable Weights)**\n",
    "- Converting **Embedding Vectors** to **Context Vectors**\n",
    "- Creating *Query*, *Key* and *Value* matrices **(Trainable Weights)**"
   ]
  },
  {
   "cell_type": "code",
   "execution_count": 30,
   "metadata": {},
   "outputs": [],
   "source": [
    "torch.manual_seed(123)\n",
    "d_in = EMBEDDING_SIZE\n",
    "d_out = 2\n",
    "w_Q = torch.nn.Parameter(torch.rand(d_in, d_out), requires_grad=False)# Query Weight Matrix\n",
    "w_K = torch.nn.Parameter(torch.rand(d_in, d_out), requires_grad=False)# Key Weight Matrix\n",
    "w_V = torch.nn.Parameter(torch.rand(d_in, d_out), requires_grad=False)# Value Weight Matrix"
   ]
  },
  {
   "cell_type": "code",
   "execution_count": 31,
   "metadata": {},
   "outputs": [],
   "source": [
    "embeddings_tensors = tensor(embeddings)"
   ]
  },
  {
   "cell_type": "code",
   "execution_count": 32,
   "metadata": {},
   "outputs": [
    {
     "data": {
      "text/plain": [
       "tensor([[ 0.3922,  0.4971],\n",
       "        [-0.1218, -1.3513],\n",
       "        [ 0.1224, -0.0589],\n",
       "        [-0.0804, -0.6116],\n",
       "        [ 0.2851, -0.8232],\n",
       "        [-0.2515, -0.6255],\n",
       "        [ 0.1912,  0.8838],\n",
       "        [-0.0678,  0.7262],\n",
       "        [ 0.4490,  2.1260]])"
      ]
     },
     "execution_count": 32,
     "metadata": {},
     "output_type": "execute_result"
    }
   ],
   "source": [
    "query = embeddings_tensors @ w_Q\n",
    "key = embeddings_tensors @ w_K\n",
    "value = embeddings_tensors @ w_V\n",
    "query"
   ]
  },
  {
   "attachments": {},
   "cell_type": "markdown",
   "metadata": {},
   "source": [
    "#### Can also be done in a different way"
   ]
  },
  {
   "cell_type": "code",
   "execution_count": 33,
   "metadata": {},
   "outputs": [
    {
     "name": "stdout",
     "output_type": "stream",
     "text": [
      "Inputs shape::torch.Size([9, 3])\n",
      "q_k_v shape::torch.Size([3, 6])\n",
      "Outputs shape::torch.Size([9, 6])\n"
     ]
    }
   ],
   "source": [
    "## concating query, key and value weights horizontally\n",
    "q_k_v = torch.concat([w_Q,w_K,w_V], dim = -1)\n",
    "print(f\"Inputs shape::{embeddings_tensors.shape}\")\n",
    "print(f\"q_k_v shape::{q_k_v.shape}\")\n",
    "outputs = embeddings_tensors@q_k_v\n",
    "print(f\"Outputs shape::{outputs.shape}\")"
   ]
  },
  {
   "cell_type": "code",
   "execution_count": 34,
   "metadata": {},
   "outputs": [
    {
     "data": {
      "text/plain": [
       "tensor([[True, True],\n",
       "        [True, True],\n",
       "        [True, True],\n",
       "        [True, True],\n",
       "        [True, True],\n",
       "        [True, True],\n",
       "        [True, True],\n",
       "        [True, True],\n",
       "        [True, True]])"
      ]
     },
     "execution_count": 34,
     "metadata": {},
     "output_type": "execute_result"
    }
   ],
   "source": [
    "query_new, key_new, value_new = torch.hsplit(outputs,3)\n",
    "query_new==query"
   ]
  },
  {
   "cell_type": "code",
   "execution_count": 35,
   "metadata": {},
   "outputs": [
    {
     "name": "stdout",
     "output_type": "stream",
     "text": [
      "Context Vectors\n",
      "--------------------\n",
      "\n",
      "I --> [0.14569901 0.32544285]\n",
      "see --> [-0.10728025 -0.6414331 ]\n",
      "skies --> [ 0.05985309 -0.04077596]\n",
      "of --> [-0.02447343 -0.36160985]\n",
      "green --> [-0.03925207 -0.3894075 ]\n",
      ", --> [-0.03203314 -0.3987695 ]\n",
      "red --> [0.18139386 0.4708105 ]\n",
      "roses --> [0.15501913 0.33270988]\n",
      "too --> [0.26778102 0.9756157 ]\n"
     ]
    }
   ],
   "source": [
    "attn_scores = query_new @ key_new.T\n",
    "scaled_attn_scores = attn_scores/torch.math.sqrt(w_K.shape[-1]) ## scaled attention scores\n",
    "attn_weights = torch.softmax(scaled_attn_scores, dim = -1)\n",
    "\n",
    "context_vectors = attn_weights @ value_new\n",
    "\n",
    "print(\"Context Vectors\", end = \"\\n\")\n",
    "print(\"--\"*10, end='\\n\\n')\n",
    "for emb, tok in zip(context_vectors,token_ids):\n",
    "    print(f\"{tokenizer_subword.decode([tok]).strip()} --> {emb.detach().numpy()}\")"
   ]
  },
  {
   "attachments": {},
   "cell_type": "markdown",
   "metadata": {},
   "source": [
    "#### Why we divide the attention scores by sqrt(key dimension)?\n",
    "1. **Stability in Learning**"
   ]
  },
  {
   "attachments": {},
   "cell_type": "markdown",
   "metadata": {},
   "source": [
    "### Causal Attention Layer"
   ]
  },
  {
   "cell_type": "code",
   "execution_count": 57,
   "metadata": {},
   "outputs": [],
   "source": [
    "CONTEXT_SIZE = 5\n",
    "inp_text = \"Hello How are you?\"\n",
    "embedding_layer = Embedding(tokenizer_subword.n_vocab, 768)\n",
    "pos_embedding_layer = Embedding(CONTEXT_SIZE, 768)\n",
    "inp_tok =tokenizer_subword.encode(inp_text)\n",
    "embeddings = embedding_layer(tensor([inp_tok]))\n",
    "pos_emb = pos_embedding_layer(torch.arange(tensor(embeddings.shape[1])))\n",
    "inp_embedding = embeddings + pos_emb\n"
   ]
  },
  {
   "cell_type": "code",
   "execution_count": 221,
   "metadata": {},
   "outputs": [],
   "source": [
    "class CausalAttention(torch.nn.Module):\n",
    "    def __init__(self, d_in, d_out,context_length,\n",
    "                 dropout = 0, q_k_v_bias = False,\n",
    "                 causal_mask = True):\n",
    "        super().__init__()\n",
    "        self.W_query = torch.nn.Parameter(torch.rand(d_in, d_out))\n",
    "        self.W_key = torch.nn.Parameter(torch.rand(d_in, d_out))\n",
    "        self.W_value = torch.nn.Parameter(torch.rand(d_in, d_out))\n",
    "        self.dropout = torch.nn.Dropout(dropout)\n",
    "        self.causal_mask = causal_mask\n",
    "        self.register_buffer('mask', torch.triu(torch.ones(context_length,context_length),diagonal=1))\n",
    "\n",
    "    def forward(self, x):\n",
    "        # batch, seq_len, d_in = x.shape\n",
    "        q_k_v =  torch.concat([self.W_query,self.W_key,self.W_value],dim = -1)\n",
    "        # print(f\"q_k_v shape: {q_k_v.shape}\")\n",
    "        combined_transform = x @ q_k_v\n",
    "        # print(f\"combined_transform shape: {combined_transform.shape}\")\n",
    "        query, key, value = torch.split(combined_transform,self.W_key.shape[-1], dim=2)\n",
    "        attn_weights = query @ key.transpose(1,2) # (batch X seq_len X seq_len)\n",
    "        if self.causal_mask:\n",
    "            attn_weights = attn_weights.masked_fill(self.mask.bool(),-torch.inf)\n",
    "        scaled_attn_weights = attn_weights/key.shape[-1]**0.5\n",
    "        attn_scores = self.dropout(torch.softmax(scaled_attn_weights, dim=-1))\n",
    "        return {\"context_vectors\": attn_scores @ value,\n",
    "                \"attn_scores\": attn_scores} # context rich vectors (batch X seq_len X embedding_dim)\n"
   ]
  },
  {
   "cell_type": "code",
   "execution_count": 222,
   "metadata": {},
   "outputs": [],
   "source": [
    "# inp_embedding = torch.concat([inp_embedding]*5, dim = 0)\n",
    "c_attn = CausalAttention(*(768,768,5), causal_mask=True)\n",
    "# c_attn(inp_embedding)"
   ]
  },
  {
   "cell_type": "code",
   "execution_count": 223,
   "metadata": {},
   "outputs": [
    {
     "name": "stdout",
     "output_type": "stream",
     "text": [
      "torch.Size([768, 768])\n",
      "torch.Size([768, 768])\n",
      "torch.Size([768, 768])\n"
     ]
    }
   ],
   "source": [
    "for param in c_attn.parameters():\n",
    "    print(param.shape)"
   ]
  },
  {
   "cell_type": "code",
   "execution_count": 224,
   "metadata": {},
   "outputs": [
    {
     "data": {
      "text/plain": [
       "{'context_vectors': tensor([[[-30.1151, -16.2032,   3.7312,  ..., -17.0823, -12.3906, -12.7336],\n",
       "          [  6.9410,  -7.1758,  14.9596,  ..., -14.6811,   7.6073,   6.5846],\n",
       "          [-30.1151, -16.2032,   3.7312,  ..., -17.0823, -12.3906, -12.7336],\n",
       "          [-32.5164,  -4.0799,  -6.2592,  ..., -13.6605, -14.0177, -37.3766],\n",
       "          [  2.5552,  41.0171,  37.0916,  ...,  21.3512,  33.7092,  15.0887]],\n",
       " \n",
       "         [[-30.1151, -16.2032,   3.7312,  ..., -17.0823, -12.3906, -12.7336],\n",
       "          [  6.9410,  -7.1758,  14.9596,  ..., -14.6811,   7.6073,   6.5846],\n",
       "          [-30.1151, -16.2032,   3.7312,  ..., -17.0823, -12.3906, -12.7336],\n",
       "          [-32.5164,  -4.0799,  -6.2592,  ..., -13.6605, -14.0177, -37.3766],\n",
       "          [  2.5552,  41.0171,  37.0916,  ...,  21.3512,  33.7092,  15.0887]],\n",
       " \n",
       "         [[-30.1151, -16.2032,   3.7312,  ..., -17.0823, -12.3906, -12.7336],\n",
       "          [  6.9410,  -7.1758,  14.9596,  ..., -14.6811,   7.6073,   6.5846],\n",
       "          [-30.1151, -16.2032,   3.7312,  ..., -17.0823, -12.3906, -12.7336],\n",
       "          [-32.5164,  -4.0799,  -6.2592,  ..., -13.6605, -14.0177, -37.3766],\n",
       "          [  2.5552,  41.0171,  37.0916,  ...,  21.3512,  33.7092,  15.0887]],\n",
       " \n",
       "         ...,\n",
       " \n",
       "         [[-30.1151, -16.2032,   3.7312,  ..., -17.0823, -12.3906, -12.7336],\n",
       "          [  6.9410,  -7.1758,  14.9596,  ..., -14.6811,   7.6073,   6.5846],\n",
       "          [-30.1151, -16.2032,   3.7312,  ..., -17.0823, -12.3906, -12.7336],\n",
       "          [-32.5164,  -4.0799,  -6.2592,  ..., -13.6605, -14.0177, -37.3766],\n",
       "          [  2.5552,  41.0171,  37.0916,  ...,  21.3512,  33.7092,  15.0887]],\n",
       " \n",
       "         [[-30.1151, -16.2032,   3.7312,  ..., -17.0823, -12.3906, -12.7336],\n",
       "          [  6.9410,  -7.1758,  14.9596,  ..., -14.6811,   7.6073,   6.5846],\n",
       "          [-30.1151, -16.2032,   3.7312,  ..., -17.0823, -12.3906, -12.7336],\n",
       "          [-32.5164,  -4.0799,  -6.2592,  ..., -13.6605, -14.0177, -37.3766],\n",
       "          [  2.5552,  41.0171,  37.0916,  ...,  21.3512,  33.7092,  15.0887]],\n",
       " \n",
       "         [[-30.1151, -16.2032,   3.7312,  ..., -17.0823, -12.3906, -12.7336],\n",
       "          [  6.9410,  -7.1758,  14.9596,  ..., -14.6811,   7.6073,   6.5846],\n",
       "          [-30.1151, -16.2032,   3.7312,  ..., -17.0823, -12.3906, -12.7336],\n",
       "          [-32.5164,  -4.0799,  -6.2592,  ..., -13.6605, -14.0177, -37.3766],\n",
       "          [  2.5552,  41.0171,  37.0916,  ...,  21.3512,  33.7092,  15.0887]]],\n",
       "        grad_fn=<UnsafeViewBackward0>),\n",
       " 'attn_scores': tensor([[[1., 0., 0., 0., 0.],\n",
       "          [0., 1., 0., 0., 0.],\n",
       "          [1., 0., 0., 0., 0.],\n",
       "          [0., 0., 0., 1., 0.],\n",
       "          [0., 0., 0., 0., 1.]],\n",
       " \n",
       "         [[1., 0., 0., 0., 0.],\n",
       "          [0., 1., 0., 0., 0.],\n",
       "          [1., 0., 0., 0., 0.],\n",
       "          [0., 0., 0., 1., 0.],\n",
       "          [0., 0., 0., 0., 1.]],\n",
       " \n",
       "         [[1., 0., 0., 0., 0.],\n",
       "          [0., 1., 0., 0., 0.],\n",
       "          [1., 0., 0., 0., 0.],\n",
       "          [0., 0., 0., 1., 0.],\n",
       "          [0., 0., 0., 0., 1.]],\n",
       " \n",
       "         ...,\n",
       " \n",
       "         [[1., 0., 0., 0., 0.],\n",
       "          [0., 1., 0., 0., 0.],\n",
       "          [1., 0., 0., 0., 0.],\n",
       "          [0., 0., 0., 1., 0.],\n",
       "          [0., 0., 0., 0., 1.]],\n",
       " \n",
       "         [[1., 0., 0., 0., 0.],\n",
       "          [0., 1., 0., 0., 0.],\n",
       "          [1., 0., 0., 0., 0.],\n",
       "          [0., 0., 0., 1., 0.],\n",
       "          [0., 0., 0., 0., 1.]],\n",
       " \n",
       "         [[1., 0., 0., 0., 0.],\n",
       "          [0., 1., 0., 0., 0.],\n",
       "          [1., 0., 0., 0., 0.],\n",
       "          [0., 0., 0., 1., 0.],\n",
       "          [0., 0., 0., 0., 1.]]], grad_fn=<SoftmaxBackward0>)}"
      ]
     },
     "execution_count": 224,
     "metadata": {},
     "output_type": "execute_result"
    }
   ],
   "source": [
    "c_attn(inp_embedding)"
   ]
  },
  {
   "attachments": {},
   "cell_type": "markdown",
   "metadata": {},
   "source": [
    "### Muti Head Attention"
   ]
  },
  {
   "cell_type": "code",
   "execution_count": 225,
   "metadata": {},
   "outputs": [],
   "source": [
    "## applies heads sequentially\n",
    "class MultiHeadAttentionWrapper(torch.nn.Module):\n",
    "    def __init__(self, d_in, d_out,context_length, num_heads, dropout = 0.0, q_k_v_bias = False):\n",
    "        super().__init__()\n",
    "        self.heads = torch.nn.ModuleList([CausalAttention(d_in, d_out,context_length) for _ in range(num_heads)])\n",
    "    def forward(self, x):\n",
    "        return torch.concat([head(x)['context_vectors'] for head in self.heads], dim=-1)\n"
   ]
  },
  {
   "cell_type": "code",
   "execution_count": 226,
   "metadata": {},
   "outputs": [],
   "source": [
    "multi_attn = MultiHeadAttentionWrapper(768,3,5,10, dropout=0.5)"
   ]
  },
  {
   "cell_type": "code",
   "execution_count": 227,
   "metadata": {},
   "outputs": [
    {
     "data": {
      "text/plain": [
       "torch.Size([250, 5, 30])"
      ]
     },
     "execution_count": 227,
     "metadata": {},
     "output_type": "execute_result"
    }
   ],
   "source": [
    "out_ = multi_attn(inp_embedding)\n",
    "out_.shape"
   ]
  },
  {
   "attachments": {},
   "cell_type": "markdown",
   "metadata": {},
   "source": [
    "#### Improving the MultiHead Attention By implementing the heads parallely"
   ]
  },
  {
   "cell_type": "code",
   "execution_count": 474,
   "metadata": {},
   "outputs": [],
   "source": [
    "class MultiHeadAttention(torch.nn.Module):\n",
    "    def __init__(self, d_in, d_out, context_length, num_heads,dropout = 0.0, causal_mask = True):\n",
    "        super().__init__()\n",
    "        self.num_heads = num_heads\n",
    "        self.d_out = d_out\n",
    "        self.W_query = torch.nn.Parameter(torch.rand(d_in, num_heads * d_out, dtype=torch.float32))\n",
    "        self.W_key = torch.nn.Parameter(torch.rand(d_in, num_heads * d_out, dtype=torch.float32))\n",
    "        self.W_value = torch.nn.Parameter(torch.rand(d_in, num_heads * d_out, dtype=torch.float32))\n",
    "        self.dropout = torch.nn.Dropout(dropout)\n",
    "        self.out_project = torch.nn.Parameter(torch.rand(num_heads *d_out, d_out, dtype=torch.float32))\n",
    "        self.causal_mask = causal_mask\n",
    "        self.register_buffer('mask', torch.triu(torch.ones(context_length,context_length),diagonal=1))\n",
    "\n",
    "    def forward(self, x):\n",
    "        batch_size, seq_len, d_in = x.shape\n",
    "        # q_k_v =  torch.concat([self.W_query,self.W_key,self.W_value],dim = -1)\n",
    "        queries = x @ self.W_query\n",
    "        keys = x @ self.W_key\n",
    "        values = x @ self.W_value\n",
    "\n",
    "        # Reshape for multi-head attention\n",
    "        queries = queries.view(batch_size, seq_len, self.num_heads, self.d_out)\n",
    "        keys = keys.view(batch_size, seq_len, self.num_heads, self.d_out)\n",
    "        values = values.view(batch_size, seq_len, self.num_heads, self.d_out)\n",
    "\n",
    "        # Transpose the shapes (Grouping with respect to number of heads)\n",
    "        queries = queries.transpose(1,2)\n",
    "        keys = keys.transpose(1,2)\n",
    "        values = values.transpose(1,2)\n",
    "\n",
    "        # Calculating Attention Scores\n",
    "        attn_weights = queries @ keys.transpose(2,3) # (batch X num_heads X seq_len X seq_len)\n",
    "\n",
    "        # Adding the Causal Mask\n",
    "        if self.causal_mask:\n",
    "            attn_weights = attn_weights.masked_fill(self.mask.bool(),-torch.inf)\n",
    "\n",
    "        # Scaling and Softmax the atten scores\n",
    "        scaled_attn_weights = attn_weights/keys.shape[-1]**0.5\n",
    "        attn_scores = self.dropout(torch.softmax(scaled_attn_weights, dim=-1))\n",
    "        context_vectors = (attn_scores @ values).transpose(1,2)\n",
    "        concated_context_vectors = context_vectors.contiguous().view(batch_size,seq_len,-1)\n",
    "        context_vectors = concated_context_vectors @ self.out_project\n",
    "        return {\"context_vectors\": context_vectors,\n",
    "                \"attn_scores\": attn_scores} # context vectors (batch X seq_len X embedding_dim)\n",
    "                                            # attn_scores (batch X num_heads X seq_len X seq_len)\n",
    "\n"
   ]
  },
  {
   "cell_type": "code",
   "execution_count": 475,
   "metadata": {},
   "outputs": [],
   "source": [
    "multi_attn = MultiHeadAttention(d_in=768,\n",
    "                                d_out = 768,\n",
    "                                num_heads=2,\n",
    "                                context_length=5,\n",
    "                                dropout=0.4)"
   ]
  },
  {
   "cell_type": "code",
   "execution_count": 476,
   "metadata": {},
   "outputs": [
    {
     "data": {
      "text/plain": [
       "torch.Size([250, 5, 768])"
      ]
     },
     "execution_count": 476,
     "metadata": {},
     "output_type": "execute_result"
    }
   ],
   "source": [
    "multi_attn(inp_embedding)['context_vectors'].reshape(250,5,-1).shape"
   ]
  },
  {
   "cell_type": "code",
   "execution_count": null,
   "metadata": {},
   "outputs": [],
   "source": []
  },
  {
   "cell_type": "code",
   "execution_count": null,
   "metadata": {},
   "outputs": [],
   "source": []
  },
  {
   "cell_type": "code",
   "execution_count": null,
   "metadata": {},
   "outputs": [],
   "source": []
  },
  {
   "cell_type": "code",
   "execution_count": null,
   "metadata": {},
   "outputs": [],
   "source": []
  },
  {
   "cell_type": "code",
   "execution_count": null,
   "metadata": {},
   "outputs": [],
   "source": []
  },
  {
   "cell_type": "code",
   "execution_count": 313,
   "metadata": {},
   "outputs": [
    {
     "data": {
      "text/plain": [
       "torch.Size([250, 5, 3, 2])"
      ]
     },
     "execution_count": 313,
     "metadata": {},
     "output_type": "execute_result"
    }
   ],
   "source": [
    "after.shape"
   ]
  },
  {
   "cell_type": "code",
   "execution_count": 278,
   "metadata": {},
   "outputs": [
    {
     "data": {
      "text/plain": [
       "torch.Size([250, 5, 768])"
      ]
     },
     "execution_count": 278,
     "metadata": {},
     "output_type": "execute_result"
    }
   ],
   "source": [
    "out_['context_vectors'].shape"
   ]
  },
  {
   "cell_type": "code",
   "execution_count": 274,
   "metadata": {},
   "outputs": [
    {
     "data": {
      "text/plain": [
       "torch.Size([250, 5, 3, 3])"
      ]
     },
     "execution_count": 274,
     "metadata": {},
     "output_type": "execute_result"
    }
   ],
   "source": [
    "out_['attn_scores'].shape"
   ]
  },
  {
   "cell_type": "code",
   "execution_count": null,
   "metadata": {},
   "outputs": [],
   "source": []
  },
  {
   "cell_type": "code",
   "execution_count": null,
   "metadata": {},
   "outputs": [],
   "source": []
  },
  {
   "cell_type": "code",
   "execution_count": null,
   "metadata": {},
   "outputs": [],
   "source": []
  },
  {
   "cell_type": "code",
   "execution_count": null,
   "metadata": {},
   "outputs": [],
   "source": []
  },
  {
   "cell_type": "code",
   "execution_count": null,
   "metadata": {},
   "outputs": [],
   "source": []
  },
  {
   "cell_type": "code",
   "execution_count": null,
   "metadata": {},
   "outputs": [],
   "source": []
  },
  {
   "cell_type": "code",
   "execution_count": null,
   "metadata": {},
   "outputs": [],
   "source": []
  },
  {
   "cell_type": "code",
   "execution_count": 363,
   "metadata": {},
   "outputs": [],
   "source": [
    "import torch\n",
    "\n",
    "class MultiHeadAttention(torch.nn.Module):\n",
    "    def __init__(self, d_in, d_out, context_length, num_heads, dropout=0.0, causal_mask=True):\n",
    "        super().__init__()\n",
    "        self.num_heads = num_heads\n",
    "        self.d_out = d_out \n",
    "\n",
    "        self.W_query = torch.nn.Parameter(torch.rand(d_in, num_heads * d_out))\n",
    "        self.W_key = torch.nn.Parameter(torch.rand(d_in, num_heads * d_out))\n",
    "        self.W_value = torch.nn.Parameter(torch.rand(d_in, num_heads * d_out))\n",
    "        self.W_output = torch.nn.Parameter(torch.rand(num_heads * d_out, d_out)) # Output projection\n",
    "\n",
    "        self.dropout = torch.nn.Dropout(dropout)\n",
    "        self.causal_mask = causal_mask\n",
    "        self.register_buffer('mask', torch.triu(torch.ones(context_length, context_length), diagonal=1))\n",
    "\n",
    "    def forward(self, x):\n",
    "        batch_size, seq_len, _ = x.shape\n",
    "\n",
    "        # Project input to query, key, and value representations\n",
    "        queries = x @ self.W_query \n",
    "        keys = x @ self.W_key\n",
    "        values = x @ self.W_value\n",
    "\n",
    "        # Reshape for multi-head attention\n",
    "        queries = queries.view(batch_size, seq_len, self.num_heads, self.d_out)\n",
    "        keys = keys.view(batch_size, seq_len, self.num_heads, self.d_out)\n",
    "        values = values.view(batch_size, seq_len, self.num_heads, self.d_out)\n",
    "\n",
    "        # Calculate attention weights\n",
    "        attn_weights = queries @ keys.transpose(2, 3)  # (batch_size, seq_len, num_heads, seq_len)\n",
    "        \n",
    "        # Apply causal mask if needed\n",
    "        if self.causal_mask:\n",
    "            attn_weights = attn_weights.masked_fill(self.mask.bool(), -torch.inf)\n",
    "\n",
    "        # Scale and apply softmax\n",
    "        scaled_attn_weights = attn_weights / (self.d_out ** 0.5)\n",
    "        attn_scores = self.dropout(torch.softmax(scaled_attn_weights, dim=-1))\n",
    "\n",
    "        # Calculate context vectors\n",
    "        context_vectors = attn_scores @ values  # (batch_size, seq_len, num_heads, d_out)\n",
    "\n",
    "        # Concatenate heads\n",
    "        context_vectors = context_vectors.view(batch_size, seq_len, -1)\n",
    "\n",
    "        # Final output projection\n",
    "        output = context_vectors @ self.W_output \n",
    "\n",
    "        return {\"context_vectors\": output, \"attn_scores\": attn_scores}"
   ]
  },
  {
   "cell_type": "code",
   "execution_count": null,
   "metadata": {},
   "outputs": [],
   "source": []
  }
 ],
 "metadata": {
  "kernelspec": {
   "display_name": "base",
   "language": "python",
   "name": "python3"
  },
  "language_info": {
   "codemirror_mode": {
    "name": "ipython",
    "version": 3
   },
   "file_extension": ".py",
   "mimetype": "text/x-python",
   "name": "python",
   "nbconvert_exporter": "python",
   "pygments_lexer": "ipython3",
   "version": "3.10.10"
  },
  "orig_nbformat": 4
 },
 "nbformat": 4,
 "nbformat_minor": 2
}
