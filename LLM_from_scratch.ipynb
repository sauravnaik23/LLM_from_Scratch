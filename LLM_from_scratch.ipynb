{
 "cells": [
  {
   "cell_type": "code",
   "execution_count": 5,
   "metadata": {},
   "outputs": [],
   "source": [
    "with open('data.txt','r') as f:\n",
    "    raw_text = f.read()"
   ]
  },
  {
   "cell_type": "code",
   "execution_count": 6,
   "metadata": {},
   "outputs": [
    {
     "name": "stdout",
     "output_type": "stream",
     "text": [
      "in the United States and\n",
      "most other parts of the world at no cost and with almost no restrictions\n",
      "wh\n"
     ]
    }
   ],
   "source": [
    "print(raw_text[100:200])"
   ]
  },
  {
   "cell_type": "code",
   "execution_count": 7,
   "metadata": {},
   "outputs": [
    {
     "name": "stdout",
     "output_type": "stream",
     "text": [
      "Total Number of characters: 92874\n"
     ]
    }
   ],
   "source": [
    "print(f\"Total Number of characters: {len(raw_text)}\")"
   ]
  },
  {
   "attachments": {},
   "cell_type": "markdown",
   "metadata": {},
   "source": [
    "## Word Tokenization"
   ]
  },
  {
   "cell_type": "code",
   "execution_count": 8,
   "metadata": {},
   "outputs": [
    {
     "data": {
      "text/plain": [
       "['finds',\n",
       " '[eBook',\n",
       " 'full',\n",
       " 'here',\n",
       " 'week',\n",
       " 'Buck',\n",
       " 'sudden',\n",
       " 'shift',\n",
       " 'went',\n",
       " 'prairie-dogs',\n",
       " 'fambly',\n",
       " 'receive',\n",
       " 'mostly',\n",
       " 'pilgrims',\n",
       " 'expected',\n",
       " 'degrees',\n",
       " 'yuh!',\n",
       " 'busy',\n",
       " 'Marie',\n",
       " 'these']"
      ]
     },
     "execution_count": 8,
     "metadata": {},
     "output_type": "execute_result"
    }
   ],
   "source": [
    "import re\n",
    "vocab = list(set([item.strip() for item in re.split(r'([,.”?/()\\'’]|\\s)',raw_text) if item.strip()]))\n",
    "vocab[:20]"
   ]
  },
  {
   "cell_type": "code",
   "execution_count": 9,
   "metadata": {},
   "outputs": [
    {
     "name": "stdout",
     "output_type": "stream",
     "text": [
      "Number of tokens::3361\n"
     ]
    }
   ],
   "source": [
    "## Creating token IDs\n",
    "idx2str = {idx:token for idx,token in enumerate(vocab)}\n",
    "idx2str[len(idx2str)] = \"<UNK>\"\n",
    "idx2str[len(idx2str)] = \"<|eot|>\"\n",
    "str2idx = {token:idx for idx,token in idx2str.items()}\n",
    "\n",
    "print(f\"Number of tokens::{len(idx2str)}\")"
   ]
  },
  {
   "cell_type": "code",
   "execution_count": 10,
   "metadata": {},
   "outputs": [],
   "source": [
    "## Creating a custom tokenizer class\n",
    "\n",
    "class CustomTokenizerV1():\n",
    "    def __init__(self, vocab, special_tokens = [\"<|eot|>\",\"<|cls|>\",\"<|sep|>\"]):\n",
    "        self.idx2str = {idx:token for idx,token in enumerate(vocab)}\n",
    "        ## adding special tokens\n",
    "        self.idx2str[len(self.idx2str)] = \"<|unk|>\"\n",
    "        for tok in special_tokens:\n",
    "            self.idx2str[len(self.idx2str)] = tok\n",
    "        self.str2idx = {token:idx for idx,token in self.idx2str.items()}\n",
    "        assert len(self.idx2str) == len(self.str2idx)\n",
    "        print(f\"Total Number of tokens::{len(self.idx2str)}\", end = \"\\n\\n\")\n",
    "        print(f\"-\"*10 + \" \"+ \"Special Tokens\" + \"-\"*10, end = '\\n\\n')\n",
    "        for tok in special_tokens:\n",
    "            print(f\"Token ID for {tok}::{self.str2idx[tok]}\")\n",
    "\n",
    "    def encode(self,seq):\n",
    "        preprocessed = [item.strip() for item in re.split(r'([,.”?/()\\'’]|\\s)',seq) if item.strip()]\n",
    "        tokenized = [self.str2idx.get(tok,self.str2idx.get(\"<|unk|>\")) for tok in preprocessed]\n",
    "        return tokenized\n",
    "\n",
    "    def decode(self, tok_seq):\n",
    "        text = ' '.join([self.idx2str.get(item) for item in tok_seq])\n",
    "        text = re.sub(r'([,.”?/()\\'’]|\\s)',r'\\1',text)\n",
    "        return text\n"
   ]
  },
  {
   "cell_type": "code",
   "execution_count": 11,
   "metadata": {},
   "outputs": [
    {
     "name": "stdout",
     "output_type": "stream",
     "text": [
      "Total Number of tokens::3363\n",
      "\n",
      "---------- Special Tokens----------\n",
      "\n",
      "Token ID for <|eot|>::3360\n",
      "Token ID for <|cls|>::3361\n",
      "Token ID for <|sep|>::3362\n"
     ]
    },
    {
     "data": {
      "text/plain": [
       "'How are you doing <|unk|> ?'"
      ]
     },
     "execution_count": 11,
     "metadata": {},
     "output_type": "execute_result"
    }
   ],
   "source": [
    "tokenizer = CustomTokenizerV1(vocab)\n",
    "seq = \"How are you doing charles?\"\n",
    "ids = tokenizer.encode(seq)\n",
    "tokenizer.decode(ids)\n",
    "\n"
   ]
  },
  {
   "cell_type": "code",
   "execution_count": 12,
   "metadata": {},
   "outputs": [
    {
     "name": "stdout",
     "output_type": "stream",
     "text": [
      "How\n",
      " are\n",
      " you\n",
      " doing\n",
      " char\n",
      "les\n",
      "?\n",
      "<|endoftext|>\n"
     ]
    }
   ],
   "source": [
    "## using sub-word tokenization from tiktoken (Byte Pair Encoding)\n",
    "import tiktoken\n",
    "tokenizer_subword = tiktoken.get_encoding(\"gpt2\")\n",
    "seq = \"How are you doing charles?<|endoftext|>\"\n",
    "ids = tokenizer_subword.encode(seq, allowed_special={\"<|endoftext|>\"})\n",
    "for id_ in ids:\n",
    "    print(tokenizer_subword.decode([id_]))\n"
   ]
  },
  {
   "attachments": {},
   "cell_type": "markdown",
   "metadata": {},
   "source": [
    "## BPE Encoding (Sub-Word Tokenization)"
   ]
  },
  {
   "cell_type": "code",
   "execution_count": 13,
   "metadata": {},
   "outputs": [
    {
     "name": "stdout",
     "output_type": "stream",
     "text": [
      "Total number of tokens post encoding::29698\n"
     ]
    }
   ],
   "source": [
    "\n",
    "with open('data.txt','r') as f:\n",
    "    raw_text = f.read()\n",
    "\n",
    "encoded = tokenizer_subword.encode(raw_text)\n",
    "print(f\"Total number of tokens post encoding::{len(encoded)}\")"
   ]
  },
  {
   "cell_type": "code",
   "execution_count": 14,
   "metadata": {},
   "outputs": [
    {
     "name": "stdout",
     "output_type": "stream",
     "text": [
      "train samples::[464, 4935, 20336, 46566, 286]\n",
      "test samples::[4935, 20336, 46566, 286, 1649]\n"
     ]
    }
   ],
   "source": [
    "context_size = 5\n",
    "X = encoded[:context_size]\n",
    "y = encoded[1:context_size+1]\n",
    "print(f\"train samples::{X}\")\n",
    "print(f\"test samples::{y}\")"
   ]
  },
  {
   "attachments": {},
   "cell_type": "markdown",
   "metadata": {},
   "source": [
    "## Creating DataLoader with Sub-Word tokenization"
   ]
  },
  {
   "cell_type": "code",
   "execution_count": 15,
   "metadata": {},
   "outputs": [],
   "source": [
    "from typing import Any\n",
    "from torch.utils.data import Dataset, DataLoader\n",
    "from torch import tensor, arange\n",
    "\n",
    "class GPTDatasetV1(Dataset):\n",
    "\n",
    "    def __init__(self, txt, context_size, stride, tokenizer):\n",
    "        self.input_ids = []\n",
    "        self.output_ids = []\n",
    "        ## tokenizing the entire text\n",
    "        token_ids = tokenizer.encode(txt, allowed_special={\"<|endoftext|>\"})\n",
    "        ## looping over the sequences\n",
    "        for i in range(0, len(token_ids) - context_size, stride):\n",
    "            input_chunk = token_ids[i:i+context_size]\n",
    "            target_chunk = token_ids[i+1:i+context_size+1]\n",
    "            self.input_ids.append(tensor(input_chunk))\n",
    "            self.output_ids.append(tensor(target_chunk))\n",
    "\n",
    "    def __len__(self):\n",
    "        return len(self.input_ids)\n",
    "\n",
    "    def __getitem__(self, idx):\n",
    "        return {\"x\":self.input_ids[idx],\n",
    "                \"y\":self.output_ids[idx]}\n",
    "\n",
    "\n",
    "def get_dataloader(txt, batch_size = 4, context_size = 1024, stride = 512,\n",
    "                   shuffle = True, drop_last = True, num_workers = 0):\n",
    "    '''Creates a dataloader object'''\n",
    "    ## loading the sub-word tokenizer\n",
    "    tokenizer = tiktoken.get_encoding(\"gpt2\")\n",
    "    ## creating dataset oject\n",
    "    dataset = GPTDatasetV1(txt, tokenizer=tokenizer,\n",
    "                           context_size=context_size, stride=stride)\n",
    "    ## creating the dataloader object\n",
    "    dataloader = DataLoader(dataset,batch_size=batch_size,\n",
    "                            drop_last=drop_last,\n",
    "                            num_workers=num_workers,\n",
    "                            shuffle = shuffle)\n",
    "    return dataloader"
   ]
  },
  {
   "cell_type": "code",
   "execution_count": 16,
   "metadata": {},
   "outputs": [],
   "source": [
    "loader = get_dataloader(raw_text, batch_size=8, \n",
    "                        context_size=1024, stride=512)\n"
   ]
  },
  {
   "cell_type": "code",
   "execution_count": 17,
   "metadata": {},
   "outputs": [
    {
     "name": "stdout",
     "output_type": "stream",
     "text": [
      "Input Tensor\n",
      "tensor([[  766,   543,   886,  ...,   481,   307,  3377],\n",
      "        [  198,   198,  4366,  ..., 36454,  2944, 21749],\n",
      "        [  198, 11274,  8458,  ...,  4922,    13,   198],\n",
      "        ...,\n",
      "        [42237,    13,  1002,  ...,  2581,    11,   286],\n",
      "        [  290,   612,   356,  ..., 23448,    13,  5660],\n",
      "        [ 3088,   284,  1011,  ...,  5945,   286, 33503]])\n",
      "Input Tensor Shape::torch.Size([8, 1024])\n",
      "--------------------\n",
      "Output Tensor\n",
      "tensor([[  543,   886,  4962,  ...,   307,  3377,   287],\n",
      "        [  198,  4366,  4919,  ...,  2944, 21749,    13],\n",
      "        [11274,  8458,   438,  ...,    13,   198,   198],\n",
      "        ...,\n",
      "        [   13,  1002,   281,  ...,    11,   286,   262],\n",
      "        [  612,   356,  7228,  ...,    13,  5660, 35073],\n",
      "        [  284,  1011,   257,  ...,   286, 33503,   735]])\n",
      "Output Tensor Shape::torch.Size([8, 1024])\n"
     ]
    }
   ],
   "source": [
    "for batch in loader:\n",
    "    print(\"Input Tensor\",batch[\"x\"],f\"Input Tensor Shape::{batch['x'].shape}\",sep = \"\\n\")\n",
    "    print(\"--\"*10)\n",
    "    print(\"Output Tensor\",batch[\"y\"],f\"Output Tensor Shape::{batch['y'].shape}\",sep = \"\\n\")\n",
    "    break"
   ]
  },
  {
   "attachments": {},
   "cell_type": "markdown",
   "metadata": {},
   "source": [
    "## Token Embedding"
   ]
  },
  {
   "cell_type": "code",
   "execution_count": 18,
   "metadata": {},
   "outputs": [
    {
     "data": {
      "text/plain": [
       "torch.Size([50257, 768])"
      ]
     },
     "execution_count": 18,
     "metadata": {},
     "output_type": "execute_result"
    }
   ],
   "source": [
    "\n",
    "from torch.nn import Embedding, LSTM, RNN\n",
    "from torch.optim import Adam, RMSprop, SGD\n",
    "vocab_size = tokenizer_subword.n_vocab\n",
    "embedding_dim = 768\n",
    "\n",
    "embedding_layer = Embedding(vocab_size, embedding_dim)\n",
    "embedding_layer.weight.shape"
   ]
  },
  {
   "cell_type": "code",
   "execution_count": 19,
   "metadata": {},
   "outputs": [
    {
     "data": {
      "text/plain": [
       "torch.Size([1, 6, 768])"
      ]
     },
     "execution_count": 19,
     "metadata": {},
     "output_type": "execute_result"
    }
   ],
   "source": [
    "embedding_layer(tensor([[1,2,3, 9 ,8 ,22]])).shape"
   ]
  },
  {
   "cell_type": "code",
   "execution_count": 20,
   "metadata": {},
   "outputs": [
    {
     "data": {
      "text/plain": [
       "torch.Size([8, 1024, 768])"
      ]
     },
     "execution_count": 20,
     "metadata": {},
     "output_type": "execute_result"
    }
   ],
   "source": [
    "embedding_layer(batch['x']).shape"
   ]
  },
  {
   "attachments": {},
   "cell_type": "markdown",
   "metadata": {},
   "source": [
    "## Positional Embedding/Encoding"
   ]
  },
  {
   "cell_type": "code",
   "execution_count": 21,
   "metadata": {},
   "outputs": [],
   "source": [
    "## Positional Embeddings (Absolute Positional Encoding)\n",
    "context_size = 1024\n",
    "embedding_dim = 768\n",
    "pos_embedding_layer = Embedding(context_size, embedding_dim)"
   ]
  },
  {
   "cell_type": "code",
   "execution_count": 22,
   "metadata": {},
   "outputs": [
    {
     "data": {
      "text/plain": [
       "torch.Size([1024, 768])"
      ]
     },
     "execution_count": 22,
     "metadata": {},
     "output_type": "execute_result"
    }
   ],
   "source": [
    "pos_embedding_layer(arange(context_size)).shape"
   ]
  },
  {
   "cell_type": "code",
   "execution_count": 23,
   "metadata": {},
   "outputs": [
    {
     "name": "stdout",
     "output_type": "stream",
     "text": [
      "Embedding Shape::torch.Size([8, 1024, 768])\n",
      "Positional Embedding::torch.Size([1024, 768])\n",
      "Embeddings + Positional Embedding::torch.Size([8, 1024, 768])\n"
     ]
    }
   ],
   "source": [
    "embeddings = embedding_layer(batch['x'])\n",
    "print(f\"Embedding Shape::{embeddings.shape}\")\n",
    "pos_embeddings = pos_embedding_layer(arange(context_size))\n",
    "print(f\"Positional Embedding::{pos_embeddings.shape}\")\n",
    "final_input_embedding = embeddings + pos_embeddings\n",
    "print(f\"Embeddings + Positional Embedding::{final_input_embedding.shape}\") # this will be the input to the self attention layer"
   ]
  },
  {
   "attachments": {},
   "cell_type": "markdown",
   "metadata": {},
   "source": [
    "## Attention Mechanisms"
   ]
  },
  {
   "attachments": {},
   "cell_type": "markdown",
   "metadata": {},
   "source": [
    "### 1. Simplified Attention Mechanism **(No Trainable Weights)**\n",
    "- Converting **Embedding Vectors** to **Context Vectors**"
   ]
  },
  {
   "cell_type": "code",
   "execution_count": 24,
   "metadata": {},
   "outputs": [],
   "source": [
    "text = \"I see skies of green, red roses too\"\n",
    "token_ids = tokenizer_subword.encode(text)"
   ]
  },
  {
   "cell_type": "code",
   "execution_count": 25,
   "metadata": {},
   "outputs": [
    {
     "name": "stdout",
     "output_type": "stream",
     "text": [
      "Token IDs::[40, 766, 24091, 286, 4077, 11, 2266, 42152, 1165]\n",
      "Decoded Token IDs::I see skies of green, red roses too\n"
     ]
    }
   ],
   "source": [
    "print(f\"Token IDs::{token_ids}\")\n",
    "print(f\"Decoded Token IDs::{tokenizer_subword.decode(token_ids)}\")"
   ]
  },
  {
   "cell_type": "code",
   "execution_count": 26,
   "metadata": {},
   "outputs": [],
   "source": [
    "## Creating an embedding layer\n",
    "VOCAB_SIZE = tokenizer_subword.n_vocab # Vocab Size of the sub-word tokenizer\n",
    "EMBEDDING_SIZE = 3 # For Simplicity embedding each token into a 3-Dimensional Space\n",
    "embedding_layer = Embedding(VOCAB_SIZE, EMBEDDING_SIZE)"
   ]
  },
  {
   "cell_type": "code",
   "execution_count": 27,
   "metadata": {},
   "outputs": [
    {
     "data": {
      "text/plain": [
       "torch.Size([9, 3])"
      ]
     },
     "execution_count": 27,
     "metadata": {},
     "output_type": "execute_result"
    }
   ],
   "source": [
    "## Creating Embedding of our tokens\n",
    "embeddings = embedding_layer(tensor(token_ids))\n",
    "embeddings.shape"
   ]
  },
  {
   "cell_type": "code",
   "execution_count": 28,
   "metadata": {},
   "outputs": [
    {
     "name": "stdout",
     "output_type": "stream",
     "text": [
      "I --> [1.7113123 1.1494173 1.1294724]\n",
      "see --> [ 1.0290926  -0.6932279   0.41335833]\n",
      "skies --> [1.1129781 2.212876  1.1477424]\n",
      "of --> [-0.05231377 -0.57624644  0.5519367 ]\n",
      "green --> [-0.5591265   0.25379056  1.84578   ]\n",
      ", --> [ 0.8442495 -1.5011795  1.9497161]\n",
      "red --> [-1.4475088 -0.7225396  0.7565808]\n",
      "roses --> [ 1.7255375   0.29635075 -0.10784396]\n",
      "too --> [ 2.4827342  -0.42795664 -1.2683378 ]\n"
     ]
    }
   ],
   "source": [
    "embeddings = embeddings.detach().numpy().reshape(-1,3)\n",
    "for emb, tok in zip(embeddings,token_ids):\n",
    "    print(f\"{tokenizer_subword.decode([tok]).strip()} --> {emb}\")\n",
    "\n"
   ]
  },
  {
   "cell_type": "code",
   "execution_count": 29,
   "metadata": {},
   "outputs": [
    {
     "name": "stderr",
     "output_type": "stream",
     "text": [
      "/Users/sauravnaik/miniconda3/lib/python3.10/site-packages/pandas/core/arrays/masked.py:60: UserWarning: Pandas requires version '1.3.6' or newer of 'bottleneck' (version '1.3.5' currently installed).\n",
      "  from pandas.core import (\n"
     ]
    },
    {
     "data": {
      "image/png": "[encoded data removed]",
      "text/plain": [
       "<Figure size 640x480 with 2 Axes>"
      ]
     },
     "metadata": {},
     "output_type": "display_data"
    },
    {
     "data": {
      "image/png": "[encoded data removed]",
      "text/plain": [
       "<Figure size 640x480 with 2 Axes>"
      ]
     },
     "metadata": {},
     "output_type": "display_data"
    }
   ],
   "source": [
    "import seaborn as sns\n",
    "import numpy as np\n",
    "from matplotlib import pyplot as plt\n",
    "\n",
    "def softmax(mat):\n",
    "    '''Softmax as implemented in pytorch'''\n",
    "    num_ =  np.exp(mat-np.max(mat, axis=1, keepdims=True))\n",
    "    denom_ = np.sum(num_, axis=1, keepdims=True)\n",
    "    return num_/denom_\n",
    "\n",
    "\n",
    "labels = [tokenizer_subword.decode([i]) for i in token_ids]\n",
    "attention_scores = embeddings @ embeddings.T\n",
    "# Normalizing the attention scores by dividing by sum of the corresponding rows\n",
    "normalized_attention_scores = attention_scores/np.sum(attention_scores, axis=1, keepdims=True)\n",
    "## Plotting the HeatMap for the Normalized Attention Scores\n",
    "sns.heatmap(normalized_attention_scores, annot=True, cmap='gray',\n",
    "            xticklabels=labels,\n",
    "            yticklabels=labels)\n",
    "plt.title(\"Normalized Attention Scores (Divison by Row Sum)\")\n",
    "plt.show();\n",
    "\n",
    "softmaxed_attention_scores = softmax(attention_scores)\n",
    "sns.heatmap(softmaxed_attention_scores, annot=True, cmap='gray',\n",
    "            xticklabels=labels,\n",
    "            yticklabels=labels)\n",
    "plt.title(\"Softmaxed Attention Scores\")\n",
    "plt.show();"
   ]
  },
  {
   "cell_type": "code",
   "execution_count": 30,
   "metadata": {},
   "outputs": [
    {
     "name": "stdout",
     "output_type": "stream",
     "text": [
      "I --> [1.3874683 1.5806664 1.0589525]\n",
      "see --> [ 1.3348125  -0.53237635  0.6232031 ]\n",
      "skies --> [1.2012032 2.0276275 1.1386508]\n",
      "of --> [ 0.39446387 -0.636017    1.224982  ]\n",
      "green --> [-0.06086532  0.02856404  1.5997467 ]\n",
      ", --> [ 0.8187338 -1.4193703  1.8913684]\n",
      "red --> [-0.9092257  -0.58631164  1.067176  ]\n",
      "roses --> [ 2.0189228   0.15383333 -0.34451917]\n",
      "too --> [ 2.454287   -0.40463513 -1.2223805 ]\n"
     ]
    }
   ],
   "source": [
    "context_embeddings = softmaxed_attention_scores @ embeddings\n",
    "for emb, tok in zip(context_embeddings,token_ids):\n",
    "    print(f\"{tokenizer_subword.decode([tok]).strip()} --> {emb}\")"
   ]
  },
  {
   "attachments": {},
   "cell_type": "markdown",
   "metadata": {},
   "source": [
    "#### Same stuff but using pytorch"
   ]
  },
  {
   "cell_type": "code",
   "execution_count": 31,
   "metadata": {},
   "outputs": [
    {
     "name": "stdout",
     "output_type": "stream",
     "text": [
      "I --> [1.3874683 1.5806664 1.0589525]\n",
      "see --> [ 1.3348125  -0.53237635  0.6232031 ]\n",
      "skies --> [1.2012032 2.0276275 1.1386508]\n",
      "of --> [ 0.39446387 -0.63601696  1.224982  ]\n",
      "green --> [-0.0608653   0.02856402  1.5997468 ]\n",
      ", --> [ 0.81873393 -1.4193704   1.8913686 ]\n",
      "red --> [-0.9092257  -0.58631164  1.067176  ]\n",
      "roses --> [ 2.0189226   0.15383333 -0.34451914]\n",
      "too --> [ 2.4542873 -0.4046352 -1.2223806]\n"
     ]
    }
   ],
   "source": [
    "import torch\n",
    "attn_scores = embeddings @ embeddings.T\n",
    "attn_weights = torch.softmax(tensor(attn_scores), dim = -1)\n",
    "context_embeddings = attn_weights @ embeddings\n",
    "for emb, tok in zip(context_embeddings,token_ids):\n",
    "    print(f\"{tokenizer_subword.decode([tok]).strip()} --> {emb.detach().numpy()}\")"
   ]
  },
  {
   "attachments": {},
   "cell_type": "markdown",
   "metadata": {},
   "source": [
    "#### We observe our calculations give us similar results"
   ]
  },
  {
   "attachments": {},
   "cell_type": "markdown",
   "metadata": {},
   "source": [
    "#### Why the need for Trainable Weights?"
   ]
  },
  {
   "attachments": {},
   "cell_type": "markdown",
   "metadata": {},
   "source": [
    "### 2. Self Attention Mechanism **(With Trainable Weights)**\n",
    "- Converting **Embedding Vectors** to **Context Vectors**\n",
    "- Creating *Query*, *Key* and *Value* matrices **(Trainable Weights)**"
   ]
  },
  {
   "cell_type": "code",
   "execution_count": 32,
   "metadata": {},
   "outputs": [],
   "source": [
    "torch.manual_seed(123)\n",
    "d_in = EMBEDDING_SIZE\n",
    "d_out = 2\n",
    "w_Q = torch.nn.Parameter(torch.rand(d_in, d_out), requires_grad=False)# Query Weight Matrix\n",
    "w_K = torch.nn.Parameter(torch.rand(d_in, d_out), requires_grad=False)# Key Weight Matrix\n",
    "w_V = torch.nn.Parameter(torch.rand(d_in, d_out), requires_grad=False)# Value Weight Matrix"
   ]
  },
  {
   "cell_type": "code",
   "execution_count": 33,
   "metadata": {},
   "outputs": [],
   "source": [
    "embeddings_tensors = tensor(embeddings)"
   ]
  },
  {
   "cell_type": "code",
   "execution_count": 34,
   "metadata": {},
   "outputs": [
    {
     "data": {
      "text/plain": [
       "tensor([[ 0.8796,  2.6542],\n",
       "        [ 0.1608,  0.4124],\n",
       "        [ 0.9714,  3.0932],\n",
       "        [-0.1197,  0.0545],\n",
       "        [ 0.0348,  1.4853],\n",
       "        [ 0.0164,  1.0919],\n",
       "        [-0.5545, -0.5896],\n",
       "        [ 0.5776,  1.0020],\n",
       "        [ 0.5336, -0.1112]])"
      ]
     },
     "execution_count": 34,
     "metadata": {},
     "output_type": "execute_result"
    }
   ],
   "source": [
    "query = embeddings_tensors @ w_Q\n",
    "key = embeddings_tensors @ w_K\n",
    "value = embeddings_tensors @ w_V\n",
    "query"
   ]
  },
  {
   "attachments": {},
   "cell_type": "markdown",
   "metadata": {},
   "source": [
    "#### Can also be done in a different way"
   ]
  },
  {
   "cell_type": "code",
   "execution_count": 35,
   "metadata": {},
   "outputs": [
    {
     "name": "stdout",
     "output_type": "stream",
     "text": [
      "Inputs shape::torch.Size([9, 3])\n",
      "q_k_v shape::torch.Size([3, 6])\n",
      "Outputs shape::torch.Size([9, 6])\n"
     ]
    }
   ],
   "source": [
    "## concating query, key and value weights horizontally\n",
    "q_k_v = torch.concat([w_Q,w_K,w_V], dim = -1)\n",
    "print(f\"Inputs shape::{embeddings_tensors.shape}\")\n",
    "print(f\"q_k_v shape::{q_k_v.shape}\")\n",
    "outputs = embeddings_tensors@q_k_v\n",
    "print(f\"Outputs shape::{outputs.shape}\")"
   ]
  },
  {
   "cell_type": "code",
   "execution_count": 36,
   "metadata": {},
   "outputs": [
    {
     "data": {
      "text/plain": [
       "tensor([[ True,  True],\n",
       "        [ True,  True],\n",
       "        [ True,  True],\n",
       "        [ True,  True],\n",
       "        [ True,  True],\n",
       "        [ True,  True],\n",
       "        [ True,  True],\n",
       "        [ True,  True],\n",
       "        [ True, False]])"
      ]
     },
     "execution_count": 36,
     "metadata": {},
     "output_type": "execute_result"
    }
   ],
   "source": [
    "query_new, key_new, value_new = torch.hsplit(outputs,3)\n",
    "query_new==query"
   ]
  },
  {
   "cell_type": "code",
   "execution_count": 37,
   "metadata": {},
   "outputs": [
    {
     "name": "stdout",
     "output_type": "stream",
     "text": [
      "Context Vectors\n",
      "--------------------\n",
      "\n",
      "I --> [0.7957879 1.9220514]\n",
      "see --> [0.27333757 1.0353588 ]\n",
      "skies --> [0.82855  1.960871]\n",
      "of --> [0.14559208 0.7469482 ]\n",
      "green --> [0.57743907 1.6006691 ]\n",
      ", --> [0.46911147 1.4134212 ]\n",
      "red --> [-0.00611178  0.32325485]\n",
      "roses --> [0.49385783 1.4620982 ]\n",
      "too --> [0.1581789 0.7853605]\n"
     ]
    }
   ],
   "source": [
    "attn_scores = query_new @ key_new.T\n",
    "scaled_attn_scores = attn_scores/torch.math.sqrt(w_K.shape[-1]) ## scaled attention scores\n",
    "attn_weights = torch.softmax(scaled_attn_scores, dim = -1)\n",
    "\n",
    "context_vectors = attn_weights @ value_new\n",
    "\n",
    "print(\"Context Vectors\", end = \"\\n\")\n",
    "print(\"--\"*10, end='\\n\\n')\n",
    "for emb, tok in zip(context_vectors,token_ids):\n",
    "    print(f\"{tokenizer_subword.decode([tok]).strip()} --> {emb.detach().numpy()}\")"
   ]
  },
  {
   "attachments": {},
   "cell_type": "markdown",
   "metadata": {},
   "source": [
    "#### Why we divide the attention scores by sqrt(key dimension)?\n",
    "1. **Stability in Learning**"
   ]
  },
  {
   "attachments": {},
   "cell_type": "markdown",
   "metadata": {},
   "source": [
    "### Causal Attention Layer"
   ]
  },
  {
   "cell_type": "code",
   "execution_count": 38,
   "metadata": {},
   "outputs": [],
   "source": [
    "CONTEXT_SIZE = 5\n",
    "inp_text = \"Hello How are you?\"\n",
    "embedding_layer = Embedding(tokenizer_subword.n_vocab, 768)\n",
    "pos_embedding_layer = Embedding(CONTEXT_SIZE, 768)\n",
    "inp_tok =tokenizer_subword.encode(inp_text)\n",
    "embeddings = embedding_layer(tensor([inp_tok]))\n",
    "pos_emb = pos_embedding_layer(torch.arange(tensor(embeddings.shape[1])))\n",
    "inp_embedding = embeddings + pos_emb\n"
   ]
  },
  {
   "cell_type": "code",
   "execution_count": 39,
   "metadata": {},
   "outputs": [],
   "source": [
    "class CausalAttention(torch.nn.Module):\n",
    "    def __init__(self, d_in, d_out,context_length,\n",
    "                 dropout = 0, q_k_v_bias = False,\n",
    "                 causal_mask = True):\n",
    "        super().__init__()\n",
    "        self.W_query = torch.nn.Parameter(torch.rand(d_in, d_out))\n",
    "        self.W_key = torch.nn.Parameter(torch.rand(d_in, d_out))\n",
    "        self.W_value = torch.nn.Parameter(torch.rand(d_in, d_out))\n",
    "        self.dropout = torch.nn.Dropout(dropout)\n",
    "        self.causal_mask = causal_mask\n",
    "        self.register_buffer('mask', torch.triu(torch.ones(context_length,context_length),diagonal=1))\n",
    "\n",
    "    def forward(self, x):\n",
    "        # batch, seq_len, d_in = x.shape\n",
    "        q_k_v =  torch.concat([self.W_query,self.W_key,self.W_value],dim = -1)\n",
    "        # print(f\"q_k_v shape: {q_k_v.shape}\")\n",
    "        combined_transform = x @ q_k_v\n",
    "        # print(f\"combined_transform shape: {combined_transform.shape}\")\n",
    "        query, key, value = torch.split(combined_transform,self.W_key.shape[-1], dim=2)\n",
    "        attn_weights = query @ key.transpose(1,2) # (batch X seq_len X seq_len)\n",
    "        if self.causal_mask:\n",
    "            attn_weights = attn_weights.masked_fill(self.mask.bool(),-torch.inf)\n",
    "        scaled_attn_weights = attn_weights/key.shape[-1]**0.5\n",
    "        attn_scores = self.dropout(torch.softmax(scaled_attn_weights, dim=-1))\n",
    "        return {\"context_vectors\": attn_scores @ value,\n",
    "                \"attn_scores\": attn_scores} # context rich vectors (batch X seq_len X embedding_dim)\n"
   ]
  },
  {
   "cell_type": "code",
   "execution_count": 40,
   "metadata": {},
   "outputs": [],
   "source": [
    "# inp_embedding = torch.concat([inp_embedding]*5, dim = 0)\n",
    "c_attn = CausalAttention(*(768,768,5), causal_mask=True)\n",
    "# c_attn(inp_embedding)"
   ]
  },
  {
   "cell_type": "code",
   "execution_count": 41,
   "metadata": {},
   "outputs": [
    {
     "name": "stdout",
     "output_type": "stream",
     "text": [
      "torch.Size([768, 768])\n",
      "torch.Size([768, 768])\n",
      "torch.Size([768, 768])\n"
     ]
    }
   ],
   "source": [
    "for param in c_attn.parameters():\n",
    "    print(param.shape)"
   ]
  },
  {
   "cell_type": "code",
   "execution_count": 42,
   "metadata": {},
   "outputs": [
    {
     "data": {
      "text/plain": [
       "{'context_vectors': tensor([[[  2.3038,  -6.3534,   0.2914,  ...,  -6.2244,   9.5452,  -8.3201],\n",
       "          [  2.3038,  -6.3534,   0.2914,  ...,  -6.2244,   9.5452,  -8.3201],\n",
       "          [ 37.6857,  25.8231,  17.3346,  ...,  21.4372,  28.7299,  36.8135],\n",
       "          [ 37.6857,  25.8231,  17.3346,  ...,  21.4372,  28.7299,  36.8135],\n",
       "          [-34.3452, -44.6836, -41.2677,  ..., -44.9336, -21.9690, -32.7346]]],\n",
       "        grad_fn=<UnsafeViewBackward0>),\n",
       " 'attn_scores': tensor([[[1., 0., 0., 0., 0.],\n",
       "          [1., 0., 0., 0., 0.],\n",
       "          [0., 0., 1., 0., 0.],\n",
       "          [0., 0., 1., 0., 0.],\n",
       "          [0., 0., 0., 0., 1.]]], grad_fn=<SoftmaxBackward0>)}"
      ]
     },
     "execution_count": 42,
     "metadata": {},
     "output_type": "execute_result"
    }
   ],
   "source": [
    "c_attn(inp_embedding)"
   ]
  },
  {
   "attachments": {},
   "cell_type": "markdown",
   "metadata": {},
   "source": [
    "### Muti Head Attention"
   ]
  },
  {
   "cell_type": "code",
   "execution_count": 43,
   "metadata": {},
   "outputs": [],
   "source": [
    "## applies heads sequentially\n",
    "class MultiHeadAttentionWrapper(torch.nn.Module):\n",
    "    def __init__(self, d_in, d_out,context_length, num_heads, dropout = 0.0, q_k_v_bias = False):\n",
    "        super().__init__()\n",
    "        self.out_layer = torch.nn.Parameter(torch.rand(num_heads * d_out, d_out))\n",
    "        self.heads = torch.nn.ModuleList([CausalAttention(d_in, d_out,context_length) for _ in range(num_heads)])\n",
    "    def forward(self, x):\n",
    "        concated_context_vecs = torch.concat([head(x)['context_vectors'] for head in self.heads], dim=-1)\n",
    "        return concated_context_vecs @ self.out_layer\n"
   ]
  },
  {
   "cell_type": "code",
   "execution_count": 44,
   "metadata": {},
   "outputs": [],
   "source": [
    "multi_attn = MultiHeadAttentionWrapper(768,3,5,10, dropout=0.5)"
   ]
  },
  {
   "cell_type": "code",
   "execution_count": 45,
   "metadata": {},
   "outputs": [
    {
     "data": {
      "text/plain": [
       "torch.Size([1, 5, 3])"
      ]
     },
     "execution_count": 45,
     "metadata": {},
     "output_type": "execute_result"
    }
   ],
   "source": [
    "out_ = multi_attn(inp_embedding)\n",
    "out_.shape"
   ]
  },
  {
   "attachments": {},
   "cell_type": "markdown",
   "metadata": {},
   "source": [
    "#### Improving the MultiHead Attention By implementing the heads parallely"
   ]
  },
  {
   "cell_type": "code",
   "execution_count": 46,
   "metadata": {},
   "outputs": [],
   "source": [
    "class MultiHeadAttention(torch.nn.Module):\n",
    "    def __init__(self, d_in, d_out, context_length, num_heads,dropout = 0.0, causal_mask = True):\n",
    "        super().__init__()\n",
    "        self.num_heads = num_heads\n",
    "        self.d_out = d_out\n",
    "        self.W_query = torch.nn.Parameter(torch.rand(d_in, num_heads * d_out, dtype=torch.float32))\n",
    "        self.W_key = torch.nn.Parameter(torch.rand(d_in, num_heads * d_out, dtype=torch.float32))\n",
    "        self.W_value = torch.nn.Parameter(torch.rand(d_in, num_heads * d_out, dtype=torch.float32))\n",
    "        self.dropout = torch.nn.Dropout(dropout)\n",
    "        self.out_project = torch.nn.Parameter(torch.rand(num_heads *d_out, d_out, dtype=torch.float32))\n",
    "        self.causal_mask = causal_mask\n",
    "        self.register_buffer('mask', torch.triu(torch.ones(context_length,context_length),diagonal=1))\n",
    "\n",
    "    def forward(self, x):\n",
    "        batch_size, seq_len, d_in = x.shape\n",
    "        # q_k_v =  torch.concat([self.W_query,self.W_key,self.W_value],dim = -1)\n",
    "        queries = x @ self.W_query\n",
    "        keys = x @ self.W_key\n",
    "        values = x @ self.W_value\n",
    "\n",
    "        # Reshape for multi-head attention\n",
    "        queries = queries.view(batch_size, seq_len, self.num_heads, self.d_out)\n",
    "        keys = keys.view(batch_size, seq_len, self.num_heads, self.d_out)\n",
    "        values = values.view(batch_size, seq_len, self.num_heads, self.d_out)\n",
    "\n",
    "        # Transpose the shapes (Grouping with respect to number of heads)\n",
    "        queries = queries.transpose(1,2)# (batch X num_heads X seq_len X d_out)\n",
    "        keys = keys.transpose(1,2)# (batch X num_heads X seq_len X d_out)\n",
    "        values = values.transpose(1,2)# (batch X num_heads X seq_len X d_out)\n",
    "\n",
    "        # Calculating Attention Scores\n",
    "        attn_weights = queries @ keys.transpose(2,3) # (batch X num_heads X seq_len X seq_len)\n",
    "\n",
    "        # Adding the Causal Mask\n",
    "        if self.causal_mask:\n",
    "            attn_weights = attn_weights.masked_fill(self.mask.bool()[:seq_len,:seq_len],-torch.inf)# (batch X num_heads X seq_len X seq_len)\n",
    "\n",
    "        # Scaling and Softmax the atten scores\n",
    "        scaled_attn_weights = attn_weights/keys.shape[-1]**0.5# (batch X num_heads X seq_len X seq_len)\n",
    "        attn_scores = self.dropout(torch.softmax(scaled_attn_weights, dim=-1))# (batch X num_heads X seq_len X seq_len)\n",
    "        # print(f\"Attention Shape::{attn_scores.shape}\")\n",
    "        # print(f\"Max val in attn score matrix:: {attn_scores.max().detach().numpy()}\")\n",
    "        context_vectors = (attn_scores @ values).transpose(1,2)# (batch X seq_len X num_heads X d_out)\n",
    "        concated_context_vectors = context_vectors.contiguous().view(batch_size,seq_len,-1)# (batch X seq_len X num_heads * d_out)\n",
    "        context_vectors = concated_context_vectors @ self.out_project# (batch X seq_len X d_out)\n",
    "        return {\"context_vectors\": context_vectors,\n",
    "                \"attn_scores\": attn_scores} # context vectors (batch X seq_len X embedding_dim)\n",
    "                                            # attn_scores (batch X num_heads X seq_len X seq_len)\n",
    "\n"
   ]
  },
  {
   "cell_type": "code",
   "execution_count": 47,
   "metadata": {},
   "outputs": [
    {
     "data": {
      "text/plain": [
       "torch.Size([1, 5, 768])"
      ]
     },
     "execution_count": 47,
     "metadata": {},
     "output_type": "execute_result"
    }
   ],
   "source": [
    "inp_embedding.shape"
   ]
  },
  {
   "cell_type": "code",
   "execution_count": 48,
   "metadata": {},
   "outputs": [
    {
     "data": {
      "text/plain": [
       "torch.Size([10, 5, 768])"
      ]
     },
     "execution_count": 48,
     "metadata": {},
     "output_type": "execute_result"
    }
   ],
   "source": [
    "# making batch size = 5\n",
    "inp_embedding_new = torch.concat([inp_embedding]*10, dim =0)\n",
    "inp_embedding_new += torch.rand(size = (inp_embedding_new.shape)) # making values in each batch different\n",
    "inp_embedding_new.shape"
   ]
  },
  {
   "cell_type": "code",
   "execution_count": 49,
   "metadata": {},
   "outputs": [],
   "source": [
    "multi_attn = MultiHeadAttention(d_in=768,\n",
    "                                d_out = 751,\n",
    "                                num_heads=2,\n",
    "                                context_length=5,\n",
    "                                dropout=0.4)\n",
    "# multi_attn.eval()"
   ]
  },
  {
   "cell_type": "code",
   "execution_count": 50,
   "metadata": {},
   "outputs": [
    {
     "data": {
      "text/plain": [
       "torch.Size([10, 5, 751])"
      ]
     },
     "execution_count": 50,
     "metadata": {},
     "output_type": "execute_result"
    }
   ],
   "source": [
    "multi_attn(inp_embedding_new)['context_vectors'].shape"
   ]
  },
  {
   "cell_type": "code",
   "execution_count": 51,
   "metadata": {},
   "outputs": [],
   "source": [
    "attn_scores = multi_attn(inp_embedding_new)['attn_scores']"
   ]
  },
  {
   "cell_type": "code",
   "execution_count": 52,
   "metadata": {},
   "outputs": [
    {
     "data": {
      "text/plain": [
       "torch.Size([10, 2, 5, 5])"
      ]
     },
     "execution_count": 52,
     "metadata": {},
     "output_type": "execute_result"
    }
   ],
   "source": [
    "(attn_scores.shape)"
   ]
  },
  {
   "cell_type": "code",
   "execution_count": 53,
   "metadata": {},
   "outputs": [
    {
     "data": {
      "image/png": "[encoded data removed]",
      "text/plain": [
       "<Figure size 640x480 with 2 Axes>"
      ]
     },
     "metadata": {},
     "output_type": "display_data"
    },
    {
     "data": {
      "image/png": "[encoded data removed]",
      "text/plain": [
       "<Figure size 640x480 with 2 Axes>"
      ]
     },
     "metadata": {},
     "output_type": "display_data"
    },
    {
     "data": {
      "image/png": "[encoded data removed]",
      "text/plain": [
       "<Figure size 640x480 with 2 Axes>"
      ]
     },
     "metadata": {},
     "output_type": "display_data"
    },
    {
     "data": {
      "image/png": "[encoded data removed]",
      "text/plain": [
       "<Figure size 640x480 with 2 Axes>"
      ]
     },
     "metadata": {},
     "output_type": "display_data"
    },
    {
     "data": {
      "image/png": "[encoded data removed]",
      "text/plain": [
       "<Figure size 640x480 with 2 Axes>"
      ]
     },
     "metadata": {},
     "output_type": "display_data"
    },
    {
     "data": {
      "image/png": "[encoded data removed]",
      "text/plain": [
       "<Figure size 640x480 with 2 Axes>"
      ]
     },
     "metadata": {},
     "output_type": "display_data"
    },
    {
     "data": {
      "image/png": "[encoded data removed]",
      "text/plain": [
       "<Figure size 640x480 with 2 Axes>"
      ]
     },
     "metadata": {},
     "output_type": "display_data"
    },
    {
     "data": {
      "image/png": "[encoded data removed]",
      "text/plain": [
       "<Figure size 640x480 with 2 Axes>"
      ]
     },
     "metadata": {},
     "output_type": "display_data"
    },
    {
     "data": {
      "image/png": "[encoded data removed]",
      "text/plain": [
       "<Figure size 640x480 with 2 Axes>"
      ]
     },
     "metadata": {},
     "output_type": "display_data"
    },
    {
     "data": {
      "image/png": "[encoded data removed]",
      "text/plain": [
       "<Figure size 640x480 with 2 Axes>"
      ]
     },
     "metadata": {},
     "output_type": "display_data"
    },
    {
     "data": {
      "image/png": "[encoded data removed]",
      "text/plain": [
       "<Figure size 640x480 with 2 Axes>"
      ]
     },
     "metadata": {},
     "output_type": "display_data"
    },
    {
     "data": {
      "image/png": "[encoded data removed]",
      "text/plain": [
       "<Figure size 640x480 with 2 Axes>"
      ]
     },
     "metadata": {},
     "output_type": "display_data"
    },
    {
     "data": {
      "image/png": "[encoded data removed]",
      "text/plain": [
       "<Figure size 640x480 with 2 Axes>"
      ]
     },
     "metadata": {},
     "output_type": "display_data"
    },
    {
     "data": {
      "image/png": "[encoded data removed]",
      "text/plain": [
       "<Figure size 640x480 with 2 Axes>"
      ]
     },
     "metadata": {},
     "output_type": "display_data"
    },
    {
     "data": {
      "image/png": "[encoded data removed]",
      "text/plain": [
       "<Figure size 640x480 with 2 Axes>"
      ]
     },
     "metadata": {},
     "output_type": "display_data"
    },
    {
     "data": {
      "image/png": "[encoded data removed]",
      "text/plain": [
       "<Figure size 640x480 with 2 Axes>"
      ]
     },
     "metadata": {},
     "output_type": "display_data"
    },
    {
     "data": {
      "image/png": "[encoded data removed]",
      "text/plain": [
       "<Figure size 640x480 with 2 Axes>"
      ]
     },
     "metadata": {},
     "output_type": "display_data"
    },
    {
     "data": {
      "image/png": "[encoded data removed]",
      "text/plain": [
       "<Figure size 640x480 with 2 Axes>"
      ]
     },
     "metadata": {},
     "output_type": "display_data"
    },
    {
     "data": {
      "image/png": "[encoded data removed]",
      "text/plain": [
       "<Figure size 640x480 with 2 Axes>"
      ]
     },
     "metadata": {},
     "output_type": "display_data"
    },
    {
     "data": {
      "image/png": "[encoded data removed]",
      "text/plain": [
       "<Figure size 640x480 with 2 Axes>"
      ]
     },
     "metadata": {},
     "output_type": "display_data"
    }
   ],
   "source": [
    "batch_size, num_heads, _, _= attn_scores.shape\n",
    "for batch in range(batch_size):\n",
    "    for head in range(num_heads):\n",
    "        sns.heatmap(attn_scores[batch, head,:,:].detach())\n",
    "        plt.title(f\"BATCH::{batch+1} | HEAD::{head + 1}\")\n",
    "        plt.show()"
   ]
  },
  {
   "attachments": {},
   "cell_type": "markdown",
   "metadata": {},
   "source": [
    "### GPT 2 Model"
   ]
  },
  {
   "cell_type": "code",
   "execution_count": 54,
   "metadata": {},
   "outputs": [],
   "source": [
    "# configuration dictionary\n",
    "GPT2_CONFIG = {\n",
    "                \"vocab_size\":50257,\n",
    "                \"context_len\":1024,\n",
    "                \"embedding_dim\":768,\n",
    "                \"dropout_rate\":0.0,\n",
    "                \"n_layers\":12,\n",
    "                \"n_heads\":12,\n",
    "                \"q_k_v_bias\":False,\n",
    "                \"drop_rate\":0.4\n",
    "              }"
   ]
  },
  {
   "cell_type": "code",
   "execution_count": 55,
   "metadata": {},
   "outputs": [],
   "source": [
    "class DummyGPT2(torch.nn.Module):\n",
    "    def __init__(self, config):\n",
    "        super().__init__()\n",
    "        self.config = config\n",
    "        self.emb_layer = torch.nn.Embedding(self.config.get('vocab_size'),\n",
    "                                            self.config.get('embedding_dim'))\n",
    "        self.pos_enc_layer = torch.nn.Embedding(self.config.get(\"context_len\"),\n",
    "                                                self.config.get(\"embedding_dim\"))\n",
    "        self.drop_emb_layer = torch.nn.Dropout(self.config.get('dropout_rate'))\n",
    "\n",
    "        # Transformer Blocks\n",
    "        self.trf_blocks = torch.nn.Sequential(*[DummyTransformerlock(GPT2_CONFIG) \\\n",
    "                                                for _ in range(self.config.get(\"n_layers\"))])\n",
    "        # LayerNorm\n",
    "        self.final_norm = DummyLayerNorm(GPT2_CONFIG)\n",
    "\n",
    "        # output head\n",
    "        self.out_head = torch.nn.Linear(self.config.get(\"embedding_dim\"),\n",
    "                                        self.config.get(\"vocab_size\"))\n",
    "\n",
    "    def forward(self, inp_):\n",
    "        batch_size, seq_len = inp_.shape\n",
    "        tok_emb = self.emb_layer(inp_)\n",
    "        pos_emb = self.pos_enc_layer(torch.arange(seq_len, device = inp_.device))\n",
    "        inp_emb = tok_emb + pos_emb\n",
    "        inp_emb = self.drop_emb_layer(inp_emb)\n",
    "        x = self.trf_blocks(inp_emb)\n",
    "        x = self.final_norm(x)\n",
    "        logits = self.out_head(x) # (batch_size X seq_len X vocab_size)\n",
    "        return logits\n",
    "\n",
    "\n",
    "\n",
    "class DummyTransformerlock(torch.nn.Module):\n",
    "    def __init__(self, config):\n",
    "        super().__init__()\n",
    "        pass\n",
    "    def forward(self, x):\n",
    "        ## TODO:: add code\n",
    "        return x\n",
    "\n",
    "class DummyLayerNorm(torch.nn.Module):\n",
    "    def __init__(self, config):\n",
    "        super().__init__()\n",
    "        pass\n",
    "    def forward(self, x):\n",
    "        return x\n"
   ]
  },
  {
   "cell_type": "code",
   "execution_count": 56,
   "metadata": {},
   "outputs": [],
   "source": [
    "gpt_model = DummyGPT2(GPT2_CONFIG)"
   ]
  },
  {
   "cell_type": "code",
   "execution_count": 57,
   "metadata": {},
   "outputs": [
    {
     "data": {
      "text/plain": [
       "DummyGPT2(\n",
       "  (emb_layer): Embedding(50257, 768)\n",
       "  (pos_enc_layer): Embedding(1024, 768)\n",
       "  (drop_emb_layer): Dropout(p=0.0, inplace=False)\n",
       "  (trf_blocks): Sequential(\n",
       "    (0): DummyTransformerlock()\n",
       "    (1): DummyTransformerlock()\n",
       "    (2): DummyTransformerlock()\n",
       "    (3): DummyTransformerlock()\n",
       "    (4): DummyTransformerlock()\n",
       "    (5): DummyTransformerlock()\n",
       "    (6): DummyTransformerlock()\n",
       "    (7): DummyTransformerlock()\n",
       "    (8): DummyTransformerlock()\n",
       "    (9): DummyTransformerlock()\n",
       "    (10): DummyTransformerlock()\n",
       "    (11): DummyTransformerlock()\n",
       "  )\n",
       "  (final_norm): DummyLayerNorm()\n",
       "  (out_head): Linear(in_features=768, out_features=50257, bias=True)\n",
       ")"
      ]
     },
     "execution_count": 57,
     "metadata": {},
     "output_type": "execute_result"
    }
   ],
   "source": [
    "gpt_model"
   ]
  },
  {
   "cell_type": "code",
   "execution_count": 58,
   "metadata": {},
   "outputs": [],
   "source": [
    "import torchinfo"
   ]
  },
  {
   "cell_type": "code",
   "execution_count": 59,
   "metadata": {},
   "outputs": [
    {
     "data": {
      "text/plain": [
       "=================================================================\n",
       "Layer (type:depth-idx)                   Param #\n",
       "=================================================================\n",
       "DummyGPT2                                --\n",
       "├─Embedding: 1-1                         38,597,376\n",
       "├─Embedding: 1-2                         786,432\n",
       "├─Dropout: 1-3                           --\n",
       "├─Sequential: 1-4                        --\n",
       "│    └─DummyTransformerlock: 2-1         --\n",
       "│    └─DummyTransformerlock: 2-2         --\n",
       "│    └─DummyTransformerlock: 2-3         --\n",
       "│    └─DummyTransformerlock: 2-4         --\n",
       "│    └─DummyTransformerlock: 2-5         --\n",
       "│    └─DummyTransformerlock: 2-6         --\n",
       "│    └─DummyTransformerlock: 2-7         --\n",
       "│    └─DummyTransformerlock: 2-8         --\n",
       "│    └─DummyTransformerlock: 2-9         --\n",
       "│    └─DummyTransformerlock: 2-10        --\n",
       "│    └─DummyTransformerlock: 2-11        --\n",
       "│    └─DummyTransformerlock: 2-12        --\n",
       "├─DummyLayerNorm: 1-5                    --\n",
       "├─Linear: 1-6                            38,647,633\n",
       "=================================================================\n",
       "Total params: 78,031,441\n",
       "Trainable params: 78,031,441\n",
       "Non-trainable params: 0\n",
       "================================================================="
      ]
     },
     "execution_count": 59,
     "metadata": {},
     "output_type": "execute_result"
    }
   ],
   "source": [
    "torchinfo.summary(gpt_model)"
   ]
  },
  {
   "cell_type": "code",
   "execution_count": 60,
   "metadata": {},
   "outputs": [
    {
     "data": {
      "text/plain": [
       "tensor([[[ 1.2284, -0.4354, -0.0451,  ..., -0.4942, -1.0726, -1.2486],\n",
       "         [-0.2800,  0.2542, -0.3948,  ..., -0.9709,  0.2893, -0.3089],\n",
       "         [ 0.3929,  0.7372,  0.1150,  ..., -0.2027,  0.6534,  0.2919],\n",
       "         [-0.8358,  0.2261, -0.0887,  ...,  1.4818, -1.7524, -1.3620]],\n",
       "\n",
       "        [[ 0.7311, -0.3459,  1.3259,  ...,  0.3655, -0.6539, -0.6194],\n",
       "         [ 0.5093, -0.7993,  0.1675,  ..., -1.1081,  0.9756,  1.0890],\n",
       "         [-0.5865,  1.2916, -0.2720,  ...,  1.0786, -0.9453, -1.9825],\n",
       "         [-0.3628,  1.3632, -0.9237,  ...,  1.1073, -0.7341,  1.3375]],\n",
       "\n",
       "        [[ 0.0572,  0.1553,  0.0095,  ...,  0.1298, -0.8693, -0.4992],\n",
       "         [-0.1554,  0.8274, -1.3559,  ..., -0.4688, -0.2252, -0.3477],\n",
       "         [-0.2913,  0.9111, -0.4002,  ..., -0.9396, -0.2297, -0.2273],\n",
       "         [ 0.8517,  0.3166,  1.3191,  ...,  1.5358, -0.0162, -0.6474]]],\n",
       "       grad_fn=<ViewBackward0>)"
      ]
     },
     "execution_count": 60,
     "metadata": {},
     "output_type": "execute_result"
    }
   ],
   "source": [
    "text = [\"Hello How are you\",\n",
    "        \"Hey are you thirsty\",\n",
    "        \"DO your best buddy\"]\n",
    "# have made sure that each batch has 4 tokens\n",
    "# if not that needs to be handeled using padding\n",
    "inp_tokens = tokenizer_subword.encode_batch(text)\n",
    "gpt_model(torch.tensor(inp_tokens))"
   ]
  },
  {
   "attachments": {},
   "cell_type": "markdown",
   "metadata": {},
   "source": [
    "### Layer Normalization"
   ]
  },
  {
   "cell_type": "code",
   "execution_count": 61,
   "metadata": {},
   "outputs": [
    {
     "data": {
      "text/plain": [
       "tensor([[0.0000, 1.9334, 0.0000, 4.4976, 0.0000, 0.0000],\n",
       "        [0.6159, 0.0000, 0.0000, 0.5307, 0.0000, 0.0000]])"
      ]
     },
     "execution_count": 61,
     "metadata": {},
     "output_type": "execute_result"
    }
   ],
   "source": [
    "batch = torch.randn(2,5)\n",
    "weight = torch.randn(5,6)\n",
    "out = torch.nn.functional.relu(batch@weight)\n",
    "out"
   ]
  },
  {
   "cell_type": "code",
   "execution_count": 62,
   "metadata": {},
   "outputs": [],
   "source": [
    "mean = out.mean(dim = -1, keepdim=True)\n",
    "var = out.var(dim = -1, keepdim=True)\n",
    "out_norm = (out-mean)/var**0.5\n"
   ]
  },
  {
   "cell_type": "code",
   "execution_count": 63,
   "metadata": {},
   "outputs": [],
   "source": [
    "class LayerNorm(torch.nn.Module):\n",
    "\n",
    "    def __init__(self, embedding_dim):\n",
    "        super().__init__()\n",
    "        self.eps = 1e-5 # to avoid zero divison\n",
    "        self.scale = torch.nn.Parameter(torch.ones(embedding_dim))\n",
    "        self.shift = torch.nn.Parameter(torch.zeros(embedding_dim))\n",
    "\n",
    "    def forward(self, x:torch.tensor):\n",
    "        mean = x.mean(dim = -1, keepdim = True)\n",
    "        var =  x.var(dim = -1, unbiased = False,keepdim = True) # Bessel's Correction\n",
    "        normed = (x-mean)/torch.sqrt(var + self.eps)\n",
    "        return (normed * self.scale) + self.shift # gives more flexibility\n",
    "\n"
   ]
  },
  {
   "attachments": {},
   "cell_type": "markdown",
   "metadata": {},
   "source": [
    "#### Why Scaling and Shifting is required?\n"
   ]
  },
  {
   "attachments": {},
   "cell_type": "markdown",
   "metadata": {},
   "source": []
  },
  {
   "cell_type": "code",
   "execution_count": 64,
   "metadata": {},
   "outputs": [
    {
     "data": {
      "text/plain": [
       "torch.Size([2, 5])"
      ]
     },
     "execution_count": 64,
     "metadata": {},
     "output_type": "execute_result"
    }
   ],
   "source": [
    "batch.shape"
   ]
  },
  {
   "cell_type": "code",
   "execution_count": 65,
   "metadata": {},
   "outputs": [
    {
     "data": {
      "text/plain": [
       "tensor([[-0.8782,  0.1438,  1.8766, -0.4404, -0.7017],\n",
       "        [-1.2088,  0.9044, -1.1713,  0.3773,  1.0984]])"
      ]
     },
     "execution_count": 65,
     "metadata": {},
     "output_type": "execute_result"
    }
   ],
   "source": [
    "with torch.no_grad():\n",
    "    l_norm = LayerNorm(embedding_dim=5)\n",
    "    out_ = l_norm(batch)\n",
    "out_"
   ]
  },
  {
   "attachments": {},
   "cell_type": "markdown",
   "metadata": {},
   "source": [
    "### GELU Activation"
   ]
  },
  {
   "cell_type": "code",
   "execution_count": 66,
   "metadata": {},
   "outputs": [
    {
     "data": {
      "text/plain": [
       "tensor([[ 0.0405,  0.8105,  2.4731,  0.3113,  0.1365],\n",
       "        [-0.1450,  0.4548, -0.1417,  0.2279,  0.5484]])"
      ]
     },
     "execution_count": 66,
     "metadata": {},
     "output_type": "execute_result"
    }
   ],
   "source": [
    "torch.nn.GELU()(batch)"
   ]
  },
  {
   "cell_type": "code",
   "execution_count": 67,
   "metadata": {},
   "outputs": [
    {
     "data": {
      "text/plain": [
       "tensor([[0.0763, 0.9714, 2.4890, 0.4597, 0.2309],\n",
       "        [0.0000, 0.6208, 0.0000, 0.3565, 0.7181]])"
      ]
     },
     "execution_count": 67,
     "metadata": {},
     "output_type": "execute_result"
    }
   ],
   "source": [
    "torch.nn.ReLU()(batch)"
   ]
  },
  {
   "cell_type": "code",
   "execution_count": 68,
   "metadata": {},
   "outputs": [],
   "source": [
    "batch = (batch-batch.mean())/batch.var()**0.5"
   ]
  },
  {
   "cell_type": "code",
   "execution_count": 69,
   "metadata": {},
   "outputs": [],
   "source": [
    "class GELU(torch.nn.Module):\n",
    "    def __init__(self):\n",
    "        super().__init__()\n",
    "    def forward(self,x):\n",
    "        return 0.5 * x * (1 + torch.tanh(torch.sqrt(torch.tensor(2.0/torch.pi))*\n",
    "                                         x + 0.044715 * torch.pow(x,3)))"
   ]
  },
  {
   "cell_type": "code",
   "execution_count": 70,
   "metadata": {},
   "outputs": [],
   "source": [
    "m = torch.nn.ReLU()"
   ]
  },
  {
   "cell_type": "code",
   "execution_count": 71,
   "metadata": {},
   "outputs": [
    {
     "data": {
      "image/png": "[encoded data removed]",
      "text/plain": [
       "<Figure size 640x480 with 1 Axes>"
      ]
     },
     "metadata": {},
     "output_type": "display_data"
    }
   ],
   "source": [
    "gelu = GELU()\n",
    "inp_ = torch.arange(-3,3,step=0.1, dtype=torch.float32)\n",
    "gelu_out = gelu(inp_)\n",
    "plt.plot(GELU()(inp_), label = \"GELU\")\n",
    "plt.plot(inp_, label = \"Input\")\n",
    "plt.plot(torch.nn.ReLU()(inp_), label = \"ReLU\")\n",
    "plt.grid('on')\n",
    "plt.legend();"
   ]
  },
  {
   "cell_type": "code",
   "execution_count": 72,
   "metadata": {},
   "outputs": [],
   "source": [
    "class FeedForward(torch.nn.Module):\n",
    "    def __init__(self, config):\n",
    "        super().__init__()\n",
    "        embedding_dim = config.get(\"embedding_dim\")\n",
    "        self.layers = torch.nn.Sequential(\n",
    "            torch.nn.Linear(embedding_dim, 4 * embedding_dim), # moves the input to a high dimensional space\n",
    "            GELU(),\n",
    "            torch.nn.Linear(4 * embedding_dim, embedding_dim)# move the activation back to embedding dimension space\n",
    "        )\n",
    "    def forward(self, x):\n",
    "        return self.layers(x)"
   ]
  },
  {
   "cell_type": "code",
   "execution_count": 73,
   "metadata": {},
   "outputs": [
    {
     "name": "stdout",
     "output_type": "stream",
     "text": [
      "{'context_len': 1024,\n",
      " 'drop_rate': 0.4,\n",
      " 'dropout_rate': 0.0,\n",
      " 'embedding_dim': 768,\n",
      " 'n_heads': 12,\n",
      " 'n_layers': 12,\n",
      " 'q_k_v_bias': False,\n",
      " 'vocab_size': 50257}\n"
     ]
    }
   ],
   "source": [
    "from pprint import pprint\n",
    "pprint(GPT2_CONFIG)"
   ]
  },
  {
   "cell_type": "code",
   "execution_count": 74,
   "metadata": {},
   "outputs": [
    {
     "data": {
      "text/plain": [
       "=================================================================\n",
       "Layer (type:depth-idx)                   Param #\n",
       "=================================================================\n",
       "FeedForward                              --\n",
       "├─Sequential: 1-1                        --\n",
       "│    └─Linear: 2-1                       2,362,368\n",
       "│    └─GELU: 2-2                         --\n",
       "│    └─Linear: 2-3                       2,360,064\n",
       "=================================================================\n",
       "Total params: 4,722,432\n",
       "Trainable params: 4,722,432\n",
       "Non-trainable params: 0\n",
       "================================================================="
      ]
     },
     "execution_count": 74,
     "metadata": {},
     "output_type": "execute_result"
    }
   ],
   "source": [
    "batch = torch.randn(3,5, 768)\n",
    "ffd = FeedForward(GPT2_CONFIG)\n",
    "torchinfo.summary(ffd)"
   ]
  },
  {
   "cell_type": "code",
   "execution_count": 75,
   "metadata": {},
   "outputs": [
    {
     "data": {
      "text/plain": [
       "torch.Size([3, 5, 768])"
      ]
     },
     "execution_count": 75,
     "metadata": {},
     "output_type": "execute_result"
    }
   ],
   "source": [
    "with torch.inference_mode(): # to switch-off gradient tracking\n",
    "    out_ = ffd(batch)\n",
    "out_.shape"
   ]
  },
  {
   "attachments": {},
   "cell_type": "markdown",
   "metadata": {},
   "source": [
    "### Shortcut Connections"
   ]
  },
  {
   "cell_type": "code",
   "execution_count": 76,
   "metadata": {},
   "outputs": [],
   "source": [
    "class SkipConn(torch.nn.Module):\n",
    "    def __init__(self):\n",
    "        super().__init__()\n",
    "        self.feed_1 = FeedForward(GPT2_CONFIG)\n",
    "        self.feed_2 = FeedForward(GPT2_CONFIG)\n",
    "    def forward(self, inp):\n",
    "        out_1 = self.feed_1(inp)\n",
    "        out_1+= inp # skip connection\n",
    "        out_2 = self.feed_2(out_1)\n",
    "        out_2+= out_1# skip connection\n",
    "        return out_2\n"
   ]
  },
  {
   "cell_type": "code",
   "execution_count": 77,
   "metadata": {},
   "outputs": [
    {
     "data": {
      "text/plain": [
       "=================================================================\n",
       "Layer (type:depth-idx)                   Param #\n",
       "=================================================================\n",
       "SkipConn                                 --\n",
       "├─FeedForward: 1-1                       --\n",
       "│    └─Sequential: 2-1                   --\n",
       "│    │    └─Linear: 3-1                  2,362,368\n",
       "│    │    └─GELU: 3-2                    --\n",
       "│    │    └─Linear: 3-3                  2,360,064\n",
       "├─FeedForward: 1-2                       --\n",
       "│    └─Sequential: 2-2                   --\n",
       "│    │    └─Linear: 3-4                  2,362,368\n",
       "│    │    └─GELU: 3-5                    --\n",
       "│    │    └─Linear: 3-6                  2,360,064\n",
       "=================================================================\n",
       "Total params: 9,444,864\n",
       "Trainable params: 9,444,864\n",
       "Non-trainable params: 0\n",
       "================================================================="
      ]
     },
     "execution_count": 77,
     "metadata": {},
     "output_type": "execute_result"
    }
   ],
   "source": [
    "sc = SkipConn()\n",
    "torchinfo.summary(sc)"
   ]
  },
  {
   "cell_type": "code",
   "execution_count": 78,
   "metadata": {},
   "outputs": [
    {
     "data": {
      "text/plain": [
       "torch.Size([3, 5, 768])"
      ]
     },
     "execution_count": 78,
     "metadata": {},
     "output_type": "execute_result"
    }
   ],
   "source": [
    "batch.shape"
   ]
  },
  {
   "cell_type": "code",
   "execution_count": 79,
   "metadata": {},
   "outputs": [
    {
     "name": "stdout",
     "output_type": "stream",
     "text": [
      "torch.Size([3, 5, 768])\n"
     ]
    }
   ],
   "source": [
    "with torch.no_grad():\n",
    "    out_ = sc(batch)\n",
    "print(out_.shape)"
   ]
  },
  {
   "attachments": {},
   "cell_type": "markdown",
   "metadata": {},
   "source": [
    "### Complete GPT-2 Model code"
   ]
  },
  {
   "cell_type": "code",
   "execution_count": 80,
   "metadata": {},
   "outputs": [
    {
     "name": "stdout",
     "output_type": "stream",
     "text": [
      "{'context_len': 1024,\n",
      " 'drop_rate': 0.4,\n",
      " 'dropout_rate': 0.0,\n",
      " 'embedding_dim': 768,\n",
      " 'n_heads': 12,\n",
      " 'n_layers': 12,\n",
      " 'q_k_v_bias': False,\n",
      " 'vocab_size': 50257}\n"
     ]
    }
   ],
   "source": [
    "pprint(GPT2_CONFIG)"
   ]
  },
  {
   "cell_type": "code",
   "execution_count": 81,
   "metadata": {},
   "outputs": [],
   "source": [
    "\n",
    "\n",
    "class TransformerBlock(torch.nn.Module):\n",
    "    def __init__(self, cfg):\n",
    "        super().__init__()\n",
    "        self.att = MultiHeadAttention(\n",
    "            d_in=cfg[\"embedding_dim\"],\n",
    "            d_out=cfg[\"embedding_dim\"],\n",
    "            context_length=cfg[\"context_len\"],\n",
    "            num_heads=cfg[\"n_heads\"],\n",
    "            dropout=cfg[\"drop_rate\"])\n",
    "        self.ff = FeedForward(cfg)\n",
    "        self.norm1 = LayerNorm(cfg[\"embedding_dim\"])\n",
    "        self.norm2 = LayerNorm(cfg[\"embedding_dim\"])\n",
    "        self.drop_shortcut = torch.nn.Dropout(cfg[\"drop_rate\"])\n",
    "\n",
    "    def forward(self, x):\n",
    "        # Shortcut connection for attention block\n",
    "        shortcut = x\n",
    "        x = self.norm1(x) # Shape [batch_size, num_tokens, emb_size]\n",
    "        x = self.att(x)[\"context_vectors\"]   # Shape [batch_size, num_tokens, emb_size]\n",
    "        # print(type(x))\n",
    "        x = self.drop_shortcut(x)\n",
    "        x = x + shortcut  # Add the original input back\n",
    "\n",
    "        # Shortcut connection for feed-forward block\n",
    "        shortcut = x\n",
    "        x = self.norm2(x)\n",
    "        x = self.ff(x)\n",
    "        x = self.drop_shortcut(x)\n",
    "        x = x + shortcut  # Add the original input back\n",
    "\n",
    "        return x\n"
   ]
  },
  {
   "cell_type": "code",
   "execution_count": 82,
   "metadata": {},
   "outputs": [],
   "source": [
    "class GPT2(torch.nn.Module):\n",
    "    def __init__(self, config):\n",
    "        super().__init__()\n",
    "        self.config = config\n",
    "        self.emb_layer = torch.nn.Embedding(self.config.get('vocab_size'),\n",
    "                                            self.config.get('embedding_dim'))\n",
    "        self.pos_enc_layer = torch.nn.Embedding(self.config.get(\"context_len\"),\n",
    "                                                self.config.get(\"embedding_dim\"))\n",
    "        self.drop_emb_layer = torch.nn.Dropout(self.config.get('dropout_rate'))\n",
    "\n",
    "        # Transformer Blocks\n",
    "        self.trf_blocks = torch.nn.Sequential(*[TransformerBlock(GPT2_CONFIG) \\\n",
    "                                                for _ in range(self.config.get(\"n_layers\"))])\n",
    "        # LayerNorm\n",
    "        self.final_norm = LayerNorm(self.config.get(\"embedding_dim\"))\n",
    "\n",
    "        # output head\n",
    "        self.out_head = torch.nn.Linear(self.config.get(\"embedding_dim\"),\n",
    "                                        self.config.get(\"vocab_size\"))\n",
    "\n",
    "    def forward(self, inp_):\n",
    "        batch_size, seq_len = inp_.shape\n",
    "        tok_emb = self.emb_layer(inp_)\n",
    "        pos_emb = self.pos_enc_layer(torch.arange(seq_len, device = inp_.device))\n",
    "        inp_emb = tok_emb + pos_emb\n",
    "        inp_emb = self.drop_emb_layer(inp_emb)\n",
    "        x = self.trf_blocks(inp_emb)\n",
    "        x = self.final_norm(x)\n",
    "        logits = self.out_head(x) # (batch_size X seq_len X vocab_size)\n",
    "        return logits"
   ]
  },
  {
   "cell_type": "code",
   "execution_count": 83,
   "metadata": {},
   "outputs": [
    {
     "data": {
      "text/plain": [
       "GPT2(\n",
       "  (emb_layer): Embedding(50257, 768)\n",
       "  (pos_enc_layer): Embedding(1024, 768)\n",
       "  (drop_emb_layer): Dropout(p=0.0, inplace=False)\n",
       "  (trf_blocks): Sequential(\n",
       "    (0): TransformerBlock(\n",
       "      (att): MultiHeadAttention(\n",
       "        (dropout): Dropout(p=0.4, inplace=False)\n",
       "      )\n",
       "      (ff): FeedForward(\n",
       "        (layers): Sequential(\n",
       "          (0): Linear(in_features=768, out_features=3072, bias=True)\n",
       "          (1): GELU()\n",
       "          (2): Linear(in_features=3072, out_features=768, bias=True)\n",
       "        )\n",
       "      )\n",
       "      (norm1): LayerNorm()\n",
       "      (norm2): LayerNorm()\n",
       "      (drop_shortcut): Dropout(p=0.4, inplace=False)\n",
       "    )\n",
       "    (1): TransformerBlock(\n",
       "      (att): MultiHeadAttention(\n",
       "        (dropout): Dropout(p=0.4, inplace=False)\n",
       "      )\n",
       "      (ff): FeedForward(\n",
       "        (layers): Sequential(\n",
       "          (0): Linear(in_features=768, out_features=3072, bias=True)\n",
       "          (1): GELU()\n",
       "          (2): Linear(in_features=3072, out_features=768, bias=True)\n",
       "        )\n",
       "      )\n",
       "      (norm1): LayerNorm()\n",
       "      (norm2): LayerNorm()\n",
       "      (drop_shortcut): Dropout(p=0.4, inplace=False)\n",
       "    )\n",
       "    (2): TransformerBlock(\n",
       "      (att): MultiHeadAttention(\n",
       "        (dropout): Dropout(p=0.4, inplace=False)\n",
       "      )\n",
       "      (ff): FeedForward(\n",
       "        (layers): Sequential(\n",
       "          (0): Linear(in_features=768, out_features=3072, bias=True)\n",
       "          (1): GELU()\n",
       "          (2): Linear(in_features=3072, out_features=768, bias=True)\n",
       "        )\n",
       "      )\n",
       "      (norm1): LayerNorm()\n",
       "      (norm2): LayerNorm()\n",
       "      (drop_shortcut): Dropout(p=0.4, inplace=False)\n",
       "    )\n",
       "    (3): TransformerBlock(\n",
       "      (att): MultiHeadAttention(\n",
       "        (dropout): Dropout(p=0.4, inplace=False)\n",
       "      )\n",
       "      (ff): FeedForward(\n",
       "        (layers): Sequential(\n",
       "          (0): Linear(in_features=768, out_features=3072, bias=True)\n",
       "          (1): GELU()\n",
       "          (2): Linear(in_features=3072, out_features=768, bias=True)\n",
       "        )\n",
       "      )\n",
       "      (norm1): LayerNorm()\n",
       "      (norm2): LayerNorm()\n",
       "      (drop_shortcut): Dropout(p=0.4, inplace=False)\n",
       "    )\n",
       "    (4): TransformerBlock(\n",
       "      (att): MultiHeadAttention(\n",
       "        (dropout): Dropout(p=0.4, inplace=False)\n",
       "      )\n",
       "      (ff): FeedForward(\n",
       "        (layers): Sequential(\n",
       "          (0): Linear(in_features=768, out_features=3072, bias=True)\n",
       "          (1): GELU()\n",
       "          (2): Linear(in_features=3072, out_features=768, bias=True)\n",
       "        )\n",
       "      )\n",
       "      (norm1): LayerNorm()\n",
       "      (norm2): LayerNorm()\n",
       "      (drop_shortcut): Dropout(p=0.4, inplace=False)\n",
       "    )\n",
       "    (5): TransformerBlock(\n",
       "      (att): MultiHeadAttention(\n",
       "        (dropout): Dropout(p=0.4, inplace=False)\n",
       "      )\n",
       "      (ff): FeedForward(\n",
       "        (layers): Sequential(\n",
       "          (0): Linear(in_features=768, out_features=3072, bias=True)\n",
       "          (1): GELU()\n",
       "          (2): Linear(in_features=3072, out_features=768, bias=True)\n",
       "        )\n",
       "      )\n",
       "      (norm1): LayerNorm()\n",
       "      (norm2): LayerNorm()\n",
       "      (drop_shortcut): Dropout(p=0.4, inplace=False)\n",
       "    )\n",
       "    (6): TransformerBlock(\n",
       "      (att): MultiHeadAttention(\n",
       "        (dropout): Dropout(p=0.4, inplace=False)\n",
       "      )\n",
       "      (ff): FeedForward(\n",
       "        (layers): Sequential(\n",
       "          (0): Linear(in_features=768, out_features=3072, bias=True)\n",
       "          (1): GELU()\n",
       "          (2): Linear(in_features=3072, out_features=768, bias=True)\n",
       "        )\n",
       "      )\n",
       "      (norm1): LayerNorm()\n",
       "      (norm2): LayerNorm()\n",
       "      (drop_shortcut): Dropout(p=0.4, inplace=False)\n",
       "    )\n",
       "    (7): TransformerBlock(\n",
       "      (att): MultiHeadAttention(\n",
       "        (dropout): Dropout(p=0.4, inplace=False)\n",
       "      )\n",
       "      (ff): FeedForward(\n",
       "        (layers): Sequential(\n",
       "          (0): Linear(in_features=768, out_features=3072, bias=True)\n",
       "          (1): GELU()\n",
       "          (2): Linear(in_features=3072, out_features=768, bias=True)\n",
       "        )\n",
       "      )\n",
       "      (norm1): LayerNorm()\n",
       "      (norm2): LayerNorm()\n",
       "      (drop_shortcut): Dropout(p=0.4, inplace=False)\n",
       "    )\n",
       "    (8): TransformerBlock(\n",
       "      (att): MultiHeadAttention(\n",
       "        (dropout): Dropout(p=0.4, inplace=False)\n",
       "      )\n",
       "      (ff): FeedForward(\n",
       "        (layers): Sequential(\n",
       "          (0): Linear(in_features=768, out_features=3072, bias=True)\n",
       "          (1): GELU()\n",
       "          (2): Linear(in_features=3072, out_features=768, bias=True)\n",
       "        )\n",
       "      )\n",
       "      (norm1): LayerNorm()\n",
       "      (norm2): LayerNorm()\n",
       "      (drop_shortcut): Dropout(p=0.4, inplace=False)\n",
       "    )\n",
       "    (9): TransformerBlock(\n",
       "      (att): MultiHeadAttention(\n",
       "        (dropout): Dropout(p=0.4, inplace=False)\n",
       "      )\n",
       "      (ff): FeedForward(\n",
       "        (layers): Sequential(\n",
       "          (0): Linear(in_features=768, out_features=3072, bias=True)\n",
       "          (1): GELU()\n",
       "          (2): Linear(in_features=3072, out_features=768, bias=True)\n",
       "        )\n",
       "      )\n",
       "      (norm1): LayerNorm()\n",
       "      (norm2): LayerNorm()\n",
       "      (drop_shortcut): Dropout(p=0.4, inplace=False)\n",
       "    )\n",
       "    (10): TransformerBlock(\n",
       "      (att): MultiHeadAttention(\n",
       "        (dropout): Dropout(p=0.4, inplace=False)\n",
       "      )\n",
       "      (ff): FeedForward(\n",
       "        (layers): Sequential(\n",
       "          (0): Linear(in_features=768, out_features=3072, bias=True)\n",
       "          (1): GELU()\n",
       "          (2): Linear(in_features=3072, out_features=768, bias=True)\n",
       "        )\n",
       "      )\n",
       "      (norm1): LayerNorm()\n",
       "      (norm2): LayerNorm()\n",
       "      (drop_shortcut): Dropout(p=0.4, inplace=False)\n",
       "    )\n",
       "    (11): TransformerBlock(\n",
       "      (att): MultiHeadAttention(\n",
       "        (dropout): Dropout(p=0.4, inplace=False)\n",
       "      )\n",
       "      (ff): FeedForward(\n",
       "        (layers): Sequential(\n",
       "          (0): Linear(in_features=768, out_features=3072, bias=True)\n",
       "          (1): GELU()\n",
       "          (2): Linear(in_features=3072, out_features=768, bias=True)\n",
       "        )\n",
       "      )\n",
       "      (norm1): LayerNorm()\n",
       "      (norm2): LayerNorm()\n",
       "      (drop_shortcut): Dropout(p=0.4, inplace=False)\n",
       "    )\n",
       "  )\n",
       "  (final_norm): LayerNorm()\n",
       "  (out_head): Linear(in_features=768, out_features=50257, bias=True)\n",
       ")"
      ]
     },
     "execution_count": 83,
     "metadata": {},
     "output_type": "execute_result"
    }
   ],
   "source": [
    "gpt = GPT2(GPT2_CONFIG)\n",
    "gpt"
   ]
  },
  {
   "cell_type": "code",
   "execution_count": 84,
   "metadata": {},
   "outputs": [
    {
     "data": {
      "text/plain": [
       "=================================================================\n",
       "Layer (type:depth-idx)                   Param #\n",
       "=================================================================\n",
       "GPT2                                     --\n",
       "├─Embedding: 1-1                         38,597,376\n",
       "├─Embedding: 1-2                         786,432\n",
       "├─Dropout: 1-3                           --\n",
       "├─Sequential: 1-4                        --\n",
       "│    └─TransformerBlock: 2-1             --\n",
       "│    │    └─MultiHeadAttention: 3-1      28,311,552\n",
       "│    │    └─FeedForward: 3-2             4,722,432\n",
       "│    │    └─LayerNorm: 3-3               1,536\n",
       "│    │    └─LayerNorm: 3-4               1,536\n",
       "│    │    └─Dropout: 3-5                 --\n",
       "│    └─TransformerBlock: 2-2             --\n",
       "│    │    └─MultiHeadAttention: 3-6      28,311,552\n",
       "│    │    └─FeedForward: 3-7             4,722,432\n",
       "│    │    └─LayerNorm: 3-8               1,536\n",
       "│    │    └─LayerNorm: 3-9               1,536\n",
       "│    │    └─Dropout: 3-10                --\n",
       "│    └─TransformerBlock: 2-3             --\n",
       "│    │    └─MultiHeadAttention: 3-11     28,311,552\n",
       "│    │    └─FeedForward: 3-12            4,722,432\n",
       "│    │    └─LayerNorm: 3-13              1,536\n",
       "│    │    └─LayerNorm: 3-14              1,536\n",
       "│    │    └─Dropout: 3-15                --\n",
       "│    └─TransformerBlock: 2-4             --\n",
       "│    │    └─MultiHeadAttention: 3-16     28,311,552\n",
       "│    │    └─FeedForward: 3-17            4,722,432\n",
       "│    │    └─LayerNorm: 3-18              1,536\n",
       "│    │    └─LayerNorm: 3-19              1,536\n",
       "│    │    └─Dropout: 3-20                --\n",
       "│    └─TransformerBlock: 2-5             --\n",
       "│    │    └─MultiHeadAttention: 3-21     28,311,552\n",
       "│    │    └─FeedForward: 3-22            4,722,432\n",
       "│    │    └─LayerNorm: 3-23              1,536\n",
       "│    │    └─LayerNorm: 3-24              1,536\n",
       "│    │    └─Dropout: 3-25                --\n",
       "│    └─TransformerBlock: 2-6             --\n",
       "│    │    └─MultiHeadAttention: 3-26     28,311,552\n",
       "│    │    └─FeedForward: 3-27            4,722,432\n",
       "│    │    └─LayerNorm: 3-28              1,536\n",
       "│    │    └─LayerNorm: 3-29              1,536\n",
       "│    │    └─Dropout: 3-30                --\n",
       "│    └─TransformerBlock: 2-7             --\n",
       "│    │    └─MultiHeadAttention: 3-31     28,311,552\n",
       "│    │    └─FeedForward: 3-32            4,722,432\n",
       "│    │    └─LayerNorm: 3-33              1,536\n",
       "│    │    └─LayerNorm: 3-34              1,536\n",
       "│    │    └─Dropout: 3-35                --\n",
       "│    └─TransformerBlock: 2-8             --\n",
       "│    │    └─MultiHeadAttention: 3-36     28,311,552\n",
       "│    │    └─FeedForward: 3-37            4,722,432\n",
       "│    │    └─LayerNorm: 3-38              1,536\n",
       "│    │    └─LayerNorm: 3-39              1,536\n",
       "│    │    └─Dropout: 3-40                --\n",
       "│    └─TransformerBlock: 2-9             --\n",
       "│    │    └─MultiHeadAttention: 3-41     28,311,552\n",
       "│    │    └─FeedForward: 3-42            4,722,432\n",
       "│    │    └─LayerNorm: 3-43              1,536\n",
       "│    │    └─LayerNorm: 3-44              1,536\n",
       "│    │    └─Dropout: 3-45                --\n",
       "│    └─TransformerBlock: 2-10            --\n",
       "│    │    └─MultiHeadAttention: 3-46     28,311,552\n",
       "│    │    └─FeedForward: 3-47            4,722,432\n",
       "│    │    └─LayerNorm: 3-48              1,536\n",
       "│    │    └─LayerNorm: 3-49              1,536\n",
       "│    │    └─Dropout: 3-50                --\n",
       "│    └─TransformerBlock: 2-11            --\n",
       "│    │    └─MultiHeadAttention: 3-51     28,311,552\n",
       "│    │    └─FeedForward: 3-52            4,722,432\n",
       "│    │    └─LayerNorm: 3-53              1,536\n",
       "│    │    └─LayerNorm: 3-54              1,536\n",
       "│    │    └─Dropout: 3-55                --\n",
       "│    └─TransformerBlock: 2-12            --\n",
       "│    │    └─MultiHeadAttention: 3-56     28,311,552\n",
       "│    │    └─FeedForward: 3-57            4,722,432\n",
       "│    │    └─LayerNorm: 3-58              1,536\n",
       "│    │    └─LayerNorm: 3-59              1,536\n",
       "│    │    └─Dropout: 3-60                --\n",
       "├─LayerNorm: 1-5                         1,536\n",
       "├─Linear: 1-6                            38,647,633\n",
       "=================================================================\n",
       "Total params: 474,477,649\n",
       "Trainable params: 474,477,649\n",
       "Non-trainable params: 0\n",
       "================================================================="
      ]
     },
     "execution_count": 84,
     "metadata": {},
     "output_type": "execute_result"
    }
   ],
   "source": [
    "torchinfo.summary(gpt)"
   ]
  },
  {
   "cell_type": "code",
   "execution_count": 93,
   "metadata": {},
   "outputs": [],
   "source": [
    "def model_inference(model, idx, max_new_tokens, context_size):\n",
    "    # idx: batch_size X seq_len\n",
    "    for  _ in range(max_new_tokens):\n",
    "        idx_cond = idx[:,-context_size:]\n",
    "\n",
    "        with torch.inference_mode():\n",
    "            logits = model(idx_cond) # (batch_size x contex_len x vocab_size)\n",
    "            # since we are only interesteed in the output of last token\n",
    "            logits = logits[:,-1,:] # (batch_size x vocab_size)\n",
    "            # logits --> probabilities\n",
    "            probs= torch.softmax(logits,dim=-1) # (batch_size x vocab_size)\n",
    "            tok_idx = torch.argmax(probs, dim=-1, keepdim=True) # (batch_size x 1)\n",
    "            # print(tok_idx.shape)\n",
    "            # print(idx.shape)\n",
    "        idx = torch.concat([idx,tok_idx], dim = 1)\n",
    "    return idx\n"
   ]
  },
  {
   "cell_type": "code",
   "execution_count": 106,
   "metadata": {},
   "outputs": [
    {
     "name": "stdout",
     "output_type": "stream",
     "text": [
      "torch.Size([2, 4])\n"
     ]
    }
   ],
   "source": [
    "text = [\"hello how are you\",\n",
    "        \"do you drink tea\"]\n",
    "inp = tokenizer_subword.encode_batch(text)\n",
    "inp_tensor = torch.tensor(inp)\n",
    "print(inp_tensor.shape)\n"
   ]
  },
  {
   "cell_type": "code",
   "execution_count": 107,
   "metadata": {},
   "outputs": [
    {
     "data": {
      "text/plain": [
       "['hello how are you Manafort sharelo dispos575System SHALL sizeofModLoaderware',\n",
       " 'do you drink teailles Cree attackers psi shockingutil Attack756CPUORD']"
      ]
     },
     "execution_count": 107,
     "metadata": {},
     "output_type": "execute_result"
    }
   ],
   "source": [
    "tokenizer_subword.decode_batch(model_inference(gpt, inp_tensor, 10, 1024).detach().numpy())"
   ]
  },
  {
   "cell_type": "code",
   "execution_count": null,
   "metadata": {},
   "outputs": [],
   "source": []
  }
 ],
 "metadata": {
  "kernelspec": {
   "display_name": "base",
   "language": "python",
   "name": "python3"
  },
  "language_info": {
   "codemirror_mode": {
    "name": "ipython",
    "version": 3
   },
   "file_extension": ".py",
   "mimetype": "text/x-python",
   "name": "python",
   "nbconvert_exporter": "python",
   "pygments_lexer": "ipython3",
   "version": "3.10.10"
  },
  "orig_nbformat": 4
 },
 "nbformat": 4,
 "nbformat_minor": 2
}
