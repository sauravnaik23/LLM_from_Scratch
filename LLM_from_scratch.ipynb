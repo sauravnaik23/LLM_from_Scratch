{
 "cells": [
  {
   "cell_type": "code",
   "execution_count": 46,
   "metadata": {},
   "outputs": [],
   "source": [
    "with open('data.txt','r') as f:\n",
    "    raw_text = f.read()"
   ]
  },
  {
   "cell_type": "code",
   "execution_count": 47,
   "metadata": {},
   "outputs": [
    {
     "name": "stdout",
     "output_type": "stream",
     "text": [
      "in the United States and\n",
      "most other parts of the world at no cost and with almost no restrictions\n",
      "wh\n"
     ]
    }
   ],
   "source": [
    "print(raw_text[100:200])"
   ]
  },
  {
   "cell_type": "code",
   "execution_count": 48,
   "metadata": {},
   "outputs": [
    {
     "name": "stdout",
     "output_type": "stream",
     "text": [
      "Total Number of characters: 92874\n"
     ]
    }
   ],
   "source": [
    "print(f\"Total Number of characters: {len(raw_text)}\")"
   ]
  },
  {
   "attachments": {},
   "cell_type": "markdown",
   "metadata": {},
   "source": [
    "## Word Tokenization"
   ]
  },
  {
   "cell_type": "code",
   "execution_count": 49,
   "metadata": {},
   "outputs": [
    {
     "data": {
      "text/plain": [
       "['dang',\n",
       " 'that;',\n",
       " ']',\n",
       " 'gauded',\n",
       " 'rest',\n",
       " 'sense',\n",
       " 'they',\n",
       " 'aces',\n",
       " 'SIMS',\n",
       " '“You--you',\n",
       " 'anxious-like',\n",
       " 'whatsoever',\n",
       " 'yelpin',\n",
       " 'stole',\n",
       " '“Two-bits',\n",
       " 'sleeve',\n",
       " 'Chamber',\n",
       " 'Perkins',\n",
       " 'see',\n",
       " 'lemon']"
      ]
     },
     "execution_count": 49,
     "metadata": {},
     "output_type": "execute_result"
    }
   ],
   "source": [
    "import re\n",
    "vocab = list(set([item.strip() for item in re.split(r'([,.”?/()\\'’]|\\s)',raw_text) if item.strip()]))\n",
    "vocab[:20]"
   ]
  },
  {
   "cell_type": "code",
   "execution_count": 50,
   "metadata": {},
   "outputs": [
    {
     "name": "stdout",
     "output_type": "stream",
     "text": [
      "Number of tokens::3361\n"
     ]
    }
   ],
   "source": [
    "## Creating token IDs\n",
    "idx2str = {idx:token for idx,token in enumerate(vocab)}\n",
    "idx2str[len(idx2str)] = \"<UNK>\"\n",
    "idx2str[len(idx2str)] = \"<|eot|>\"\n",
    "str2idx = {token:idx for idx,token in idx2str.items()}\n",
    "\n",
    "print(f\"Number of tokens::{len(idx2str)}\")"
   ]
  },
  {
   "cell_type": "code",
   "execution_count": 51,
   "metadata": {},
   "outputs": [],
   "source": [
    "## Creating a custom tokenizer class\n",
    "\n",
    "class CustomTokenizerV1():\n",
    "    def __init__(self, vocab, special_tokens = [\"<|eot|>\",\"<|cls|>\",\"<|sep|>\"]):\n",
    "        self.idx2str = {idx:token for idx,token in enumerate(vocab)}\n",
    "        ## adding special tokens\n",
    "        self.idx2str[len(self.idx2str)] = \"<|unk|>\"\n",
    "        for tok in special_tokens:\n",
    "            self.idx2str[len(self.idx2str)] = tok\n",
    "        self.str2idx = {token:idx for idx,token in self.idx2str.items()}\n",
    "        assert len(self.idx2str) == len(self.str2idx)\n",
    "        print(f\"Total Number of tokens::{len(self.idx2str)}\", end = \"\\n\\n\")\n",
    "        print(f\"-\"*10 + \" \"+ \"Special Tokens\" + \"-\"*10, end = '\\n\\n')\n",
    "        for tok in special_tokens:\n",
    "            print(f\"Token ID for {tok}::{self.str2idx[tok]}\")\n",
    "\n",
    "    def encode(self,seq):\n",
    "        preprocessed = [item.strip() for item in re.split(r'([,.”?/()\\'’]|\\s)',seq) if item.strip()]\n",
    "        tokenized = [self.str2idx.get(tok,self.str2idx.get(\"<|unk|>\")) for tok in preprocessed]\n",
    "        return tokenized\n",
    "\n",
    "    def decode(self, tok_seq):\n",
    "        text = ' '.join([self.idx2str.get(item) for item in tok_seq])\n",
    "        text = re.sub(r'([,.”?/()\\'’]|\\s)',r'\\1',text)\n",
    "        return text\n"
   ]
  },
  {
   "cell_type": "code",
   "execution_count": 52,
   "metadata": {},
   "outputs": [
    {
     "name": "stdout",
     "output_type": "stream",
     "text": [
      "Total Number of tokens::3363\n",
      "\n",
      "---------- Special Tokens----------\n",
      "\n",
      "Token ID for <|eot|>::3360\n",
      "Token ID for <|cls|>::3361\n",
      "Token ID for <|sep|>::3362\n"
     ]
    },
    {
     "data": {
      "text/plain": [
       "'How are you doing <|unk|> ?'"
      ]
     },
     "execution_count": 52,
     "metadata": {},
     "output_type": "execute_result"
    }
   ],
   "source": [
    "tokenizer = CustomTokenizerV1(vocab)\n",
    "seq = \"How are you doing charles?\"\n",
    "ids = tokenizer.encode(seq)\n",
    "tokenizer.decode(ids)\n",
    "\n"
   ]
  },
  {
   "cell_type": "code",
   "execution_count": 53,
   "metadata": {},
   "outputs": [
    {
     "name": "stdout",
     "output_type": "stream",
     "text": [
      "How\n",
      " are\n",
      " you\n",
      " doing\n",
      " char\n",
      "les\n",
      "?\n",
      "<|endoftext|>\n"
     ]
    }
   ],
   "source": [
    "## using sub-word tokenization from tiktoken (Byte Pair Encoding)\n",
    "import tiktoken\n",
    "tokenizer_subword = tiktoken.get_encoding(\"gpt2\")\n",
    "seq = \"How are you doing charles?<|endoftext|>\"\n",
    "ids = tokenizer_subword.encode(seq, allowed_special={\"<|endoftext|>\"})\n",
    "for id_ in ids:\n",
    "    print(tokenizer_subword.decode([id_]))\n"
   ]
  },
  {
   "attachments": {},
   "cell_type": "markdown",
   "metadata": {},
   "source": [
    "## BPE Encoding (Sub-Word Tokenization)"
   ]
  },
  {
   "cell_type": "code",
   "execution_count": 54,
   "metadata": {},
   "outputs": [
    {
     "name": "stdout",
     "output_type": "stream",
     "text": [
      "Total number of tokens post encoding::29698\n"
     ]
    }
   ],
   "source": [
    "\n",
    "with open('data.txt','r') as f:\n",
    "    raw_text = f.read()\n",
    "\n",
    "encoded = tokenizer_subword.encode(raw_text)\n",
    "print(f\"Total number of tokens post encoding::{len(encoded)}\")"
   ]
  },
  {
   "cell_type": "code",
   "execution_count": 55,
   "metadata": {},
   "outputs": [
    {
     "name": "stdout",
     "output_type": "stream",
     "text": [
      "train samples::[464, 4935, 20336, 46566, 286]\n",
      "test samples::[4935, 20336, 46566, 286, 1649]\n"
     ]
    }
   ],
   "source": [
    "context_size = 5\n",
    "X = encoded[:context_size]\n",
    "y = encoded[1:context_size+1]\n",
    "print(f\"train samples::{X}\")\n",
    "print(f\"test samples::{y}\")"
   ]
  },
  {
   "attachments": {},
   "cell_type": "markdown",
   "metadata": {},
   "source": [
    "## Creating DataLoader with Sub-Word tokenization"
   ]
  },
  {
   "cell_type": "code",
   "execution_count": 56,
   "metadata": {},
   "outputs": [],
   "source": [
    "from typing import Any\n",
    "from torch.utils.data import Dataset, DataLoader\n",
    "from torch import tensor, arange\n",
    "\n",
    "class GPTDatasetV1(Dataset):\n",
    "\n",
    "    def __init__(self, txt, context_size, stride, tokenizer):\n",
    "        self.input_ids = []\n",
    "        self.output_ids = []\n",
    "        ## tokenizing the entire text\n",
    "        token_ids = tokenizer.encode(txt, allowed_special={\"<|endoftext|>\"})\n",
    "        ## looping over the sequences\n",
    "        for i in range(0, len(token_ids) - context_size, stride):\n",
    "            input_chunk = token_ids[i:i+context_size]\n",
    "            target_chunk = token_ids[i+1:i+context_size+1]\n",
    "            self.input_ids.append(tensor(input_chunk))\n",
    "            self.output_ids.append(tensor(target_chunk))\n",
    "\n",
    "    def __len__(self):\n",
    "        return len(self.input_ids)\n",
    "\n",
    "    def __getitem__(self, idx):\n",
    "        return {\"x\":self.input_ids[idx],\n",
    "                \"y\":self.output_ids[idx]}\n",
    "\n",
    "\n",
    "def get_dataloader(txt, batch_size = 4, context_size = 1024, stride = 512,\n",
    "                   shuffle = True, drop_last = True, num_workers = 0):\n",
    "    '''Creates a dataloader object'''\n",
    "    ## loading the sub-word tokenizer\n",
    "    tokenizer = tiktoken.get_encoding(\"gpt2\")\n",
    "    ## creating dataset oject\n",
    "    dataset = GPTDatasetV1(txt, tokenizer=tokenizer,\n",
    "                           context_size=context_size, stride=stride)\n",
    "    ## creating the dataloader object\n",
    "    dataloader = DataLoader(dataset,batch_size=batch_size,\n",
    "                            drop_last=drop_last,\n",
    "                            num_workers=num_workers,\n",
    "                            shuffle = shuffle)\n",
    "    return dataloader"
   ]
  },
  {
   "cell_type": "code",
   "execution_count": 57,
   "metadata": {},
   "outputs": [],
   "source": [
    "loader = get_dataloader(raw_text, batch_size=8, \n",
    "                        context_size=1024, stride=512)\n"
   ]
  },
  {
   "cell_type": "code",
   "execution_count": 58,
   "metadata": {},
   "outputs": [
    {
     "name": "stdout",
     "output_type": "stream",
     "text": [
      "Input Tensor\n",
      "tensor([[  257,   198, 45597,  ...,    13,   198,   198],\n",
      "        [  247, 26569,   502,  ...,  1462,  3613,   465],\n",
      "        [  251,   339,  4952,  ...,   220,   220,   220],\n",
      "        ...,\n",
      "        [   13,   198,   198,  ...,  5102,   880,   340],\n",
      "        [ 6034,   259,   447,  ...,   564,   250,    40],\n",
      "        [  464,  4935, 20336,  ...,   284,   198,  5796]])\n",
      "Input Tensor Shape::torch.Size([8, 1024])\n",
      "--------------------\n",
      "Output Tensor\n",
      "tensor([[  198, 45597,  1115,  ...,   198,   198, 13436],\n",
      "        [26569,   502,   572,  ...,  3613,   465,   898],\n",
      "        [  339,  4952,   514,  ...,   220,   220,   220],\n",
      "        ...,\n",
      "        [  198,   198,   447,  ...,   880,   340, 18959],\n",
      "        [  259,   447,   247,  ...,   250,    40,  3088],\n",
      "        [ 4935, 20336, 46566,  ...,   198,  5796,  2088]])\n",
      "Output Tensor Shape::torch.Size([8, 1024])\n"
     ]
    }
   ],
   "source": [
    "for batch in loader:\n",
    "    print(\"Input Tensor\",batch[\"x\"],f\"Input Tensor Shape::{batch['x'].shape}\",sep = \"\\n\")\n",
    "    print(\"--\"*10)\n",
    "    print(\"Output Tensor\",batch[\"y\"],f\"Output Tensor Shape::{batch['y'].shape}\",sep = \"\\n\")\n",
    "    break"
   ]
  },
  {
   "attachments": {},
   "cell_type": "markdown",
   "metadata": {},
   "source": [
    "## Token Embedding"
   ]
  },
  {
   "cell_type": "code",
   "execution_count": 59,
   "metadata": {},
   "outputs": [
    {
     "data": {
      "text/plain": [
       "torch.Size([50257, 768])"
      ]
     },
     "execution_count": 59,
     "metadata": {},
     "output_type": "execute_result"
    }
   ],
   "source": [
    "\n",
    "from torch.nn import Embedding, LSTM, RNN\n",
    "from torch.optim import Adam, RMSprop, SGD\n",
    "vocab_size = tokenizer_subword.n_vocab\n",
    "embedding_dim = 768\n",
    "\n",
    "embedding_layer = Embedding(vocab_size, embedding_dim)\n",
    "embedding_layer.weight.shape"
   ]
  },
  {
   "cell_type": "code",
   "execution_count": 60,
   "metadata": {},
   "outputs": [
    {
     "data": {
      "text/plain": [
       "torch.Size([1, 6, 768])"
      ]
     },
     "execution_count": 60,
     "metadata": {},
     "output_type": "execute_result"
    }
   ],
   "source": [
    "embedding_layer(tensor([[1,2,3, 9 ,8 ,22]])).shape"
   ]
  },
  {
   "cell_type": "code",
   "execution_count": 61,
   "metadata": {},
   "outputs": [
    {
     "data": {
      "text/plain": [
       "torch.Size([8, 1024, 768])"
      ]
     },
     "execution_count": 61,
     "metadata": {},
     "output_type": "execute_result"
    }
   ],
   "source": [
    "embedding_layer(batch['x']).shape"
   ]
  },
  {
   "attachments": {},
   "cell_type": "markdown",
   "metadata": {},
   "source": [
    "## Positional Embedding/Encoding"
   ]
  },
  {
   "cell_type": "code",
   "execution_count": 62,
   "metadata": {},
   "outputs": [],
   "source": [
    "## Positional Embeddings (Absolute Positional Encoding)\n",
    "context_size = 1024\n",
    "embedding_dim = 768\n",
    "pos_embedding_layer = Embedding(context_size, embedding_dim)"
   ]
  },
  {
   "cell_type": "code",
   "execution_count": 63,
   "metadata": {},
   "outputs": [
    {
     "data": {
      "text/plain": [
       "torch.Size([1024, 768])"
      ]
     },
     "execution_count": 63,
     "metadata": {},
     "output_type": "execute_result"
    }
   ],
   "source": [
    "pos_embedding_layer(arange(context_size)).shape"
   ]
  },
  {
   "cell_type": "code",
   "execution_count": 64,
   "metadata": {},
   "outputs": [
    {
     "name": "stdout",
     "output_type": "stream",
     "text": [
      "Embedding Shape::torch.Size([8, 1024, 768])\n",
      "Positional Embedding::torch.Size([1024, 768])\n",
      "Embeddings + Positional Embedding::torch.Size([8, 1024, 768])\n"
     ]
    }
   ],
   "source": [
    "embeddings = embedding_layer(batch['x'])\n",
    "print(f\"Embedding Shape::{embeddings.shape}\")\n",
    "pos_embeddings = pos_embedding_layer(arange(context_size))\n",
    "print(f\"Positional Embedding::{pos_embeddings.shape}\")\n",
    "final_input_embedding = embeddings + pos_embeddings\n",
    "print(f\"Embeddings + Positional Embedding::{final_input_embedding.shape}\") # this will be the input to the self attention layer"
   ]
  },
  {
   "attachments": {},
   "cell_type": "markdown",
   "metadata": {},
   "source": [
    "## Attention Mechanisms"
   ]
  },
  {
   "attachments": {},
   "cell_type": "markdown",
   "metadata": {},
   "source": [
    "### 1. Simplified Attention Mechanism **(No Trainable Weights)**\n",
    "- Converting **Embedding Vectors** to **Context Vectors**"
   ]
  },
  {
   "cell_type": "code",
   "execution_count": 65,
   "metadata": {},
   "outputs": [],
   "source": [
    "text = \"I see skies of green, red roses too\"\n",
    "token_ids = tokenizer_subword.encode(text)"
   ]
  },
  {
   "cell_type": "code",
   "execution_count": 66,
   "metadata": {},
   "outputs": [
    {
     "name": "stdout",
     "output_type": "stream",
     "text": [
      "Token IDs::[40, 766, 24091, 286, 4077, 11, 2266, 42152, 1165]\n",
      "Decoded Token IDs::I see skies of green, red roses too\n"
     ]
    }
   ],
   "source": [
    "print(f\"Token IDs::{token_ids}\")\n",
    "print(f\"Decoded Token IDs::{tokenizer_subword.decode(token_ids)}\")"
   ]
  },
  {
   "cell_type": "code",
   "execution_count": 67,
   "metadata": {},
   "outputs": [],
   "source": [
    "## Creating an embedding layer\n",
    "VOCAB_SIZE = tokenizer_subword.n_vocab # Vocab Size of the sub-word tokenizer\n",
    "EMBEDDING_SIZE = 3 # For Simplicity embedding each token into a 3-Dimensional Space\n",
    "embedding_layer = Embedding(VOCAB_SIZE, EMBEDDING_SIZE)"
   ]
  },
  {
   "cell_type": "code",
   "execution_count": 68,
   "metadata": {},
   "outputs": [
    {
     "data": {
      "text/plain": [
       "torch.Size([9, 3])"
      ]
     },
     "execution_count": 68,
     "metadata": {},
     "output_type": "execute_result"
    }
   ],
   "source": [
    "## Creating Embedding of our tokens\n",
    "embeddings = embedding_layer(tensor(token_ids))\n",
    "embeddings.shape"
   ]
  },
  {
   "cell_type": "code",
   "execution_count": 69,
   "metadata": {},
   "outputs": [
    {
     "name": "stdout",
     "output_type": "stream",
     "text": [
      "I --> [-0.21580641  0.975756    0.47101644]\n",
      "see --> [-0.28212324 -1.111654    1.0423021 ]\n",
      "skies --> [0.8164207 1.2088825 0.8007824]\n",
      "of --> [ 1.1831362  -0.96956396  0.52328753]\n",
      "green --> [ 1.1931348e-03 -1.2502908e+00 -1.3024205e+00]\n",
      ", --> [ 1.0896317  1.2804916 -2.2520337]\n",
      "red --> [ 1.0780582 -2.7104557  2.6207783]\n",
      "roses --> [-1.542924  -1.2473693 -0.8555016]\n",
      "too --> [-1.4136536   2.207096    0.40790978]\n"
     ]
    }
   ],
   "source": [
    "embeddings = embeddings.detach().numpy().reshape(-1,3)\n",
    "for emb, tok in zip(embeddings,token_ids):\n",
    "    print(f\"{tokenizer_subword.decode([tok]).strip()} --> {emb}\")\n",
    "\n"
   ]
  },
  {
   "cell_type": "code",
   "execution_count": 70,
   "metadata": {},
   "outputs": [
    {
     "data": {
      "image/png": "[encoded data removed]",
      "text/plain": [
       "<Figure size 640x480 with 2 Axes>"
      ]
     },
     "metadata": {},
     "output_type": "display_data"
    },
    {
     "data": {
      "image/png": "[encoded data removed]",
      "text/plain": [
       "<Figure size 640x480 with 2 Axes>"
      ]
     },
     "metadata": {},
     "output_type": "display_data"
    }
   ],
   "source": [
    "import seaborn as sns\n",
    "import numpy as np\n",
    "from matplotlib import pyplot as plt\n",
    "\n",
    "def softmax(mat):\n",
    "    '''Softmax as implemented in pytorch'''\n",
    "    num_ =  np.exp(mat-np.max(mat, axis=1, keepdims=True))\n",
    "    denom_ = np.sum(num_, axis=1, keepdims=True)\n",
    "    return num_/denom_\n",
    "\n",
    "\n",
    "labels = [tokenizer_subword.decode([i]) for i in token_ids]\n",
    "attention_scores = embeddings @ embeddings.T\n",
    "# Normalizing the attention scores by dividing by sum of the corresponding rows\n",
    "normalized_attention_scores = attention_scores/np.sum(attention_scores, axis=1, keepdims=True)\n",
    "## Plotting the HeatMap for the Normalized Attention Scores\n",
    "sns.heatmap(normalized_attention_scores, annot=True, cmap='gray',\n",
    "            xticklabels=labels,\n",
    "            yticklabels=labels)\n",
    "plt.title(\"Normalized Attention Scores (Divison by Row Sum)\")\n",
    "plt.show();\n",
    "\n",
    "softmaxed_attention_scores = softmax(attention_scores)\n",
    "sns.heatmap(softmaxed_attention_scores, annot=True, cmap='gray',\n",
    "            xticklabels=labels,\n",
    "            yticklabels=labels)\n",
    "plt.title(\"Softmaxed Attention Scores\")\n",
    "plt.show();"
   ]
  },
  {
   "cell_type": "code",
   "execution_count": 71,
   "metadata": {},
   "outputs": [
    {
     "name": "stdout",
     "output_type": "stream",
     "text": [
      "I --> [-0.6807164  1.5986687  0.3854805]\n",
      "see --> [ 0.983025  -2.5734742  2.4586139]\n",
      "skies --> [0.24086633 1.1604756  0.519264  ]\n",
      "of --> [ 1.0451578 -2.5246925  2.4040747]\n",
      "green --> [-0.31904456 -1.0532583  -1.0386494 ]\n",
      ", --> [ 1.0858649  1.2767495 -2.2457008]\n",
      "red --> [ 1.077996  -2.7103057  2.6206145]\n",
      "roses --> [-1.3101115 -1.2294091 -0.8440317]\n",
      "too --> [-1.383528    2.1835353   0.40712804]\n"
     ]
    }
   ],
   "source": [
    "context_embeddings = softmaxed_attention_scores @ embeddings\n",
    "for emb, tok in zip(context_embeddings,token_ids):\n",
    "    print(f\"{tokenizer_subword.decode([tok]).strip()} --> {emb}\")"
   ]
  },
  {
   "attachments": {},
   "cell_type": "markdown",
   "metadata": {},
   "source": [
    "#### Same stuff but using pytorch"
   ]
  },
  {
   "cell_type": "code",
   "execution_count": 72,
   "metadata": {},
   "outputs": [
    {
     "name": "stdout",
     "output_type": "stream",
     "text": [
      "I --> [-0.68071645  1.5986689   0.38548052]\n",
      "see --> [ 0.983025  -2.5734742  2.4586139]\n",
      "skies --> [0.24086635 1.1604756  0.519264  ]\n",
      "of --> [ 1.0451577 -2.524692   2.4040742]\n",
      "green --> [-0.31904456 -1.0532583  -1.0386494 ]\n",
      ", --> [ 1.0858649  1.2767495 -2.2457008]\n",
      "red --> [ 1.077996  -2.7103057  2.6206145]\n",
      "roses --> [-1.3101115 -1.2294091 -0.8440317]\n",
      "too --> [-1.3835282  2.1835356  0.4071281]\n"
     ]
    }
   ],
   "source": [
    "import torch\n",
    "attn_scores = embeddings @ embeddings.T\n",
    "attn_weights = torch.softmax(tensor(attn_scores), dim = -1)\n",
    "context_embeddings = attn_weights @ embeddings\n",
    "for emb, tok in zip(context_embeddings,token_ids):\n",
    "    print(f\"{tokenizer_subword.decode([tok]).strip()} --> {emb.detach().numpy()}\")"
   ]
  },
  {
   "attachments": {},
   "cell_type": "markdown",
   "metadata": {},
   "source": [
    "#### We observe our calculations give us similar results"
   ]
  },
  {
   "attachments": {},
   "cell_type": "markdown",
   "metadata": {},
   "source": [
    "#### Why the need for Trainable Weights?"
   ]
  },
  {
   "attachments": {},
   "cell_type": "markdown",
   "metadata": {},
   "source": [
    "### 2. Self Attention Mechanism **(With Trainable Weights)**\n",
    "- Converting **Embedding Vectors** to **Context Vectors**\n",
    "- Creating *Query*, *Key* and *Value* matrices **(Trainable Weights)**"
   ]
  },
  {
   "cell_type": "code",
   "execution_count": 73,
   "metadata": {},
   "outputs": [],
   "source": [
    "torch.manual_seed(123)\n",
    "d_in = EMBEDDING_SIZE\n",
    "d_out = 2\n",
    "w_Q = torch.nn.Parameter(torch.rand(d_in, d_out), requires_grad=False)# Query Weight Matrix\n",
    "w_K = torch.nn.Parameter(torch.rand(d_in, d_out), requires_grad=False)# Key Weight Matrix\n",
    "w_V = torch.nn.Parameter(torch.rand(d_in, d_out), requires_grad=False)# Value Weight Matrix"
   ]
  },
  {
   "cell_type": "code",
   "execution_count": 74,
   "metadata": {},
   "outputs": [],
   "source": [
    "embeddings_tensors = tensor(embeddings)"
   ]
  },
  {
   "cell_type": "code",
   "execution_count": 75,
   "metadata": {},
   "outputs": [
    {
     "data": {
      "text/plain": [
       "tensor([[ 0.2165,  0.9685],\n",
       "        [-0.2862, -0.0080],\n",
       "        [ 0.6052,  1.9480],\n",
       "        [ 0.1450,  0.3970],\n",
       "        [-0.4107, -1.9889],\n",
       "        [ 0.4783, -0.5069],\n",
       "        [-0.1691,  0.9615],\n",
       "        [-0.8341, -2.3972],\n",
       "        [ 0.1670,  1.1429]])"
      ]
     },
     "execution_count": 75,
     "metadata": {},
     "output_type": "execute_result"
    }
   ],
   "source": [
    "query = embeddings_tensors @ w_Q\n",
    "key = embeddings_tensors @ w_K\n",
    "value = embeddings_tensors @ w_V\n",
    "query"
   ]
  },
  {
   "attachments": {},
   "cell_type": "markdown",
   "metadata": {},
   "source": [
    "#### Can also be done in a different way"
   ]
  },
  {
   "cell_type": "code",
   "execution_count": 76,
   "metadata": {},
   "outputs": [
    {
     "name": "stdout",
     "output_type": "stream",
     "text": [
      "Inputs shape::torch.Size([9, 3])\n",
      "q_k_v shape::torch.Size([3, 6])\n",
      "Outputs shape::torch.Size([9, 6])\n"
     ]
    }
   ],
   "source": [
    "## concating query, key and value weights horizontally\n",
    "q_k_v = torch.concat([w_Q,w_K,w_V], dim = -1)\n",
    "print(f\"Inputs shape::{embeddings_tensors.shape}\")\n",
    "print(f\"q_k_v shape::{q_k_v.shape}\")\n",
    "outputs = embeddings_tensors@q_k_v\n",
    "print(f\"Outputs shape::{outputs.shape}\")"
   ]
  },
  {
   "cell_type": "code",
   "execution_count": 77,
   "metadata": {},
   "outputs": [
    {
     "data": {
      "text/plain": [
       "tensor([[True, True],\n",
       "        [True, True],\n",
       "        [True, True],\n",
       "        [True, True],\n",
       "        [True, True],\n",
       "        [True, True],\n",
       "        [True, True],\n",
       "        [True, True],\n",
       "        [True, True]])"
      ]
     },
     "execution_count": 77,
     "metadata": {},
     "output_type": "execute_result"
    }
   ],
   "source": [
    "query_new, key_new, value_new = torch.hsplit(outputs,3)\n",
    "query_new==query"
   ]
  },
  {
   "cell_type": "code",
   "execution_count": 78,
   "metadata": {},
   "outputs": [
    {
     "name": "stdout",
     "output_type": "stream",
     "text": [
      "Context Vectors\n",
      "--------------------\n",
      "\n",
      "I --> [0.28195983 0.72027934]\n",
      "see --> [-0.05978425 -0.03109078]\n",
      "skies --> [0.466063  0.9751878]\n",
      "of --> [0.1117409 0.4106027]\n",
      "green --> [-0.48244157 -1.2769953 ]\n",
      ", --> [-0.15186125 -0.1552704 ]\n",
      "red --> [0.2614793 0.6526389]\n",
      "roses --> [-0.52076316 -1.4081876 ]\n",
      "too --> [0.3217991 0.776334 ]\n"
     ]
    }
   ],
   "source": [
    "attn_scores = query_new @ key_new.T\n",
    "scaled_attn_scores = attn_scores/torch.math.sqrt(w_K.shape[-1]) ## scaled attention scores\n",
    "attn_weights = torch.softmax(scaled_attn_scores, dim = -1)\n",
    "\n",
    "context_vectors = attn_weights @ value_new\n",
    "\n",
    "print(\"Context Vectors\", end = \"\\n\")\n",
    "print(\"--\"*10, end='\\n\\n')\n",
    "for emb, tok in zip(context_vectors,token_ids):\n",
    "    print(f\"{tokenizer_subword.decode([tok]).strip()} --> {emb.detach().numpy()}\")"
   ]
  },
  {
   "attachments": {},
   "cell_type": "markdown",
   "metadata": {},
   "source": [
    "#### Why we divide the attention scores by sqrt(key dimension)?\n",
    "1. **Stability in Learning**"
   ]
  },
  {
   "attachments": {},
   "cell_type": "markdown",
   "metadata": {},
   "source": [
    "### Causal Attention Layer"
   ]
  },
  {
   "cell_type": "code",
   "execution_count": 79,
   "metadata": {},
   "outputs": [],
   "source": [
    "CONTEXT_SIZE = 5\n",
    "inp_text = \"Hello How are you?\"\n",
    "embedding_layer = Embedding(tokenizer_subword.n_vocab, 768)\n",
    "pos_embedding_layer = Embedding(CONTEXT_SIZE, 768)\n",
    "inp_tok =tokenizer_subword.encode(inp_text)\n",
    "embeddings = embedding_layer(tensor([inp_tok]))\n",
    "pos_emb = pos_embedding_layer(torch.arange(tensor(embeddings.shape[1])))\n",
    "inp_embedding = embeddings + pos_emb\n"
   ]
  },
  {
   "cell_type": "code",
   "execution_count": 80,
   "metadata": {},
   "outputs": [],
   "source": [
    "class CausalAttention(torch.nn.Module):\n",
    "    def __init__(self, d_in, d_out,context_length,\n",
    "                 dropout = 0, q_k_v_bias = False,\n",
    "                 causal_mask = True):\n",
    "        super().__init__()\n",
    "        self.W_query = torch.nn.Parameter(torch.rand(d_in, d_out))\n",
    "        self.W_key = torch.nn.Parameter(torch.rand(d_in, d_out))\n",
    "        self.W_value = torch.nn.Parameter(torch.rand(d_in, d_out))\n",
    "        self.dropout = torch.nn.Dropout(dropout)\n",
    "        self.causal_mask = causal_mask\n",
    "        self.register_buffer('mask', torch.triu(torch.ones(context_length,context_length),diagonal=1))\n",
    "\n",
    "    def forward(self, x):\n",
    "        # batch, seq_len, d_in = x.shape\n",
    "        q_k_v =  torch.concat([self.W_query,self.W_key,self.W_value],dim = -1)\n",
    "        # print(f\"q_k_v shape: {q_k_v.shape}\")\n",
    "        combined_transform = x @ q_k_v\n",
    "        # print(f\"combined_transform shape: {combined_transform.shape}\")\n",
    "        query, key, value = torch.split(combined_transform,self.W_key.shape[-1], dim=2)\n",
    "        attn_weights = query @ key.transpose(1,2) # (batch X seq_len X seq_len)\n",
    "        if self.causal_mask:\n",
    "            attn_weights = attn_weights.masked_fill(self.mask.bool(),-torch.inf)\n",
    "        scaled_attn_weights = attn_weights/key.shape[-1]**0.5\n",
    "        attn_scores = self.dropout(torch.softmax(scaled_attn_weights, dim=-1))\n",
    "        return {\"context_vectors\": attn_scores @ value,\n",
    "                \"attn_scores\": attn_scores} # context rich vectors (batch X seq_len X embedding_dim)\n"
   ]
  },
  {
   "cell_type": "code",
   "execution_count": 81,
   "metadata": {},
   "outputs": [],
   "source": [
    "# inp_embedding = torch.concat([inp_embedding]*5, dim = 0)\n",
    "c_attn = CausalAttention(*(768,768,5), causal_mask=True)\n",
    "# c_attn(inp_embedding)"
   ]
  },
  {
   "cell_type": "code",
   "execution_count": 82,
   "metadata": {},
   "outputs": [
    {
     "name": "stdout",
     "output_type": "stream",
     "text": [
      "torch.Size([768, 768])\n",
      "torch.Size([768, 768])\n",
      "torch.Size([768, 768])\n"
     ]
    }
   ],
   "source": [
    "for param in c_attn.parameters():\n",
    "    print(param.shape)"
   ]
  },
  {
   "cell_type": "code",
   "execution_count": 83,
   "metadata": {},
   "outputs": [
    {
     "data": {
      "text/plain": [
       "{'context_vectors': tensor([[[  2.3038,  -6.3534,   0.2914,  ...,  -6.2244,   9.5452,  -8.3201],\n",
       "          [  2.3038,  -6.3534,   0.2914,  ...,  -6.2244,   9.5452,  -8.3201],\n",
       "          [ 37.6857,  25.8231,  17.3346,  ...,  21.4372,  28.7299,  36.8135],\n",
       "          [ 37.6857,  25.8231,  17.3346,  ...,  21.4372,  28.7299,  36.8135],\n",
       "          [-34.3452, -44.6836, -41.2677,  ..., -44.9336, -21.9690, -32.7346]]],\n",
       "        grad_fn=<UnsafeViewBackward0>),\n",
       " 'attn_scores': tensor([[[1., 0., 0., 0., 0.],\n",
       "          [1., 0., 0., 0., 0.],\n",
       "          [0., 0., 1., 0., 0.],\n",
       "          [0., 0., 1., 0., 0.],\n",
       "          [0., 0., 0., 0., 1.]]], grad_fn=<SoftmaxBackward0>)}"
      ]
     },
     "execution_count": 83,
     "metadata": {},
     "output_type": "execute_result"
    }
   ],
   "source": [
    "c_attn(inp_embedding)"
   ]
  },
  {
   "attachments": {},
   "cell_type": "markdown",
   "metadata": {},
   "source": [
    "### Muti Head Attention"
   ]
  },
  {
   "cell_type": "code",
   "execution_count": 84,
   "metadata": {},
   "outputs": [],
   "source": [
    "## applies heads sequentially\n",
    "class MultiHeadAttentionWrapper(torch.nn.Module):\n",
    "    def __init__(self, d_in, d_out,context_length, num_heads, dropout = 0.0, q_k_v_bias = False):\n",
    "        super().__init__()\n",
    "        self.heads = torch.nn.ModuleList([CausalAttention(d_in, d_out,context_length) for _ in range(num_heads)])\n",
    "    def forward(self, x):\n",
    "        return torch.concat([head(x)['context_vectors'] for head in self.heads], dim=-1)\n"
   ]
  },
  {
   "cell_type": "code",
   "execution_count": 85,
   "metadata": {},
   "outputs": [],
   "source": [
    "multi_attn = MultiHeadAttentionWrapper(768,3,5,10, dropout=0.5)"
   ]
  },
  {
   "cell_type": "code",
   "execution_count": 86,
   "metadata": {},
   "outputs": [
    {
     "data": {
      "text/plain": [
       "torch.Size([1, 5, 30])"
      ]
     },
     "execution_count": 86,
     "metadata": {},
     "output_type": "execute_result"
    }
   ],
   "source": [
    "out_ = multi_attn(inp_embedding)\n",
    "out_.shape"
   ]
  },
  {
   "attachments": {},
   "cell_type": "markdown",
   "metadata": {},
   "source": [
    "#### Improving the MultiHead Attention By implementing the heads parallely"
   ]
  },
  {
   "cell_type": "code",
   "execution_count": 87,
   "metadata": {},
   "outputs": [],
   "source": [
    "class MultiHeadAttention(torch.nn.Module):\n",
    "    def __init__(self, d_in, d_out, context_length, num_heads,dropout = 0.0, causal_mask = True):\n",
    "        super().__init__()\n",
    "        self.num_heads = num_heads\n",
    "        self.d_out = d_out\n",
    "        self.W_query = torch.nn.Parameter(torch.rand(d_in, num_heads * d_out, dtype=torch.float32))\n",
    "        self.W_key = torch.nn.Parameter(torch.rand(d_in, num_heads * d_out, dtype=torch.float32))\n",
    "        self.W_value = torch.nn.Parameter(torch.rand(d_in, num_heads * d_out, dtype=torch.float32))\n",
    "        self.dropout = torch.nn.Dropout(dropout)\n",
    "        self.out_project = torch.nn.Parameter(torch.rand(num_heads *d_out, d_out, dtype=torch.float32))\n",
    "        self.causal_mask = causal_mask\n",
    "        self.register_buffer('mask', torch.triu(torch.ones(context_length,context_length),diagonal=1))\n",
    "\n",
    "    def forward(self, x):\n",
    "        batch_size, seq_len, d_in = x.shape\n",
    "        # q_k_v =  torch.concat([self.W_query,self.W_key,self.W_value],dim = -1)\n",
    "        queries = x @ self.W_query\n",
    "        keys = x @ self.W_key\n",
    "        values = x @ self.W_value\n",
    "\n",
    "        # Reshape for multi-head attention\n",
    "        queries = queries.view(batch_size, seq_len, self.num_heads, self.d_out)\n",
    "        keys = keys.view(batch_size, seq_len, self.num_heads, self.d_out)\n",
    "        values = values.view(batch_size, seq_len, self.num_heads, self.d_out)\n",
    "\n",
    "        # Transpose the shapes (Grouping with respect to number of heads)\n",
    "        queries = queries.transpose(1,2)# (batch X num_heads X seq_len X d_out)\n",
    "        keys = keys.transpose(1,2)# (batch X num_heads X seq_len X d_out)\n",
    "        values = values.transpose(1,2)# (batch X num_heads X seq_len X d_out)\n",
    "\n",
    "        # Calculating Attention Scores\n",
    "        attn_weights = queries @ keys.transpose(2,3) # (batch X num_heads X seq_len X seq_len)\n",
    "\n",
    "        # Adding the Causal Mask\n",
    "        if self.causal_mask:\n",
    "            attn_weights = attn_weights.masked_fill(self.mask.bool(),-torch.inf)# (batch X num_heads X seq_len X seq_len)\n",
    "\n",
    "        # Scaling and Softmax the atten scores\n",
    "        scaled_attn_weights = attn_weights/keys.shape[-1]**0.5# (batch X num_heads X seq_len X seq_len)\n",
    "        attn_scores = self.dropout(torch.softmax(scaled_attn_weights, dim=-1))# (batch X num_heads X seq_len X seq_len)\n",
    "        context_vectors = (attn_scores @ values).transpose(1,2)# (batch X seq_len X num_heads X d_out)\n",
    "        concated_context_vectors = context_vectors.contiguous().view(batch_size,seq_len,-1)# (batch X seq_len X num_heads * d_out)\n",
    "        context_vectors = concated_context_vectors @ self.out_project# (batch X seq_len X d_out)\n",
    "        return {\"context_vectors\": context_vectors,\n",
    "                \"attn_scores\": attn_scores} # context vectors (batch X seq_len X embedding_dim)\n",
    "                                            # attn_scores (batch X num_heads X seq_len X seq_len)\n",
    "\n"
   ]
  },
  {
   "cell_type": "code",
   "execution_count": 92,
   "metadata": {},
   "outputs": [
    {
     "data": {
      "text/plain": [
       "torch.Size([1, 5, 768])"
      ]
     },
     "execution_count": 92,
     "metadata": {},
     "output_type": "execute_result"
    }
   ],
   "source": [
    "inp_embedding.shape"
   ]
  },
  {
   "cell_type": "code",
   "execution_count": 98,
   "metadata": {},
   "outputs": [
    {
     "data": {
      "text/plain": [
       "torch.Size([10, 5, 768])"
      ]
     },
     "execution_count": 98,
     "metadata": {},
     "output_type": "execute_result"
    }
   ],
   "source": [
    "# making batch size = 5\n",
    "inp_embedding_new = torch.concat([inp_embedding]*10, dim =0)\n",
    "inp_embedding_new += torch.rand(size = (inp_embedding_new.shape)) # making values in each batch different\n",
    "inp_embedding_new.shape"
   ]
  },
  {
   "cell_type": "code",
   "execution_count": 101,
   "metadata": {},
   "outputs": [],
   "source": [
    "multi_attn = MultiHeadAttention(d_in=768,\n",
    "                                d_out = 751,\n",
    "                                num_heads=2,\n",
    "                                context_length=5,\n",
    "                                dropout=0.4)"
   ]
  },
  {
   "cell_type": "code",
   "execution_count": 102,
   "metadata": {},
   "outputs": [
    {
     "data": {
      "text/plain": [
       "torch.Size([10, 5, 751])"
      ]
     },
     "execution_count": 102,
     "metadata": {},
     "output_type": "execute_result"
    }
   ],
   "source": [
    "multi_attn(inp_embedding_new)['context_vectors'].shape"
   ]
  },
  {
   "cell_type": "code",
   "execution_count": 103,
   "metadata": {},
   "outputs": [
    {
     "data": {
      "text/plain": [
       "torch.Size([10, 2, 5, 5])"
      ]
     },
     "execution_count": 103,
     "metadata": {},
     "output_type": "execute_result"
    }
   ],
   "source": [
    "multi_attn(inp_embedding_new)['attn_scores'].shape"
   ]
  },
  {
   "cell_type": "code",
   "execution_count": null,
   "metadata": {},
   "outputs": [],
   "source": []
  },
  {
   "cell_type": "code",
   "execution_count": null,
   "metadata": {},
   "outputs": [],
   "source": []
  },
  {
   "cell_type": "code",
   "execution_count": null,
   "metadata": {},
   "outputs": [],
   "source": []
  },
  {
   "cell_type": "code",
   "execution_count": null,
   "metadata": {},
   "outputs": [],
   "source": []
  },
  {
   "cell_type": "code",
   "execution_count": null,
   "metadata": {},
   "outputs": [],
   "source": []
  },
  {
   "cell_type": "code",
   "execution_count": null,
   "metadata": {},
   "outputs": [],
   "source": []
  },
  {
   "cell_type": "code",
   "execution_count": null,
   "metadata": {},
   "outputs": [],
   "source": []
  },
  {
   "cell_type": "code",
   "execution_count": null,
   "metadata": {},
   "outputs": [],
   "source": []
  },
  {
   "cell_type": "code",
   "execution_count": null,
   "metadata": {},
   "outputs": [],
   "source": []
  },
  {
   "cell_type": "code",
   "execution_count": null,
   "metadata": {},
   "outputs": [],
   "source": []
  }
 ],
 "metadata": {
  "kernelspec": {
   "display_name": "base",
   "language": "python",
   "name": "python3"
  },
  "language_info": {
   "codemirror_mode": {
    "name": "ipython",
    "version": 3
   },
   "file_extension": ".py",
   "mimetype": "text/x-python",
   "name": "python",
   "nbconvert_exporter": "python",
   "pygments_lexer": "ipython3",
   "version": "3.10.10"
  },
  "orig_nbformat": 4
 },
 "nbformat": 4,
 "nbformat_minor": 2
}
