{
 "cells": [
  {
   "cell_type": "code",
   "execution_count": 145,
   "metadata": {},
   "outputs": [],
   "source": [
    "with open('data.txt','r') as f:\n",
    "    raw_text = f.read()"
   ]
  },
  {
   "cell_type": "code",
   "execution_count": 146,
   "metadata": {},
   "outputs": [
    {
     "name": "stdout",
     "output_type": "stream",
     "text": [
      "in the United States and\n",
      "most other parts of the world at no cost and with almost no restrictions\n",
      "wh\n"
     ]
    }
   ],
   "source": [
    "print(raw_text[100:200])"
   ]
  },
  {
   "cell_type": "code",
   "execution_count": 147,
   "metadata": {},
   "outputs": [
    {
     "name": "stdout",
     "output_type": "stream",
     "text": [
      "Total Number of characters: 92874\n"
     ]
    }
   ],
   "source": [
    "print(f\"Total Number of characters: {len(raw_text)}\")"
   ]
  },
  {
   "attachments": {},
   "cell_type": "markdown",
   "metadata": {},
   "source": [
    "## Word Tokenization"
   ]
  },
  {
   "cell_type": "code",
   "execution_count": 148,
   "metadata": {},
   "outputs": [
    {
     "data": {
      "text/plain": [
       "['dang',\n",
       " 'that;',\n",
       " ']',\n",
       " 'gauded',\n",
       " 'rest',\n",
       " 'sense',\n",
       " 'they',\n",
       " 'aces',\n",
       " 'SIMS',\n",
       " '“You--you',\n",
       " 'anxious-like',\n",
       " 'whatsoever',\n",
       " 'yelpin',\n",
       " 'stole',\n",
       " '“Two-bits',\n",
       " 'sleeve',\n",
       " 'Chamber',\n",
       " 'Perkins',\n",
       " 'see',\n",
       " 'lemon']"
      ]
     },
     "execution_count": 148,
     "metadata": {},
     "output_type": "execute_result"
    }
   ],
   "source": [
    "import re\n",
    "vocab = list(set([item.strip() for item in re.split(r'([,.”?/()\\'’]|\\s)',raw_text) if item.strip()]))\n",
    "vocab[:20]"
   ]
  },
  {
   "cell_type": "code",
   "execution_count": 149,
   "metadata": {},
   "outputs": [
    {
     "name": "stdout",
     "output_type": "stream",
     "text": [
      "Number of tokens::3361\n"
     ]
    }
   ],
   "source": [
    "## Creating token IDs\n",
    "idx2str = {idx:token for idx,token in enumerate(vocab)}\n",
    "idx2str[len(idx2str)] = \"<UNK>\"\n",
    "idx2str[len(idx2str)] = \"<|eot|>\"\n",
    "str2idx = {token:idx for idx,token in idx2str.items()}\n",
    "\n",
    "print(f\"Number of tokens::{len(idx2str)}\")"
   ]
  },
  {
   "cell_type": "code",
   "execution_count": 150,
   "metadata": {},
   "outputs": [],
   "source": [
    "## Creating a custom tokenizer class\n",
    "\n",
    "class CustomTokenizerV1():\n",
    "    def __init__(self, vocab, special_tokens = [\"<|eot|>\",\"<|cls|>\",\"<|sep|>\"]):\n",
    "        self.idx2str = {idx:token for idx,token in enumerate(vocab)}\n",
    "        ## adding special tokens\n",
    "        self.idx2str[len(self.idx2str)] = \"<|unk|>\"\n",
    "        for tok in special_tokens:\n",
    "            self.idx2str[len(self.idx2str)] = tok\n",
    "        self.str2idx = {token:idx for idx,token in self.idx2str.items()}\n",
    "        assert len(self.idx2str) == len(self.str2idx)\n",
    "        print(f\"Total Number of tokens::{len(self.idx2str)}\", end = \"\\n\\n\")\n",
    "        print(f\"-\"*10 + \" \"+ \"Special Tokens\" + \"-\"*10, end = '\\n\\n')\n",
    "        for tok in special_tokens:\n",
    "            print(f\"Token ID for {tok}::{self.str2idx[tok]}\")\n",
    "\n",
    "    def encode(self,seq):\n",
    "        preprocessed = [item.strip() for item in re.split(r'([,.”?/()\\'’]|\\s)',seq) if item.strip()]\n",
    "        tokenized = [self.str2idx.get(tok,self.str2idx.get(\"<|unk|>\")) for tok in preprocessed]\n",
    "        return tokenized\n",
    "\n",
    "    def decode(self, tok_seq):\n",
    "        text = ' '.join([self.idx2str.get(item) for item in tok_seq])\n",
    "        text = re.sub(r'([,.”?/()\\'’]|\\s)',r'\\1',text)\n",
    "        return text\n"
   ]
  },
  {
   "cell_type": "code",
   "execution_count": 151,
   "metadata": {},
   "outputs": [
    {
     "name": "stdout",
     "output_type": "stream",
     "text": [
      "Total Number of tokens::3363\n",
      "\n",
      "---------- Special Tokens----------\n",
      "\n",
      "Token ID for <|eot|>::3360\n",
      "Token ID for <|cls|>::3361\n",
      "Token ID for <|sep|>::3362\n"
     ]
    },
    {
     "data": {
      "text/plain": [
       "'How are you doing <|unk|> ?'"
      ]
     },
     "execution_count": 151,
     "metadata": {},
     "output_type": "execute_result"
    }
   ],
   "source": [
    "tokenizer = CustomTokenizerV1(vocab)\n",
    "seq = \"How are you doing charles?\"\n",
    "ids = tokenizer.encode(seq)\n",
    "tokenizer.decode(ids)\n",
    "\n"
   ]
  },
  {
   "cell_type": "code",
   "execution_count": 152,
   "metadata": {},
   "outputs": [
    {
     "name": "stdout",
     "output_type": "stream",
     "text": [
      "How\n",
      " are\n",
      " you\n",
      " doing\n",
      " char\n",
      "les\n",
      "?\n",
      "<|endoftext|>\n"
     ]
    }
   ],
   "source": [
    "## using sub-word tokenization from tiktoken (Byte Pair Encoding)\n",
    "import tiktoken\n",
    "tokenizer_subword = tiktoken.get_encoding(\"gpt2\")\n",
    "seq = \"How are you doing charles?<|endoftext|>\"\n",
    "ids = tokenizer_subword.encode(seq, allowed_special={\"<|endoftext|>\"})\n",
    "for id_ in ids:\n",
    "    print(tokenizer_subword.decode([id_]))\n"
   ]
  },
  {
   "attachments": {},
   "cell_type": "markdown",
   "metadata": {},
   "source": [
    "## BPE Encoding (Sub-Word Tokenization)"
   ]
  },
  {
   "cell_type": "code",
   "execution_count": 153,
   "metadata": {},
   "outputs": [
    {
     "name": "stdout",
     "output_type": "stream",
     "text": [
      "Total number of tokens post encoding::29698\n"
     ]
    }
   ],
   "source": [
    "\n",
    "with open('data.txt','r') as f:\n",
    "    raw_text = f.read()\n",
    "\n",
    "encoded = tokenizer_subword.encode(raw_text)\n",
    "print(f\"Total number of tokens post encoding::{len(encoded)}\")"
   ]
  },
  {
   "cell_type": "code",
   "execution_count": 154,
   "metadata": {},
   "outputs": [
    {
     "name": "stdout",
     "output_type": "stream",
     "text": [
      "train samples::[464, 4935, 20336, 46566, 286]\n",
      "test samples::[4935, 20336, 46566, 286, 1649]\n"
     ]
    }
   ],
   "source": [
    "context_size = 5\n",
    "X = encoded[:context_size]\n",
    "y = encoded[1:context_size+1]\n",
    "print(f\"train samples::{X}\")\n",
    "print(f\"test samples::{y}\")"
   ]
  },
  {
   "attachments": {},
   "cell_type": "markdown",
   "metadata": {},
   "source": [
    "## Creating DataLoader with Sub-Word tokenization"
   ]
  },
  {
   "cell_type": "code",
   "execution_count": 155,
   "metadata": {},
   "outputs": [],
   "source": [
    "from typing import Any\n",
    "from torch.utils.data import Dataset, DataLoader\n",
    "from torch import tensor, arange\n",
    "\n",
    "class GPTDatasetV1(Dataset):\n",
    "\n",
    "    def __init__(self, txt, context_size, stride, tokenizer):\n",
    "        self.input_ids = []\n",
    "        self.output_ids = []\n",
    "        ## tokenizing the entire text\n",
    "        token_ids = tokenizer.encode(txt, allowed_special={\"<|endoftext|>\"})\n",
    "        ## looping over the sequences\n",
    "        for i in range(0, len(token_ids) - context_size, stride):\n",
    "            input_chunk = token_ids[i:i+context_size]\n",
    "            target_chunk = token_ids[i+1:i+context_size+1]\n",
    "            self.input_ids.append(tensor(input_chunk))\n",
    "            self.output_ids.append(tensor(target_chunk))\n",
    "\n",
    "    def __len__(self):\n",
    "        return len(self.input_ids)\n",
    "\n",
    "    def __getitem__(self, idx):\n",
    "        return {\"x\":self.input_ids[idx],\n",
    "                \"y\":self.output_ids[idx]}\n",
    "\n",
    "\n",
    "def get_dataloader(txt, batch_size = 4, context_size = 1024, stride = 512,\n",
    "                   shuffle = True, drop_last = True, num_workers = 0):\n",
    "    '''Creates a dataloader object'''\n",
    "    ## loading the sub-word tokenizer\n",
    "    tokenizer = tiktoken.get_encoding(\"gpt2\")\n",
    "    ## creating dataset oject\n",
    "    dataset = GPTDatasetV1(txt, tokenizer=tokenizer,\n",
    "                           context_size=context_size, stride=stride)\n",
    "    ## creating the dataloader object\n",
    "    dataloader = DataLoader(dataset,batch_size=batch_size,\n",
    "                            drop_last=drop_last,\n",
    "                            num_workers=num_workers,\n",
    "                            shuffle = shuffle)\n",
    "    return dataloader"
   ]
  },
  {
   "cell_type": "code",
   "execution_count": 156,
   "metadata": {},
   "outputs": [],
   "source": [
    "loader = get_dataloader(raw_text, batch_size=8, \n",
    "                        context_size=1024, stride=512)\n"
   ]
  },
  {
   "cell_type": "code",
   "execution_count": 157,
   "metadata": {},
   "outputs": [
    {
     "name": "stdout",
     "output_type": "stream",
     "text": [
      "Input Tensor\n",
      "tensor([[10213,   351,  7322,  ...,  8151,   198,  9509],\n",
      "        [  314,   447,   247,  ...,   447,   247,    82],\n",
      "        [   11,   611,   484,  ...,   847,    82, 22752],\n",
      "        ...,\n",
      "        [ 9353,   286,   465,  ...,   259,   447,   247],\n",
      "        [  326, 20950,    11,  ...,  1561,   259,   447],\n",
      "        [ 2088,   287,    13,  ...,  1370,    13,   447]])\n",
      "Input Tensor Shape::torch.Size([8, 1024])\n",
      "--------------------\n",
      "Output Tensor\n",
      "tensor([[  351,  7322,   352,  ...,   198,  9509,  4565],\n",
      "        [  447,   247,    76,  ...,   247,    82,   331],\n",
      "        [  611,   484,  2492,  ...,    82, 22752,   263],\n",
      "        ...,\n",
      "        [  286,   465,  2832,  ...,   447,   247,    30],\n",
      "        [20950,    11,   447,  ...,   259,   447,   247],\n",
      "        [  287,    13,   314,  ...,    13,   447,   251]])\n",
      "Output Tensor Shape::torch.Size([8, 1024])\n"
     ]
    }
   ],
   "source": [
    "for batch in loader:\n",
    "    print(\"Input Tensor\",batch[\"x\"],f\"Input Tensor Shape::{batch['x'].shape}\",sep = \"\\n\")\n",
    "    print(\"--\"*10)\n",
    "    print(\"Output Tensor\",batch[\"y\"],f\"Output Tensor Shape::{batch['y'].shape}\",sep = \"\\n\")\n",
    "    break"
   ]
  },
  {
   "attachments": {},
   "cell_type": "markdown",
   "metadata": {},
   "source": [
    "## Token Embedding"
   ]
  },
  {
   "cell_type": "code",
   "execution_count": 158,
   "metadata": {},
   "outputs": [
    {
     "data": {
      "text/plain": [
       "torch.Size([50257, 768])"
      ]
     },
     "execution_count": 158,
     "metadata": {},
     "output_type": "execute_result"
    }
   ],
   "source": [
    "\n",
    "from torch.nn import Embedding, LSTM, RNN\n",
    "from torch.optim import Adam, RMSprop, SGD\n",
    "vocab_size = tokenizer_subword.n_vocab\n",
    "embedding_dim = 768\n",
    "\n",
    "embedding_layer = Embedding(vocab_size, embedding_dim)\n",
    "embedding_layer.weight.shape"
   ]
  },
  {
   "cell_type": "code",
   "execution_count": 159,
   "metadata": {},
   "outputs": [
    {
     "data": {
      "text/plain": [
       "torch.Size([1, 6, 768])"
      ]
     },
     "execution_count": 159,
     "metadata": {},
     "output_type": "execute_result"
    }
   ],
   "source": [
    "embedding_layer(tensor([[1,2,3, 9 ,8 ,22]])).shape"
   ]
  },
  {
   "cell_type": "code",
   "execution_count": 160,
   "metadata": {},
   "outputs": [
    {
     "data": {
      "text/plain": [
       "torch.Size([8, 1024, 768])"
      ]
     },
     "execution_count": 160,
     "metadata": {},
     "output_type": "execute_result"
    }
   ],
   "source": [
    "embedding_layer(batch['x']).shape"
   ]
  },
  {
   "attachments": {},
   "cell_type": "markdown",
   "metadata": {},
   "source": [
    "## Positional Embedding/Encoding"
   ]
  },
  {
   "cell_type": "code",
   "execution_count": 161,
   "metadata": {},
   "outputs": [],
   "source": [
    "## Positional Embeddings (Absolute Positional Encoding)\n",
    "context_size = 1024\n",
    "embedding_dim = 768\n",
    "pos_embedding_layer = Embedding(context_size, embedding_dim)"
   ]
  },
  {
   "cell_type": "code",
   "execution_count": 162,
   "metadata": {},
   "outputs": [
    {
     "data": {
      "text/plain": [
       "torch.Size([1024, 768])"
      ]
     },
     "execution_count": 162,
     "metadata": {},
     "output_type": "execute_result"
    }
   ],
   "source": [
    "pos_embedding_layer(arange(context_size)).shape"
   ]
  },
  {
   "cell_type": "code",
   "execution_count": 163,
   "metadata": {},
   "outputs": [
    {
     "name": "stdout",
     "output_type": "stream",
     "text": [
      "Embedding Shape::torch.Size([8, 1024, 768])\n",
      "Positional Embedding::torch.Size([1024, 768])\n",
      "Embeddings + Positional Embedding::torch.Size([8, 1024, 768])\n"
     ]
    }
   ],
   "source": [
    "embeddings = embedding_layer(batch['x'])\n",
    "print(f\"Embedding Shape::{embeddings.shape}\")\n",
    "pos_embeddings = pos_embedding_layer(arange(context_size))\n",
    "print(f\"Positional Embedding::{pos_embeddings.shape}\")\n",
    "final_input_embedding = embeddings + pos_embeddings\n",
    "print(f\"Embeddings + Positional Embedding::{final_input_embedding.shape}\") # this will be the input to the self attention layer"
   ]
  },
  {
   "attachments": {},
   "cell_type": "markdown",
   "metadata": {},
   "source": [
    "## Attention Mechanisms"
   ]
  },
  {
   "attachments": {},
   "cell_type": "markdown",
   "metadata": {},
   "source": [
    "### 1. Simplified Attention Mechanism **(No Trainable Weights)**\n",
    "- Converting **Embedding Vectors** to **Context Vectors**"
   ]
  },
  {
   "cell_type": "code",
   "execution_count": 164,
   "metadata": {},
   "outputs": [],
   "source": [
    "text = \"I see skies of green, red roses too\"\n",
    "token_ids = tokenizer_subword.encode(text)"
   ]
  },
  {
   "cell_type": "code",
   "execution_count": 165,
   "metadata": {},
   "outputs": [
    {
     "name": "stdout",
     "output_type": "stream",
     "text": [
      "Token IDs::[40, 766, 24091, 286, 4077, 11, 2266, 42152, 1165]\n",
      "Decoded Token IDs::I see skies of green, red roses too\n"
     ]
    }
   ],
   "source": [
    "print(f\"Token IDs::{token_ids}\")\n",
    "print(f\"Decoded Token IDs::{tokenizer_subword.decode(token_ids)}\")"
   ]
  },
  {
   "cell_type": "code",
   "execution_count": 166,
   "metadata": {},
   "outputs": [],
   "source": [
    "## Creating an embedding layer\n",
    "VOCAB_SIZE = tokenizer_subword.n_vocab # Vocab Size of the sub-word tokenizer\n",
    "EMBEDDING_SIZE = 3 # For Simplicity embedding each token into a 3-Dimensional Space\n",
    "embedding_layer = Embedding(VOCAB_SIZE, EMBEDDING_SIZE)"
   ]
  },
  {
   "cell_type": "code",
   "execution_count": 167,
   "metadata": {},
   "outputs": [
    {
     "data": {
      "text/plain": [
       "torch.Size([9, 3])"
      ]
     },
     "execution_count": 167,
     "metadata": {},
     "output_type": "execute_result"
    }
   ],
   "source": [
    "## Creating Embedding of our tokens\n",
    "embeddings = embedding_layer(tensor(token_ids))\n",
    "embeddings.shape"
   ]
  },
  {
   "cell_type": "code",
   "execution_count": 168,
   "metadata": {},
   "outputs": [
    {
     "name": "stdout",
     "output_type": "stream",
     "text": [
      "I --> [-0.6472748  0.8377666  1.2140747]\n",
      "see --> [ 1.1404505  0.428995  -0.677243 ]\n",
      "skies --> [ 1.250111    0.22392692 -0.02307102]\n",
      "of --> [-0.6941792 -0.595996   1.1745043]\n",
      "green --> [-0.5237728   0.80277544  0.690119  ]\n",
      ", --> [ 1.8169491   0.43056518 -0.2621332 ]\n",
      "red --> [ 1.6252327   0.8769036  -0.35437042]\n",
      "roses --> [-0.55545956 -0.3580691  -1.2126197 ]\n",
      "too --> [-1.2315537 -1.0304981  1.9863523]\n"
     ]
    }
   ],
   "source": [
    "embeddings = embeddings.detach().numpy().reshape(-1,3)\n",
    "for emb, tok in zip(embeddings,token_ids):\n",
    "    print(f\"{tokenizer_subword.decode([tok]).strip()} --> {emb}\")\n",
    "\n"
   ]
  },
  {
   "cell_type": "code",
   "execution_count": 169,
   "metadata": {},
   "outputs": [
    {
     "data": {
      "image/png": "[encoded data removed]",
      "text/plain": [
       "<Figure size 640x480 with 2 Axes>"
      ]
     },
     "metadata": {},
     "output_type": "display_data"
    },
    {
     "data": {
      "image/png": "[encoded data removed]",
      "text/plain": [
       "<Figure size 640x480 with 2 Axes>"
      ]
     },
     "metadata": {},
     "output_type": "display_data"
    }
   ],
   "source": [
    "import seaborn as sns\n",
    "import numpy as np\n",
    "from matplotlib import pyplot as plt\n",
    "\n",
    "def softmax(mat):\n",
    "    '''Softmax as implemented in pytorch'''\n",
    "    num_ =  np.exp(mat-np.max(mat, axis=1, keepdims=True))\n",
    "    denom_ = np.sum(num_, axis=1, keepdims=True)\n",
    "    return num_/denom_\n",
    "\n",
    "\n",
    "labels = [tokenizer_subword.decode([i]) for i in token_ids]\n",
    "attention_scores = embeddings @ embeddings.T\n",
    "# Normalizing the attention scores by dividing by sum of the corresponding rows\n",
    "normalized_attention_scores = attention_scores/np.sum(attention_scores, axis=1, keepdims=True)\n",
    "## Plotting the HeatMap for the Normalized Attention Scores\n",
    "sns.heatmap(normalized_attention_scores, annot=True, cmap='gray',\n",
    "            xticklabels=labels,\n",
    "            yticklabels=labels)\n",
    "plt.title(\"Normalized Attention Scores (Divison by Row Sum)\")\n",
    "plt.show();\n",
    "\n",
    "softmaxed_attention_scores = softmax(attention_scores)\n",
    "sns.heatmap(softmaxed_attention_scores, annot=True, cmap='gray',\n",
    "            xticklabels=labels,\n",
    "            yticklabels=labels)\n",
    "plt.title(\"Softmaxed Attention Scores\")\n",
    "plt.show();"
   ]
  },
  {
   "cell_type": "code",
   "execution_count": 170,
   "metadata": {},
   "outputs": [
    {
     "name": "stdout",
     "output_type": "stream",
     "text": [
      "I --> [-0.70500374  0.10888268  1.2571155 ]\n",
      "see --> [ 1.4242388   0.5272965  -0.33349913]\n",
      "skies --> [ 1.4086171   0.5118948  -0.25622582]\n",
      "of --> [-1.0505167  -0.76061726  1.7198049 ]\n",
      "green --> [-0.4720013   0.27069643  0.9893231 ]\n",
      ", --> [ 1.5581661   0.555983   -0.30891564]\n",
      "red --> [ 1.5427735   0.58163935 -0.31538153]\n",
      "roses --> [-0.13854852 -0.1191417  -0.7169856 ]\n",
      "too --> [-1.1864907  -0.96901417  1.9187    ]\n"
     ]
    }
   ],
   "source": [
    "context_embeddings = softmaxed_attention_scores @ embeddings\n",
    "for emb, tok in zip(context_embeddings,token_ids):\n",
    "    print(f\"{tokenizer_subword.decode([tok]).strip()} --> {emb}\")"
   ]
  },
  {
   "attachments": {},
   "cell_type": "markdown",
   "metadata": {},
   "source": [
    "#### Same stuff but using pytorch"
   ]
  },
  {
   "cell_type": "code",
   "execution_count": 171,
   "metadata": {},
   "outputs": [
    {
     "name": "stdout",
     "output_type": "stream",
     "text": [
      "I --> [-0.70500374  0.10888268  1.2571155 ]\n",
      "see --> [ 1.4242387  0.5272965 -0.3334991]\n",
      "skies --> [ 1.4086171  0.5118948 -0.2562258]\n",
      "of --> [-1.0505167  -0.76061726  1.7198049 ]\n",
      "green --> [-0.47200134  0.27069643  0.9893231 ]\n",
      ", --> [ 1.5581663   0.55598307 -0.30891564]\n",
      "red --> [ 1.5427731  0.5816393 -0.3153815]\n",
      "roses --> [-0.13854854 -0.11914169 -0.7169856 ]\n",
      "too --> [-1.1864907 -0.9690142  1.9187001]\n"
     ]
    }
   ],
   "source": [
    "import torch\n",
    "attn_scores = embeddings @ embeddings.T\n",
    "attn_weights = torch.softmax(tensor(attn_scores), dim = -1)\n",
    "context_embeddings = attn_weights @ embeddings\n",
    "for emb, tok in zip(context_embeddings,token_ids):\n",
    "    print(f\"{tokenizer_subword.decode([tok]).strip()} --> {emb.detach().numpy()}\")"
   ]
  },
  {
   "attachments": {},
   "cell_type": "markdown",
   "metadata": {},
   "source": [
    "#### We observe our calculations give us similar results"
   ]
  },
  {
   "attachments": {},
   "cell_type": "markdown",
   "metadata": {},
   "source": [
    "#### Why the need for Trainable Weights?"
   ]
  },
  {
   "attachments": {},
   "cell_type": "markdown",
   "metadata": {},
   "source": [
    "### 2. Self Attention Mechanism **(With Trainable Weights)**\n",
    "- Converting **Embedding Vectors** to **Context Vectors**\n",
    "- Creating *Query*, *Key* and *Value* matrices **(Trainable Weights)**"
   ]
  },
  {
   "cell_type": "code",
   "execution_count": 172,
   "metadata": {},
   "outputs": [],
   "source": [
    "torch.manual_seed(123)\n",
    "d_in = EMBEDDING_SIZE\n",
    "d_out = 2\n",
    "w_Q = torch.nn.Parameter(torch.rand(d_in, d_out), requires_grad=False)# Query Weight Matrix\n",
    "w_K = torch.nn.Parameter(torch.rand(d_in, d_out), requires_grad=False)# Key Weight Matrix\n",
    "w_V = torch.nn.Parameter(torch.rand(d_in, d_out), requires_grad=False)# Value Weight Matrix"
   ]
  },
  {
   "cell_type": "code",
   "execution_count": 173,
   "metadata": {},
   "outputs": [],
   "source": [
    "embeddings_tensors = tensor(embeddings)"
   ]
  },
  {
   "cell_type": "code",
   "execution_count": 174,
   "metadata": {},
   "outputs": [
    {
     "data": {
      "text/plain": [
       "tensor([[ 0.1090,  1.2945],\n",
       "        [ 0.3956,  0.2977],\n",
       "        [ 0.4248,  0.7800],\n",
       "        [-0.2687,  0.2488],\n",
       "        [ 0.0980,  0.8802],\n",
       "        [ 0.6270,  1.0079],\n",
       "        [ 0.6757,  1.1363],\n",
       "        [-0.3443, -1.5842],\n",
       "        [-0.4771,  0.3755]])"
      ]
     },
     "execution_count": 174,
     "metadata": {},
     "output_type": "execute_result"
    }
   ],
   "source": [
    "query = embeddings_tensors @ w_Q\n",
    "key = embeddings_tensors @ w_K\n",
    "value = embeddings_tensors @ w_V\n",
    "query"
   ]
  },
  {
   "attachments": {},
   "cell_type": "markdown",
   "metadata": {},
   "source": [
    "#### Can also be done in a different way"
   ]
  },
  {
   "cell_type": "code",
   "execution_count": 175,
   "metadata": {},
   "outputs": [
    {
     "name": "stdout",
     "output_type": "stream",
     "text": [
      "Inputs shape::torch.Size([9, 3])\n",
      "q_k_v shape::torch.Size([3, 6])\n",
      "Outputs shape::torch.Size([9, 6])\n"
     ]
    }
   ],
   "source": [
    "## concating query, key and value weights horizontally\n",
    "q_k_v = torch.concat([w_Q,w_K,w_V], dim = -1)\n",
    "print(f\"Inputs shape::{embeddings_tensors.shape}\")\n",
    "print(f\"q_k_v shape::{q_k_v.shape}\")\n",
    "outputs = embeddings_tensors@q_k_v\n",
    "print(f\"Outputs shape::{outputs.shape}\")"
   ]
  },
  {
   "cell_type": "code",
   "execution_count": 176,
   "metadata": {},
   "outputs": [
    {
     "data": {
      "text/plain": [
       "tensor([[ True,  True],\n",
       "        [ True,  True],\n",
       "        [ True,  True],\n",
       "        [ True,  True],\n",
       "        [ True,  True],\n",
       "        [ True,  True],\n",
       "        [ True,  True],\n",
       "        [ True,  True],\n",
       "        [ True, False]])"
      ]
     },
     "execution_count": 176,
     "metadata": {},
     "output_type": "execute_result"
    }
   ],
   "source": [
    "query_new, key_new, value_new = torch.hsplit(outputs,3)\n",
    "query_new==query"
   ]
  },
  {
   "cell_type": "code",
   "execution_count": 177,
   "metadata": {},
   "outputs": [
    {
     "name": "stdout",
     "output_type": "stream",
     "text": [
      "Context Vectors\n",
      "--------------------\n",
      "\n",
      "I --> [0.1912074 0.6567588]\n",
      "see --> [0.13980873 0.47482994]\n",
      "skies --> [0.16891165 0.5813366 ]\n",
      "of --> [0.11982574 0.39515424]\n",
      "green --> [0.16885857 0.5793228 ]\n",
      ", --> [0.1841225 0.6353627]\n",
      "red --> [0.1912325  0.65968496]\n",
      "roses --> [-0.07364208 -0.3796622 ]\n",
      "too --> [0.12353887 0.4082601 ]\n"
     ]
    }
   ],
   "source": [
    "attn_scores = query_new @ key_new.T\n",
    "scaled_attn_scores = attn_scores/torch.math.sqrt(w_K.shape[-1]) ## scaled attention scores\n",
    "attn_weights = torch.softmax(scaled_attn_scores, dim = -1)\n",
    "\n",
    "context_vectors = attn_weights @ value_new\n",
    "\n",
    "print(\"Context Vectors\", end = \"\\n\")\n",
    "print(\"--\"*10, end='\\n\\n')\n",
    "for emb, tok in zip(context_vectors,token_ids):\n",
    "    print(f\"{tokenizer_subword.decode([tok]).strip()} --> {emb.detach().numpy()}\")"
   ]
  },
  {
   "attachments": {},
   "cell_type": "markdown",
   "metadata": {},
   "source": [
    "#### Why we divide the attention scores by sqrt(key dimension)?\n",
    "1. **Stability in Learning**"
   ]
  },
  {
   "attachments": {},
   "cell_type": "markdown",
   "metadata": {},
   "source": [
    "### Causal Attention Layer"
   ]
  },
  {
   "cell_type": "code",
   "execution_count": 178,
   "metadata": {},
   "outputs": [],
   "source": [
    "CONTEXT_SIZE = 5\n",
    "inp_text = \"Hello How are you?\"\n",
    "embedding_layer = Embedding(tokenizer_subword.n_vocab, 768)\n",
    "pos_embedding_layer = Embedding(CONTEXT_SIZE, 768)\n",
    "inp_tok =tokenizer_subword.encode(inp_text)\n",
    "embeddings = embedding_layer(tensor([inp_tok]))\n",
    "pos_emb = pos_embedding_layer(torch.arange(tensor(embeddings.shape[1])))\n",
    "inp_embedding = embeddings + pos_emb\n"
   ]
  },
  {
   "cell_type": "code",
   "execution_count": 179,
   "metadata": {},
   "outputs": [],
   "source": [
    "class CausalAttention(torch.nn.Module):\n",
    "    def __init__(self, d_in, d_out,context_length,\n",
    "                 dropout = 0, q_k_v_bias = False,\n",
    "                 causal_mask = True):\n",
    "        super().__init__()\n",
    "        self.W_query = torch.nn.Parameter(torch.rand(d_in, d_out))\n",
    "        self.W_key = torch.nn.Parameter(torch.rand(d_in, d_out))\n",
    "        self.W_value = torch.nn.Parameter(torch.rand(d_in, d_out))\n",
    "        self.dropout = torch.nn.Dropout(dropout)\n",
    "        self.causal_mask = causal_mask\n",
    "        self.register_buffer('mask', torch.triu(torch.ones(context_length,context_length),diagonal=1))\n",
    "\n",
    "    def forward(self, x):\n",
    "        # batch, seq_len, d_in = x.shape\n",
    "        q_k_v =  torch.concat([self.W_query,self.W_key,self.W_value],dim = -1)\n",
    "        # print(f\"q_k_v shape: {q_k_v.shape}\")\n",
    "        combined_transform = x @ q_k_v\n",
    "        # print(f\"combined_transform shape: {combined_transform.shape}\")\n",
    "        query, key, value = torch.split(combined_transform,self.W_key.shape[-1], dim=2)\n",
    "        attn_weights = query @ key.transpose(1,2) # (batch X seq_len X seq_len)\n",
    "        if self.causal_mask:\n",
    "            attn_weights = attn_weights.masked_fill(self.mask.bool(),-torch.inf)\n",
    "        scaled_attn_weights = attn_weights/key.shape[-1]**0.5\n",
    "        attn_scores = self.dropout(torch.softmax(scaled_attn_weights, dim=-1))\n",
    "        return {\"context_vectors\": attn_scores @ value,\n",
    "                \"attn_scores\": attn_scores} # context rich vectors (batch X seq_len X embedding_dim)\n"
   ]
  },
  {
   "cell_type": "code",
   "execution_count": 180,
   "metadata": {},
   "outputs": [],
   "source": [
    "# inp_embedding = torch.concat([inp_embedding]*5, dim = 0)\n",
    "c_attn = CausalAttention(*(768,768,5), causal_mask=True)\n",
    "# c_attn(inp_embedding)"
   ]
  },
  {
   "cell_type": "code",
   "execution_count": 181,
   "metadata": {},
   "outputs": [
    {
     "name": "stdout",
     "output_type": "stream",
     "text": [
      "torch.Size([768, 768])\n",
      "torch.Size([768, 768])\n",
      "torch.Size([768, 768])\n"
     ]
    }
   ],
   "source": [
    "for param in c_attn.parameters():\n",
    "    print(param.shape)"
   ]
  },
  {
   "cell_type": "code",
   "execution_count": 182,
   "metadata": {},
   "outputs": [
    {
     "data": {
      "text/plain": [
       "{'context_vectors': tensor([[[  2.3038,  -6.3534,   0.2914,  ...,  -6.2244,   9.5452,  -8.3201],\n",
       "          [  2.3038,  -6.3534,   0.2914,  ...,  -6.2244,   9.5452,  -8.3201],\n",
       "          [ 37.6857,  25.8231,  17.3346,  ...,  21.4372,  28.7299,  36.8135],\n",
       "          [ 37.6857,  25.8231,  17.3346,  ...,  21.4372,  28.7299,  36.8135],\n",
       "          [-34.3452, -44.6836, -41.2677,  ..., -44.9336, -21.9690, -32.7346]]],\n",
       "        grad_fn=<UnsafeViewBackward0>),\n",
       " 'attn_scores': tensor([[[1., 0., 0., 0., 0.],\n",
       "          [1., 0., 0., 0., 0.],\n",
       "          [0., 0., 1., 0., 0.],\n",
       "          [0., 0., 1., 0., 0.],\n",
       "          [0., 0., 0., 0., 1.]]], grad_fn=<SoftmaxBackward0>)}"
      ]
     },
     "execution_count": 182,
     "metadata": {},
     "output_type": "execute_result"
    }
   ],
   "source": [
    "c_attn(inp_embedding)"
   ]
  },
  {
   "attachments": {},
   "cell_type": "markdown",
   "metadata": {},
   "source": [
    "### Muti Head Attention"
   ]
  },
  {
   "cell_type": "code",
   "execution_count": 201,
   "metadata": {},
   "outputs": [],
   "source": [
    "## applies heads sequentially\n",
    "class MultiHeadAttentionWrapper(torch.nn.Module):\n",
    "    def __init__(self, d_in, d_out,context_length, num_heads, dropout = 0.0, q_k_v_bias = False):\n",
    "        super().__init__()\n",
    "        self.out_layer = torch.nn.Parameter(torch.rand(num_heads * d_out, d_out))\n",
    "        self.heads = torch.nn.ModuleList([CausalAttention(d_in, d_out,context_length) for _ in range(num_heads)])\n",
    "    def forward(self, x):\n",
    "        concated_context_vecs = torch.concat([head(x)['context_vectors'] for head in self.heads], dim=-1)\n",
    "        return concated_context_vecs @ self.out_layer\n"
   ]
  },
  {
   "cell_type": "code",
   "execution_count": 184,
   "metadata": {},
   "outputs": [],
   "source": [
    "multi_attn = MultiHeadAttentionWrapper(768,3,5,10, dropout=0.5)"
   ]
  },
  {
   "cell_type": "code",
   "execution_count": 185,
   "metadata": {},
   "outputs": [
    {
     "data": {
      "text/plain": [
       "torch.Size([1, 5, 30])"
      ]
     },
     "execution_count": 185,
     "metadata": {},
     "output_type": "execute_result"
    }
   ],
   "source": [
    "out_ = multi_attn(inp_embedding)\n",
    "out_.shape"
   ]
  },
  {
   "attachments": {},
   "cell_type": "markdown",
   "metadata": {},
   "source": [
    "#### Improving the MultiHead Attention By implementing the heads parallely"
   ]
  },
  {
   "cell_type": "code",
   "execution_count": 210,
   "metadata": {},
   "outputs": [],
   "source": [
    "class MultiHeadAttention(torch.nn.Module):\n",
    "    def __init__(self, d_in, d_out, context_length, num_heads,dropout = 0.0, causal_mask = True):\n",
    "        super().__init__()\n",
    "        self.num_heads = num_heads\n",
    "        self.d_out = d_out\n",
    "        self.W_query = torch.nn.Parameter(torch.rand(d_in, num_heads * d_out, dtype=torch.float32))\n",
    "        self.W_key = torch.nn.Parameter(torch.rand(d_in, num_heads * d_out, dtype=torch.float32))\n",
    "        self.W_value = torch.nn.Parameter(torch.rand(d_in, num_heads * d_out, dtype=torch.float32))\n",
    "        self.dropout = torch.nn.Dropout(dropout)\n",
    "        self.out_project = torch.nn.Parameter(torch.rand(num_heads *d_out, d_out, dtype=torch.float32))\n",
    "        self.causal_mask = causal_mask\n",
    "        self.register_buffer('mask', torch.triu(torch.ones(context_length,context_length),diagonal=1))\n",
    "\n",
    "    def forward(self, x):\n",
    "        batch_size, seq_len, d_in = x.shape\n",
    "        # q_k_v =  torch.concat([self.W_query,self.W_key,self.W_value],dim = -1)\n",
    "        queries = x @ self.W_query\n",
    "        keys = x @ self.W_key\n",
    "        values = x @ self.W_value\n",
    "\n",
    "        # Reshape for multi-head attention\n",
    "        queries = queries.view(batch_size, seq_len, self.num_heads, self.d_out)\n",
    "        keys = keys.view(batch_size, seq_len, self.num_heads, self.d_out)\n",
    "        values = values.view(batch_size, seq_len, self.num_heads, self.d_out)\n",
    "\n",
    "        # Transpose the shapes (Grouping with respect to number of heads)\n",
    "        queries = queries.transpose(1,2)# (batch X num_heads X seq_len X d_out)\n",
    "        keys = keys.transpose(1,2)# (batch X num_heads X seq_len X d_out)\n",
    "        values = values.transpose(1,2)# (batch X num_heads X seq_len X d_out)\n",
    "\n",
    "        # Calculating Attention Scores\n",
    "        attn_weights = queries @ keys.transpose(2,3) # (batch X num_heads X seq_len X seq_len)\n",
    "\n",
    "        # Adding the Causal Mask\n",
    "        if self.causal_mask:\n",
    "            attn_weights = attn_weights.masked_fill(self.mask.bool(),-torch.inf)# (batch X num_heads X seq_len X seq_len)\n",
    "\n",
    "        # Scaling and Softmax the atten scores\n",
    "        scaled_attn_weights = attn_weights/keys.shape[-1]**0.5# (batch X num_heads X seq_len X seq_len)\n",
    "        attn_scores = self.dropout(torch.softmax(scaled_attn_weights, dim=-1))# (batch X num_heads X seq_len X seq_len)\n",
    "        print(f\"Attention Shape::{attn_scores.shape}\")\n",
    "        print(f\"Max val in attn score matrix:: {attn_scores.max().detach().numpy()}\")\n",
    "        context_vectors = (attn_scores @ values).transpose(1,2)# (batch X seq_len X num_heads X d_out)\n",
    "        concated_context_vectors = context_vectors.contiguous().view(batch_size,seq_len,-1)# (batch X seq_len X num_heads * d_out)\n",
    "        context_vectors = concated_context_vectors @ self.out_project# (batch X seq_len X d_out)\n",
    "        return {\"context_vectors\": context_vectors,\n",
    "                \"attn_scores\": attn_scores} # context vectors (batch X seq_len X embedding_dim)\n",
    "                                            # attn_scores (batch X num_heads X seq_len X seq_len)\n",
    "\n"
   ]
  },
  {
   "cell_type": "code",
   "execution_count": 211,
   "metadata": {},
   "outputs": [
    {
     "data": {
      "text/plain": [
       "torch.Size([1, 5, 768])"
      ]
     },
     "execution_count": 211,
     "metadata": {},
     "output_type": "execute_result"
    }
   ],
   "source": [
    "inp_embedding.shape"
   ]
  },
  {
   "cell_type": "code",
   "execution_count": 212,
   "metadata": {},
   "outputs": [
    {
     "data": {
      "text/plain": [
       "torch.Size([10, 5, 768])"
      ]
     },
     "execution_count": 212,
     "metadata": {},
     "output_type": "execute_result"
    }
   ],
   "source": [
    "# making batch size = 5\n",
    "inp_embedding_new = torch.concat([inp_embedding]*10, dim =0)\n",
    "inp_embedding_new += torch.rand(size = (inp_embedding_new.shape)) # making values in each batch different\n",
    "inp_embedding_new.shape"
   ]
  },
  {
   "cell_type": "code",
   "execution_count": 215,
   "metadata": {},
   "outputs": [],
   "source": [
    "multi_attn = MultiHeadAttention(d_in=768,\n",
    "                                d_out = 751,\n",
    "                                num_heads=2,\n",
    "                                context_length=5,\n",
    "                                dropout=0.0)"
   ]
  },
  {
   "cell_type": "code",
   "execution_count": 216,
   "metadata": {},
   "outputs": [
    {
     "name": "stdout",
     "output_type": "stream",
     "text": [
      "Attention Shape::torch.Size([10, 2, 5, 5])\n",
      "Max val in attn score matrix:: 1.0\n"
     ]
    },
    {
     "data": {
      "text/plain": [
       "torch.Size([10, 5, 751])"
      ]
     },
     "execution_count": 216,
     "metadata": {},
     "output_type": "execute_result"
    }
   ],
   "source": [
    "multi_attn(inp_embedding_new)['context_vectors'].shape"
   ]
  },
  {
   "cell_type": "code",
   "execution_count": 191,
   "metadata": {},
   "outputs": [
    {
     "name": "stdout",
     "output_type": "stream",
     "text": [
      "Attention Shape::torch.Size([10, 2, 5, 5])\n"
     ]
    }
   ],
   "source": [
    "attn_scores = multi_attn(inp_embedding_new)['attn_scores']"
   ]
  },
  {
   "cell_type": "code",
   "execution_count": 192,
   "metadata": {},
   "outputs": [
    {
     "data": {
      "text/plain": [
       "torch.Size([10, 2, 5, 5])"
      ]
     },
     "execution_count": 192,
     "metadata": {},
     "output_type": "execute_result"
    }
   ],
   "source": [
    "(attn_scores.shape)"
   ]
  },
  {
   "cell_type": "code",
   "execution_count": null,
   "metadata": {},
   "outputs": [],
   "source": [
    "batch_size, num_heads, _, _= attn_scores.shape\n",
    "for batch in range(batch_size):\n",
    "    for head in range(num_heads):\n",
    "        sns.heatmap(attn_scores[batch, head,:,:].detach())\n",
    "        plt.title(f\"BATCH::{batch+1} | HEAD::{head + 1}\")\n",
    "        plt.show()"
   ]
  },
  {
   "attachments": {},
   "cell_type": "markdown",
   "metadata": {},
   "source": [
    "### GPT 2 Model"
   ]
  },
  {
   "cell_type": "code",
   "execution_count": 271,
   "metadata": {},
   "outputs": [],
   "source": [
    "# configuration dictionary\n",
    "GPT2_CONFIG = {\n",
    "                \"vocab_size\":50257,\n",
    "                \"context_len\":1024,\n",
    "                \"embedding_dim\":768,\n",
    "                \"dropout_rate\":0.0,\n",
    "                \"n_layers\":12,\n",
    "                \"n_heads\":12,\n",
    "                \"q_k_v_bias\":False\n",
    "              }"
   ]
  },
  {
   "cell_type": "code",
   "execution_count": 282,
   "metadata": {},
   "outputs": [],
   "source": [
    "class DummyGPT2(torch.nn.Module):\n",
    "    def __init__(self, config):\n",
    "        super().__init__()\n",
    "        self.config = config\n",
    "        self.emb_layer = torch.nn.Embedding(self.config.get('vocab_size'),\n",
    "                                            self.config.get('embedding_dim'))\n",
    "        self.pos_enc_layer = torch.nn.Embedding(self.config.get(\"context_len\"),\n",
    "                                                self.config.get(\"embedding_dim\"))\n",
    "        self.drop_emb_layer = torch.nn.Dropout(self.config.get('dropout_rate'))\n",
    "\n",
    "        # Transformer Blocks\n",
    "        self.trf_blocks = torch.nn.Sequential(*[DummyTransformerlock(GPT2_CONFIG) \\\n",
    "                                                for _ in range(self.config.get(\"n_layers\"))])\n",
    "        # LayerNorm\n",
    "        self.final_norm = DummyLayerNorm(GPT2_CONFIG)\n",
    "\n",
    "        # output head\n",
    "        self.out_head = torch.nn.Linear(self.config.get(\"embedding_dim\"),\n",
    "                                        self.config.get(\"vocab_size\"))\n",
    "\n",
    "    def forward(self, inp_):\n",
    "        batch_size, seq_len = inp_.shape\n",
    "        tok_emb = self.emb_layer(inp_)\n",
    "        pos_emb = self.pos_enc_layer(torch.arange(seq_len, device = inp_.device))\n",
    "        inp_emb = tok_emb + pos_emb\n",
    "        inp_emb = self.drop_emb_layer(inp_emb)\n",
    "        x = self.trf_blocks(inp_emb)\n",
    "        x = self.final_norm(x)\n",
    "        logits = self.out_head(x) # (batch_size X seq_len X vocab_size)\n",
    "        return logits\n",
    "\n",
    "\n",
    "\n",
    "class DummyTransformerlock(torch.nn.Module):\n",
    "    def __init__(self, config):\n",
    "        super().__init__()\n",
    "        pass\n",
    "    def forward(self, x):\n",
    "        ## TODO:: add code\n",
    "        return x\n",
    "\n",
    "class DummyLayerNorm(torch.nn.Module):\n",
    "    def __init__(self, config):\n",
    "        super().__init__()\n",
    "        pass\n",
    "    def forward(self, x):\n",
    "        return x\n"
   ]
  },
  {
   "cell_type": "code",
   "execution_count": 283,
   "metadata": {},
   "outputs": [],
   "source": [
    "gpt_model = DummyGPT2(GPT2_CONFIG)"
   ]
  },
  {
   "cell_type": "code",
   "execution_count": 284,
   "metadata": {},
   "outputs": [
    {
     "data": {
      "text/plain": [
       "DummyGPT2(\n",
       "  (emb_layer): Embedding(50257, 768)\n",
       "  (pos_enc_layer): Embedding(1024, 768)\n",
       "  (drop_emb_layer): Dropout(p=0.0, inplace=False)\n",
       "  (trf_blocks): Sequential(\n",
       "    (0): DummyTransformerlock()\n",
       "    (1): DummyTransformerlock()\n",
       "    (2): DummyTransformerlock()\n",
       "    (3): DummyTransformerlock()\n",
       "    (4): DummyTransformerlock()\n",
       "    (5): DummyTransformerlock()\n",
       "    (6): DummyTransformerlock()\n",
       "    (7): DummyTransformerlock()\n",
       "    (8): DummyTransformerlock()\n",
       "    (9): DummyTransformerlock()\n",
       "    (10): DummyTransformerlock()\n",
       "    (11): DummyTransformerlock()\n",
       "  )\n",
       "  (final_norm): DummyLayerNorm()\n",
       "  (out_head): Linear(in_features=768, out_features=50257, bias=True)\n",
       ")"
      ]
     },
     "execution_count": 284,
     "metadata": {},
     "output_type": "execute_result"
    }
   ],
   "source": [
    "gpt_model"
   ]
  },
  {
   "cell_type": "code",
   "execution_count": 285,
   "metadata": {},
   "outputs": [],
   "source": [
    "import torchinfo"
   ]
  },
  {
   "cell_type": "code",
   "execution_count": 286,
   "metadata": {},
   "outputs": [
    {
     "data": {
      "text/plain": [
       "=================================================================\n",
       "Layer (type:depth-idx)                   Param #\n",
       "=================================================================\n",
       "DummyGPT2                                --\n",
       "├─Embedding: 1-1                         38,597,376\n",
       "├─Embedding: 1-2                         786,432\n",
       "├─Dropout: 1-3                           --\n",
       "├─Sequential: 1-4                        --\n",
       "│    └─DummyTransformerlock: 2-1         --\n",
       "│    └─DummyTransformerlock: 2-2         --\n",
       "│    └─DummyTransformerlock: 2-3         --\n",
       "│    └─DummyTransformerlock: 2-4         --\n",
       "│    └─DummyTransformerlock: 2-5         --\n",
       "│    └─DummyTransformerlock: 2-6         --\n",
       "│    └─DummyTransformerlock: 2-7         --\n",
       "│    └─DummyTransformerlock: 2-8         --\n",
       "│    └─DummyTransformerlock: 2-9         --\n",
       "│    └─DummyTransformerlock: 2-10        --\n",
       "│    └─DummyTransformerlock: 2-11        --\n",
       "│    └─DummyTransformerlock: 2-12        --\n",
       "├─DummyLayerNorm: 1-5                    --\n",
       "├─Linear: 1-6                            38,647,633\n",
       "=================================================================\n",
       "Total params: 78,031,441\n",
       "Trainable params: 78,031,441\n",
       "Non-trainable params: 0\n",
       "================================================================="
      ]
     },
     "execution_count": 286,
     "metadata": {},
     "output_type": "execute_result"
    }
   ],
   "source": [
    "torchinfo.summary(gpt_model)"
   ]
  },
  {
   "cell_type": "code",
   "execution_count": 269,
   "metadata": {},
   "outputs": [
    {
     "data": {
      "text/plain": [
       "torch.Size([3, 4, 50257])"
      ]
     },
     "execution_count": 269,
     "metadata": {},
     "output_type": "execute_result"
    }
   ],
   "source": [
    "text = [\"Hello How are you\",\n",
    "        \"Hey are you thirsty\",\n",
    "        \"DO your best buddy\"]\n",
    "# have made sure that each batch has 4 tokens\n",
    "# if not that needs to be handeled using padding\n",
    "inp_tokens = tokenizer_subword.encode_batch(text)\n",
    "gpt_model(torch.tensor(inp_tokens)).shape"
   ]
  },
  {
   "cell_type": "code",
   "execution_count": null,
   "metadata": {},
   "outputs": [],
   "source": []
  },
  {
   "cell_type": "code",
   "execution_count": null,
   "metadata": {},
   "outputs": [],
   "source": []
  },
  {
   "cell_type": "code",
   "execution_count": null,
   "metadata": {},
   "outputs": [],
   "source": []
  },
  {
   "cell_type": "code",
   "execution_count": null,
   "metadata": {},
   "outputs": [],
   "source": []
  },
  {
   "cell_type": "code",
   "execution_count": null,
   "metadata": {},
   "outputs": [],
   "source": []
  },
  {
   "cell_type": "code",
   "execution_count": null,
   "metadata": {},
   "outputs": [],
   "source": []
  }
 ],
 "metadata": {
  "kernelspec": {
   "display_name": "base",
   "language": "python",
   "name": "python3"
  },
  "language_info": {
   "codemirror_mode": {
    "name": "ipython",
    "version": 3
   },
   "file_extension": ".py",
   "mimetype": "text/x-python",
   "name": "python",
   "nbconvert_exporter": "python",
   "pygments_lexer": "ipython3",
   "version": "3.10.10"
  },
  "orig_nbformat": 4
 },
 "nbformat": 4,
 "nbformat_minor": 2
}
